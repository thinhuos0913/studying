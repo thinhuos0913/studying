{
  "nbformat": 4,
  "nbformat_minor": 0,
  "metadata": {
    "colab": {
      "name": "VCB_Stock.ipynb",
      "provenance": [],
      "collapsed_sections": []
    },
    "kernelspec": {
      "name": "python3",
      "display_name": "Python 3"
    },
    "language_info": {
      "name": "python"
    }
  },
  "cells": [
    {
      "cell_type": "code",
      "metadata": {
        "colab": {
          "base_uri": "https://localhost:8080/"
        },
        "id": "MJtIhwqK_L-N",
        "outputId": "ef4a7f9f-fa8c-42da-cc18-0347277ac282"
      },
      "source": [
        "%tensorflow_version 1.x\n",
        "import tensorflow as tf\n",
        "print(tf.__version__)"
      ],
      "execution_count": 1,
      "outputs": [
        {
          "output_type": "stream",
          "name": "stdout",
          "text": [
            "TensorFlow 1.x selected.\n",
            "1.15.2\n"
          ]
        }
      ]
    },
    {
      "cell_type": "code",
      "metadata": {
        "id": "G988CxUS_d9a"
      },
      "source": [
        "import os\n",
        "\n",
        "path = '/content/drive/MyDrive/Deep Learning/VCB_Stock_Predict'\n",
        "os.chdir(path)"
      ],
      "execution_count": 2,
      "outputs": []
    },
    {
      "cell_type": "code",
      "metadata": {
        "colab": {
          "base_uri": "https://localhost:8080/"
        },
        "id": "ewpTF7v-_mg1",
        "outputId": "fd0a1bbe-a6e2-4f81-ff6a-63963710678c"
      },
      "source": [
        "# Import necessary libs\n",
        "import numpy as np\n",
        "import matplotlib.pyplot as plt\n",
        "import pandas as pd\n",
        "import os.path\n",
        "from os import path\n",
        "from keras.models import Sequential\n",
        "from keras.layers import Dense\n",
        "from keras.layers import LSTM\n",
        "from keras.layers import Dropout"
      ],
      "execution_count": 3,
      "outputs": [
        {
          "output_type": "stream",
          "name": "stderr",
          "text": [
            "Using TensorFlow backend.\n"
          ]
        }
      ]
    },
    {
      "cell_type": "code",
      "metadata": {
        "id": "YP6VRGoR_3XJ"
      },
      "source": [
        "# Read train data (2009->2018)\n",
        "dataset_train = pd.read_csv('vcb_2009_2018.csv')\n",
        "training_set = dataset_train.iloc[:, 1:2].values\n",
        "print(training_set.shape)\n",
        "training_set"
      ],
      "execution_count": null,
      "outputs": []
    },
    {
      "cell_type": "code",
      "metadata": {
        "colab": {
          "base_uri": "https://localhost:8080/"
        },
        "id": "e5p9ZU7vAAI1",
        "outputId": "ebb955b0-3170-4b7a-c669-74796ba3a0d6"
      },
      "source": [
        "# Scale dat into (0,1)\n",
        "from sklearn.preprocessing import MinMaxScaler\n",
        "sc = MinMaxScaler(feature_range = (0, 1))\n",
        "training_set_scaled = sc.fit_transform(training_set)\n",
        "print(training_set_scaled.shape)\n",
        "training_set_scaled[:10]"
      ],
      "execution_count": 9,
      "outputs": [
        {
          "output_type": "stream",
          "name": "stdout",
          "text": [
            "(2374, 1)\n"
          ]
        },
        {
          "output_type": "execute_result",
          "data": {
            "text/plain": [
              "array([[0.73417722],\n",
              "       [0.74321881],\n",
              "       [0.69801085],\n",
              "       [0.66184448],\n",
              "       [0.70705244],\n",
              "       [0.67088608],\n",
              "       [0.65280289],\n",
              "       [0.62567812],\n",
              "       [0.58047016],\n",
              "       [0.53526221]])"
            ]
          },
          "metadata": {},
          "execution_count": 9
        }
      ]
    },
    {
      "cell_type": "code",
      "metadata": {
        "colab": {
          "base_uri": "https://localhost:8080/"
        },
        "id": "QYdS0YRHAQ8h",
        "outputId": "c45c729d-f813-4ff6-9bd1-1cd361e2d632"
      },
      "source": [
        "# Create training data, X = 60 days time steps, y =  1 day time step\n",
        "X_train = []\n",
        "y_train = []\n",
        "no_of_sample = len(training_set)\n",
        "print(no_of_sample)\n",
        "\n",
        "for i in range(60, no_of_sample):\n",
        "    X_train.append(training_set_scaled[i-60:i, 0])\n",
        "    y_train.append(training_set_scaled[i, 0])\n",
        "\n",
        "X_train, y_train = np.array(X_train), np.array(y_train)\n",
        "print(X_train.shape, y_train.shape)\n",
        "X_train = np.reshape(X_train, (X_train.shape[0], X_train.shape[1], 1))\n",
        "print(X_train.shape)"
      ],
      "execution_count": 10,
      "outputs": [
        {
          "output_type": "stream",
          "name": "stdout",
          "text": [
            "2374\n",
            "(2314, 60) (2314,)\n",
            "(2314, 60, 1)\n"
          ]
        }
      ]
    },
    {
      "cell_type": "code",
      "metadata": {
        "colab": {
          "base_uri": "https://localhost:8080/"
        },
        "id": "--Hltx91Asig",
        "outputId": "5905f8c2-92a2-4c91-fd4d-7bde703ef4eb"
      },
      "source": [
        "# Build LSTM model\n",
        "regressor = Sequential()\n",
        "regressor.add(LSTM(units = 50, return_sequences = True, input_shape = (X_train.shape[1], 1)))\n",
        "regressor.add(Dropout(0.2))\n",
        "regressor.add(LSTM(units = 50, return_sequences = True))\n",
        "regressor.add(Dropout(0.2))\n",
        "regressor.add(LSTM(units = 50, return_sequences = True))\n",
        "regressor.add(Dropout(0.2))\n",
        "regressor.add(LSTM(units = 50))\n",
        "regressor.add(Dropout(0.2))\n",
        "regressor.add(Dense(units = 1))\n",
        "regressor.compile(optimizer = 'adam', loss = 'mean_squared_error')\n",
        "\n",
        "# Load file model if it existed\n",
        "if path.exists(\"mymodel.h5\"):\n",
        "    regressor.load_weights(\"mymodel.h5\")\n",
        "else:\n",
        "    # If not exist file model, train!\n",
        "    regressor.fit(X_train, y_train, epochs = 100, batch_size = 32)\n",
        "    regressor.save(\"mymodel.h5\")\n"
      ],
      "execution_count": 12,
      "outputs": [
        {
          "output_type": "stream",
          "name": "stdout",
          "text": [
            "WARNING:tensorflow:From /tensorflow-1.15.2/python3.7/keras/backend/tensorflow_backend.py:422: The name tf.global_variables is deprecated. Please use tf.compat.v1.global_variables instead.\n",
            "\n",
            "Epoch 1/100\n",
            "2314/2314 [==============================] - 11s 5ms/step - loss: 0.0136\n",
            "Epoch 2/100\n",
            "2314/2314 [==============================] - 10s 4ms/step - loss: 0.0042\n",
            "Epoch 3/100\n",
            "2314/2314 [==============================] - 10s 4ms/step - loss: 0.0040\n",
            "Epoch 4/100\n",
            "2314/2314 [==============================] - 10s 4ms/step - loss: 0.0038\n",
            "Epoch 5/100\n",
            "2314/2314 [==============================] - 10s 4ms/step - loss: 0.0037\n",
            "Epoch 6/100\n",
            "2314/2314 [==============================] - 10s 4ms/step - loss: 0.0029\n",
            "Epoch 7/100\n",
            "2314/2314 [==============================] - 10s 4ms/step - loss: 0.0030\n",
            "Epoch 8/100\n",
            "2314/2314 [==============================] - 10s 4ms/step - loss: 0.0033\n",
            "Epoch 9/100\n",
            "2314/2314 [==============================] - 10s 4ms/step - loss: 0.0027\n",
            "Epoch 10/100\n",
            "2314/2314 [==============================] - 10s 4ms/step - loss: 0.0025\n",
            "Epoch 11/100\n",
            "2314/2314 [==============================] - 10s 4ms/step - loss: 0.0026\n",
            "Epoch 12/100\n",
            "2314/2314 [==============================] - 10s 4ms/step - loss: 0.0023\n",
            "Epoch 13/100\n",
            "2314/2314 [==============================] - 10s 4ms/step - loss: 0.0023\n",
            "Epoch 14/100\n",
            "2314/2314 [==============================] - 10s 4ms/step - loss: 0.0022\n",
            "Epoch 15/100\n",
            "2314/2314 [==============================] - 10s 4ms/step - loss: 0.0018\n",
            "Epoch 16/100\n",
            "2314/2314 [==============================] - 10s 4ms/step - loss: 0.0018\n",
            "Epoch 17/100\n",
            "2314/2314 [==============================] - 10s 4ms/step - loss: 0.0018\n",
            "Epoch 18/100\n",
            "2314/2314 [==============================] - 10s 4ms/step - loss: 0.0017\n",
            "Epoch 19/100\n",
            "2314/2314 [==============================] - 10s 4ms/step - loss: 0.0018\n",
            "Epoch 20/100\n",
            "2314/2314 [==============================] - 10s 4ms/step - loss: 0.0017\n",
            "Epoch 21/100\n",
            "2314/2314 [==============================] - 10s 4ms/step - loss: 0.0018\n",
            "Epoch 22/100\n",
            "2314/2314 [==============================] - 10s 4ms/step - loss: 0.0015\n",
            "Epoch 23/100\n",
            "2314/2314 [==============================] - 10s 4ms/step - loss: 0.0014\n",
            "Epoch 24/100\n",
            "2314/2314 [==============================] - 10s 4ms/step - loss: 0.0015\n",
            "Epoch 25/100\n",
            "2314/2314 [==============================] - 10s 4ms/step - loss: 0.0015\n",
            "Epoch 26/100\n",
            "2314/2314 [==============================] - 10s 4ms/step - loss: 0.0015\n",
            "Epoch 27/100\n",
            "2314/2314 [==============================] - 10s 4ms/step - loss: 0.0014\n",
            "Epoch 28/100\n",
            "2314/2314 [==============================] - 10s 4ms/step - loss: 0.0013\n",
            "Epoch 29/100\n",
            "2314/2314 [==============================] - 10s 4ms/step - loss: 0.0013\n",
            "Epoch 30/100\n",
            "2314/2314 [==============================] - 10s 4ms/step - loss: 0.0013\n",
            "Epoch 31/100\n",
            "2314/2314 [==============================] - 10s 4ms/step - loss: 0.0013\n",
            "Epoch 32/100\n",
            "2314/2314 [==============================] - 10s 4ms/step - loss: 0.0012\n",
            "Epoch 33/100\n",
            "2314/2314 [==============================] - 10s 4ms/step - loss: 0.0012\n",
            "Epoch 34/100\n",
            "2314/2314 [==============================] - 10s 4ms/step - loss: 0.0012\n",
            "Epoch 35/100\n",
            "2314/2314 [==============================] - 10s 4ms/step - loss: 0.0012\n",
            "Epoch 36/100\n",
            "2314/2314 [==============================] - 10s 4ms/step - loss: 0.0012\n",
            "Epoch 37/100\n",
            "2314/2314 [==============================] - 10s 4ms/step - loss: 0.0013\n",
            "Epoch 38/100\n",
            "2314/2314 [==============================] - 10s 4ms/step - loss: 0.0011\n",
            "Epoch 39/100\n",
            "2314/2314 [==============================] - 10s 4ms/step - loss: 0.0011\n",
            "Epoch 40/100\n",
            "2314/2314 [==============================] - 10s 4ms/step - loss: 0.0011\n",
            "Epoch 41/100\n",
            "2314/2314 [==============================] - 10s 4ms/step - loss: 0.0011\n",
            "Epoch 42/100\n",
            "2314/2314 [==============================] - 10s 4ms/step - loss: 0.0011\n",
            "Epoch 43/100\n",
            "2314/2314 [==============================] - 10s 4ms/step - loss: 0.0011\n",
            "Epoch 44/100\n",
            "2314/2314 [==============================] - 10s 4ms/step - loss: 0.0010\n",
            "Epoch 45/100\n",
            "2314/2314 [==============================] - 10s 4ms/step - loss: 0.0011\n",
            "Epoch 46/100\n",
            "2314/2314 [==============================] - 10s 4ms/step - loss: 0.0010\n",
            "Epoch 47/100\n",
            "2314/2314 [==============================] - 10s 4ms/step - loss: 9.3079e-04\n",
            "Epoch 48/100\n",
            "2314/2314 [==============================] - 10s 4ms/step - loss: 9.0552e-04\n",
            "Epoch 49/100\n",
            "2314/2314 [==============================] - 10s 4ms/step - loss: 8.7226e-04\n",
            "Epoch 50/100\n",
            "2314/2314 [==============================] - 10s 4ms/step - loss: 9.6123e-04\n",
            "Epoch 51/100\n",
            "2314/2314 [==============================] - 10s 4ms/step - loss: 9.1722e-04\n",
            "Epoch 52/100\n",
            "2314/2314 [==============================] - 10s 4ms/step - loss: 9.3374e-04\n",
            "Epoch 53/100\n",
            "2314/2314 [==============================] - 10s 4ms/step - loss: 9.2066e-04\n",
            "Epoch 54/100\n",
            "2314/2314 [==============================] - 10s 4ms/step - loss: 8.7449e-04\n",
            "Epoch 55/100\n",
            "2314/2314 [==============================] - 10s 4ms/step - loss: 9.4951e-04\n",
            "Epoch 56/100\n",
            "2314/2314 [==============================] - 10s 4ms/step - loss: 9.0205e-04\n",
            "Epoch 57/100\n",
            "2314/2314 [==============================] - 10s 4ms/step - loss: 8.8258e-04\n",
            "Epoch 58/100\n",
            "2314/2314 [==============================] - 10s 4ms/step - loss: 9.1164e-04\n",
            "Epoch 59/100\n",
            "2314/2314 [==============================] - 10s 4ms/step - loss: 9.7567e-04\n",
            "Epoch 60/100\n",
            "2314/2314 [==============================] - 10s 4ms/step - loss: 9.2120e-04\n",
            "Epoch 61/100\n",
            "2314/2314 [==============================] - 10s 4ms/step - loss: 8.6966e-04\n",
            "Epoch 62/100\n",
            "2314/2314 [==============================] - 10s 4ms/step - loss: 8.9087e-04\n",
            "Epoch 63/100\n",
            "2314/2314 [==============================] - 10s 4ms/step - loss: 9.0963e-04\n",
            "Epoch 64/100\n",
            "2314/2314 [==============================] - 10s 4ms/step - loss: 8.7061e-04\n",
            "Epoch 65/100\n",
            "2314/2314 [==============================] - 10s 4ms/step - loss: 8.9093e-04\n",
            "Epoch 66/100\n",
            "2314/2314 [==============================] - 10s 4ms/step - loss: 8.0596e-04\n",
            "Epoch 67/100\n",
            "2314/2314 [==============================] - 10s 4ms/step - loss: 7.8094e-04\n",
            "Epoch 68/100\n",
            "2314/2314 [==============================] - 10s 4ms/step - loss: 8.8926e-04\n",
            "Epoch 69/100\n",
            "2314/2314 [==============================] - 10s 4ms/step - loss: 8.2024e-04\n",
            "Epoch 70/100\n",
            "2314/2314 [==============================] - 10s 4ms/step - loss: 7.8206e-04\n",
            "Epoch 71/100\n",
            "2314/2314 [==============================] - 10s 4ms/step - loss: 8.2803e-04\n",
            "Epoch 72/100\n",
            "2314/2314 [==============================] - 10s 4ms/step - loss: 7.7700e-04\n",
            "Epoch 73/100\n",
            "2314/2314 [==============================] - 10s 4ms/step - loss: 7.6718e-04\n",
            "Epoch 74/100\n",
            "2314/2314 [==============================] - 10s 4ms/step - loss: 8.4312e-04\n",
            "Epoch 75/100\n",
            "2314/2314 [==============================] - 10s 4ms/step - loss: 8.0731e-04\n",
            "Epoch 76/100\n",
            "2314/2314 [==============================] - 10s 4ms/step - loss: 8.2501e-04\n",
            "Epoch 77/100\n",
            "2314/2314 [==============================] - 10s 4ms/step - loss: 7.7323e-04\n",
            "Epoch 78/100\n",
            "2314/2314 [==============================] - 10s 4ms/step - loss: 8.0852e-04\n",
            "Epoch 79/100\n",
            "2314/2314 [==============================] - 10s 4ms/step - loss: 7.8952e-04\n",
            "Epoch 80/100\n",
            "2314/2314 [==============================] - 10s 4ms/step - loss: 8.3479e-04\n",
            "Epoch 81/100\n",
            "2314/2314 [==============================] - 10s 4ms/step - loss: 7.8924e-04\n",
            "Epoch 82/100\n",
            "2314/2314 [==============================] - 10s 4ms/step - loss: 7.8438e-04\n",
            "Epoch 83/100\n",
            "2314/2314 [==============================] - 10s 4ms/step - loss: 6.8144e-04\n",
            "Epoch 84/100\n",
            "2314/2314 [==============================] - 10s 4ms/step - loss: 7.5600e-04\n",
            "Epoch 85/100\n",
            "2314/2314 [==============================] - 10s 4ms/step - loss: 7.0787e-04\n",
            "Epoch 86/100\n",
            "2314/2314 [==============================] - 10s 4ms/step - loss: 8.2312e-04\n",
            "Epoch 87/100\n",
            "2314/2314 [==============================] - 10s 4ms/step - loss: 6.9190e-04\n",
            "Epoch 88/100\n",
            "2314/2314 [==============================] - 10s 4ms/step - loss: 7.5997e-04\n",
            "Epoch 89/100\n",
            "2314/2314 [==============================] - 10s 4ms/step - loss: 7.6528e-04\n",
            "Epoch 90/100\n",
            "2314/2314 [==============================] - 10s 4ms/step - loss: 7.1771e-04\n",
            "Epoch 91/100\n",
            "2314/2314 [==============================] - 10s 4ms/step - loss: 7.6738e-04\n",
            "Epoch 92/100\n",
            "2314/2314 [==============================] - 10s 4ms/step - loss: 7.0255e-04\n",
            "Epoch 93/100\n",
            "2314/2314 [==============================] - 10s 4ms/step - loss: 7.4767e-04\n",
            "Epoch 94/100\n",
            "2314/2314 [==============================] - 10s 4ms/step - loss: 7.3900e-04\n",
            "Epoch 95/100\n",
            "2314/2314 [==============================] - 10s 4ms/step - loss: 6.9895e-04\n",
            "Epoch 96/100\n",
            "2314/2314 [==============================] - 10s 4ms/step - loss: 7.7038e-04\n",
            "Epoch 97/100\n",
            "2314/2314 [==============================] - 10s 4ms/step - loss: 7.6785e-04\n",
            "Epoch 98/100\n",
            "2314/2314 [==============================] - 10s 4ms/step - loss: 7.2853e-04\n",
            "Epoch 99/100\n",
            "2314/2314 [==============================] - 10s 4ms/step - loss: 7.6103e-04\n",
            "Epoch 100/100\n",
            "2314/2314 [==============================] - 10s 4ms/step - loss: 7.5510e-04\n"
          ]
        }
      ]
    },
    {
      "cell_type": "code",
      "metadata": {
        "id": "vTUo0987EyTN"
      },
      "source": [
        "# Load data from 1/1/2019 - 2/10/2019\n",
        "dataset_test = pd.read_csv('vcb_2019.csv')\n",
        "real_stock_price = dataset_test.iloc[:, 1:2].values"
      ],
      "execution_count": 13,
      "outputs": []
    },
    {
      "cell_type": "code",
      "metadata": {
        "id": "IbaCjw0YE5BE"
      },
      "source": [
        "# Predict\n",
        "dataset_total = pd.concat((dataset_train['CLOSE'], dataset_test['CLOSE']), axis = 0)\n",
        "inputs = dataset_total[len(dataset_total) - len(dataset_test) - 60:].values\n",
        "inputs = inputs.reshape(-1,1)\n",
        "inputs = sc.transform(inputs)\n",
        "X_test = []\n",
        "no_of_sample = len(inputs)\n",
        "\n",
        "for i in range(60, no_of_sample):\n",
        "    X_test.append(inputs[i-60:i, 0])\n",
        "\n",
        "X_test = np.array(X_test)\n",
        "X_test = np.reshape(X_test, (X_test.shape[0], X_test.shape[1], 1))\n",
        "predicted_stock_price = regressor.predict(X_test)\n",
        "predicted_stock_price = sc.inverse_transform(predicted_stock_price)"
      ],
      "execution_count": 14,
      "outputs": []
    },
    {
      "cell_type": "code",
      "metadata": {
        "colab": {
          "base_uri": "https://localhost:8080/",
          "height": 295
        },
        "id": "iC-ZTg0ZFFR-",
        "outputId": "d43d3e09-e938-4620-ab0d-2d56c8531592"
      },
      "source": [
        "# Visualize predict and true values\n",
        "plt.plot(real_stock_price, color = 'red', label = 'Real Price')\n",
        "plt.plot(predicted_stock_price, color = 'blue', label = 'Predicted Price')\n",
        "plt.title('VCB Stock Price Prediction')\n",
        "plt.xlabel('Time')\n",
        "plt.ylabel('VCB Stock Price')\n",
        "plt.legend()\n",
        "plt.show()"
      ],
      "execution_count": 16,
      "outputs": [
        {
          "output_type": "display_data",
          "data": {
            "text/plain": [
              "<Figure size 432x288 with 1 Axes>"
            ],
            "image/png": "[encoded data removed]"
          },
          "metadata": {
            "needs_background": "light"
          }
        }
      ]
    },
    {
      "cell_type": "code",
      "metadata": {
        "id": "xh0VAYLKFgcj"
      },
      "source": [
        "# Continue predict next days to 30/10\n",
        "dataset_test = dataset_test['CLOSE'][len(dataset_test)-60:len(dataset_test)].to_numpy()\n",
        "dataset_test = np.array(dataset_test)\n",
        "\n",
        "inputs = dataset_test\n",
        "inputs = inputs.reshape(-1,1)\n",
        "inputs = sc.transform(inputs)"
      ],
      "execution_count": 17,
      "outputs": []
    },
    {
      "cell_type": "code",
      "metadata": {
        "colab": {
          "base_uri": "https://localhost:8080/"
        },
        "id": "W68OiCeWFr2C",
        "outputId": "89f035dd-1fa9-480c-caeb-0ecdbbeacdc0"
      },
      "source": [
        "i = 0\n",
        "while i<28:\n",
        "    X_test = []\n",
        "    no_of_sample = len(dataset_test)\n",
        "\n",
        "    # Get last data\n",
        "    X_test.append(inputs[no_of_sample - 60:no_of_sample, 0])\n",
        "    X_test = np.array(X_test)\n",
        "    X_test = np.reshape(X_test, (X_test.shape[0], X_test.shape[1], 1))\n",
        "\n",
        "    # Predict data\n",
        "    predicted_stock_price = regressor.predict(X_test)\n",
        "\n",
        "    # Convert price from (0,1) into true price\n",
        "    predicted_stock_price = sc.inverse_transform(predicted_stock_price)\n",
        "\n",
        "    # Add recent day\n",
        "    dataset_test = np.append(dataset_test, predicted_stock_price[0], axis=0)\n",
        "    inputs = dataset_test\n",
        "    inputs = inputs.reshape(-1, 1)\n",
        "    inputs = sc.transform(inputs)\n",
        "\n",
        "    print('Stock price ' + str(i+3) + '/10/2019 of VCB : ', predicted_stock_price[0][0])\n",
        "    i = i + 1"
      ],
      "execution_count": 18,
      "outputs": [
        {
          "output_type": "stream",
          "name": "stdout",
          "text": [
            "Stock price 3/10/2019 of VCB :  80.664635\n",
            "Stock price 4/10/2019 of VCB :  79.601616\n",
            "Stock price 5/10/2019 of VCB :  78.780304\n",
            "Stock price 6/10/2019 of VCB :  78.09845\n",
            "Stock price 7/10/2019 of VCB :  77.49116\n",
            "Stock price 8/10/2019 of VCB :  76.93623\n",
            "Stock price 9/10/2019 of VCB :  76.424416\n",
            "Stock price 10/10/2019 of VCB :  75.949936\n",
            "Stock price 11/10/2019 of VCB :  75.50848\n",
            "Stock price 12/10/2019 of VCB :  75.09655\n",
            "Stock price 13/10/2019 of VCB :  74.71135\n",
            "Stock price 14/10/2019 of VCB :  74.35058\n",
            "Stock price 15/10/2019 of VCB :  74.01238\n",
            "Stock price 16/10/2019 of VCB :  73.69526\n",
            "Stock price 17/10/2019 of VCB :  73.39796\n",
            "Stock price 18/10/2019 of VCB :  73.11941\n",
            "Stock price 19/10/2019 of VCB :  72.85864\n",
            "Stock price 20/10/2019 of VCB :  72.61479\n",
            "Stock price 21/10/2019 of VCB :  72.386986\n",
            "Stock price 22/10/2019 of VCB :  72.17438\n",
            "Stock price 23/10/2019 of VCB :  71.976135\n",
            "Stock price 24/10/2019 of VCB :  71.791466\n",
            "Stock price 25/10/2019 of VCB :  71.61955\n",
            "Stock price 26/10/2019 of VCB :  71.45961\n",
            "Stock price 27/10/2019 of VCB :  71.310875\n",
            "Stock price 28/10/2019 of VCB :  71.1726\n",
            "Stock price 29/10/2019 of VCB :  71.044106\n",
            "Stock price 30/10/2019 of VCB :  70.9247\n"
          ]
        }
      ]
    }
  ]
}