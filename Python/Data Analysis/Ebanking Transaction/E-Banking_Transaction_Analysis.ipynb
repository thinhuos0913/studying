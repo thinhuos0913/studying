{
 "cells": [
  {
   "cell_type": "markdown",
   "id": "9010485a",
   "metadata": {},
   "source": [
    "## Step 1: Load and display data"
   ]
  },
  {
   "cell_type": "code",
   "execution_count": 1,
   "id": "2cf97e8a",
   "metadata": {},
   "outputs": [],
   "source": [
    "import pandas as pd\n",
    "import numpy as np\n",
    "import matplotlib.pyplot as plt"
   ]
  },
  {
   "cell_type": "code",
   "execution_count": 2,
   "id": "dd277e0b",
   "metadata": {},
   "outputs": [],
   "source": [
    "df = pd.read_csv(\"S2_DataFile.csv\")"
   ]
  },
  {
   "cell_type": "code",
   "execution_count": 3,
   "id": "f0a07618",
   "metadata": {},
   "outputs": [
    {
     "data": {
      "text/html": [
       "<div>\n",
       "<style scoped>\n",
       "    .dataframe tbody tr th:only-of-type {\n",
       "        vertical-align: middle;\n",
       "    }\n",
       "\n",
       "    .dataframe tbody tr th {\n",
       "        vertical-align: top;\n",
       "    }\n",
       "\n",
       "    .dataframe thead th {\n",
       "        text-align: right;\n",
       "    }\n",
       "</style>\n",
       "<table border=\"1\" class=\"dataframe\">\n",
       "  <thead>\n",
       "    <tr style=\"text-align: right;\">\n",
       "      <th></th>\n",
       "      <th>BRANCH_ID</th>\n",
       "      <th>CHANNEL_ID</th>\n",
       "      <th>AMOUNT</th>\n",
       "      <th>TRAN_TYPE</th>\n",
       "      <th>TRAN_TIME</th>\n",
       "    </tr>\n",
       "  </thead>\n",
       "  <tbody>\n",
       "    <tr>\n",
       "      <th>0</th>\n",
       "      <td>BR0001</td>\n",
       "      <td>MOBILE</td>\n",
       "      <td>3020080</td>\n",
       "      <td>BOOKING ORDER</td>\n",
       "      <td>12/01/2019 1:11</td>\n",
       "    </tr>\n",
       "    <tr>\n",
       "      <th>1</th>\n",
       "      <td>BR0002</td>\n",
       "      <td>ATM</td>\n",
       "      <td>2001100</td>\n",
       "      <td>CASH TRANSACTIONS</td>\n",
       "      <td>12/01/2019 11:01</td>\n",
       "    </tr>\n",
       "    <tr>\n",
       "      <th>2</th>\n",
       "      <td>BR0004</td>\n",
       "      <td>MOBILE</td>\n",
       "      <td>2140140</td>\n",
       "      <td>BOOKING ORDER</td>\n",
       "      <td>12/01/2019 1:11</td>\n",
       "    </tr>\n",
       "    <tr>\n",
       "      <th>3</th>\n",
       "      <td>BR0002</td>\n",
       "      <td>INTERNET</td>\n",
       "      <td>4293000</td>\n",
       "      <td>FINANCIAL POSTING</td>\n",
       "      <td>12/01/2019 6:50</td>\n",
       "    </tr>\n",
       "    <tr>\n",
       "      <th>4</th>\n",
       "      <td>BR0003</td>\n",
       "      <td>MOBILE</td>\n",
       "      <td>3046430</td>\n",
       "      <td>BOOKING ORDER</td>\n",
       "      <td>12/01/2019 1:11</td>\n",
       "    </tr>\n",
       "  </tbody>\n",
       "</table>\n",
       "</div>"
      ],
      "text/plain": [
       "  BRANCH_ID CHANNEL_ID   AMOUNT          TRAN_TYPE         TRAN_TIME\n",
       "0    BR0001     MOBILE  3020080      BOOKING ORDER   12/01/2019 1:11\n",
       "1    BR0002        ATM  2001100  CASH TRANSACTIONS  12/01/2019 11:01\n",
       "2    BR0004     MOBILE  2140140      BOOKING ORDER   12/01/2019 1:11\n",
       "3    BR0002   INTERNET  4293000  FINANCIAL POSTING   12/01/2019 6:50\n",
       "4    BR0003     MOBILE  3046430      BOOKING ORDER   12/01/2019 1:11"
      ]
     },
     "execution_count": 3,
     "metadata": {},
     "output_type": "execute_result"
    }
   ],
   "source": [
    "df.head()"
   ]
  },
  {
   "cell_type": "code",
   "execution_count": 4,
   "id": "eb04dede",
   "metadata": {},
   "outputs": [
    {
     "data": {
      "text/plain": [
       "(500, 5)"
      ]
     },
     "execution_count": 4,
     "metadata": {},
     "output_type": "execute_result"
    }
   ],
   "source": [
    "df.shape"
   ]
  },
  {
   "cell_type": "markdown",
   "id": "e75674b4",
   "metadata": {},
   "source": [
    "## Step 2: Preprocessing"
   ]
  },
  {
   "cell_type": "code",
   "execution_count": 5,
   "id": "784318d6",
   "metadata": {},
   "outputs": [
    {
     "name": "stdout",
     "output_type": "stream",
     "text": [
      "object\n"
     ]
    }
   ],
   "source": [
    "# 1. Check data type\n",
    "# Check TRAN_TIME field\n",
    "print(df['TRAN_TIME'].dtypes)"
   ]
  },
  {
   "cell_type": "code",
   "execution_count": 6,
   "id": "7f336a5f",
   "metadata": {},
   "outputs": [],
   "source": [
    "# Convert về dạng DateTime\n",
    "df['TRAN_TIME'] = pd.to_datetime(df['TRAN_TIME'],format='%d/%m/%Y %H:%M')"
   ]
  },
  {
   "cell_type": "code",
   "execution_count": 7,
   "id": "c759e822",
   "metadata": {},
   "outputs": [
    {
     "data": {
      "text/html": [
       "<div>\n",
       "<style scoped>\n",
       "    .dataframe tbody tr th:only-of-type {\n",
       "        vertical-align: middle;\n",
       "    }\n",
       "\n",
       "    .dataframe tbody tr th {\n",
       "        vertical-align: top;\n",
       "    }\n",
       "\n",
       "    .dataframe thead th {\n",
       "        text-align: right;\n",
       "    }\n",
       "</style>\n",
       "<table border=\"1\" class=\"dataframe\">\n",
       "  <thead>\n",
       "    <tr style=\"text-align: right;\">\n",
       "      <th></th>\n",
       "      <th>BRANCH_ID</th>\n",
       "      <th>CHANNEL_ID</th>\n",
       "      <th>AMOUNT</th>\n",
       "      <th>TRAN_TYPE</th>\n",
       "      <th>TRAN_TIME</th>\n",
       "    </tr>\n",
       "  </thead>\n",
       "  <tbody>\n",
       "    <tr>\n",
       "      <th>0</th>\n",
       "      <td>BR0001</td>\n",
       "      <td>MOBILE</td>\n",
       "      <td>3020080</td>\n",
       "      <td>BOOKING ORDER</td>\n",
       "      <td>2019-01-12 01:11:00</td>\n",
       "    </tr>\n",
       "    <tr>\n",
       "      <th>1</th>\n",
       "      <td>BR0002</td>\n",
       "      <td>ATM</td>\n",
       "      <td>2001100</td>\n",
       "      <td>CASH TRANSACTIONS</td>\n",
       "      <td>2019-01-12 11:01:00</td>\n",
       "    </tr>\n",
       "    <tr>\n",
       "      <th>2</th>\n",
       "      <td>BR0004</td>\n",
       "      <td>MOBILE</td>\n",
       "      <td>2140140</td>\n",
       "      <td>BOOKING ORDER</td>\n",
       "      <td>2019-01-12 01:11:00</td>\n",
       "    </tr>\n",
       "    <tr>\n",
       "      <th>3</th>\n",
       "      <td>BR0002</td>\n",
       "      <td>INTERNET</td>\n",
       "      <td>4293000</td>\n",
       "      <td>FINANCIAL POSTING</td>\n",
       "      <td>2019-01-12 06:50:00</td>\n",
       "    </tr>\n",
       "    <tr>\n",
       "      <th>4</th>\n",
       "      <td>BR0003</td>\n",
       "      <td>MOBILE</td>\n",
       "      <td>3046430</td>\n",
       "      <td>BOOKING ORDER</td>\n",
       "      <td>2019-01-12 01:11:00</td>\n",
       "    </tr>\n",
       "  </tbody>\n",
       "</table>\n",
       "</div>"
      ],
      "text/plain": [
       "  BRANCH_ID CHANNEL_ID   AMOUNT          TRAN_TYPE           TRAN_TIME\n",
       "0    BR0001     MOBILE  3020080      BOOKING ORDER 2019-01-12 01:11:00\n",
       "1    BR0002        ATM  2001100  CASH TRANSACTIONS 2019-01-12 11:01:00\n",
       "2    BR0004     MOBILE  2140140      BOOKING ORDER 2019-01-12 01:11:00\n",
       "3    BR0002   INTERNET  4293000  FINANCIAL POSTING 2019-01-12 06:50:00\n",
       "4    BR0003     MOBILE  3046430      BOOKING ORDER 2019-01-12 01:11:00"
      ]
     },
     "execution_count": 7,
     "metadata": {},
     "output_type": "execute_result"
    }
   ],
   "source": [
    "df.head()"
   ]
  },
  {
   "cell_type": "code",
   "execution_count": 8,
   "id": "503ca588",
   "metadata": {},
   "outputs": [
    {
     "name": "stdout",
     "output_type": "stream",
     "text": [
      "datetime64[ns]\n",
      "int64\n"
     ]
    }
   ],
   "source": [
    "# In kiểu dữ liệu\n",
    "print(df['TRAN_TIME'].dtype)\n",
    "# Check AMOUNT\n",
    "print(df['AMOUNT'].dtype)"
   ]
  },
  {
   "cell_type": "code",
   "execution_count": 9,
   "id": "0be93c31",
   "metadata": {},
   "outputs": [
    {
     "data": {
      "text/plain": [
       "count    5.000000e+02\n",
       "mean     3.529194e+06\n",
       "std      1.602360e+07\n",
       "min     -2.000000e+06\n",
       "25%      7.883650e+04\n",
       "50%      1.002200e+06\n",
       "75%      3.000000e+06\n",
       "max      3.000000e+08\n",
       "Name: AMOUNT, dtype: float64"
      ]
     },
     "execution_count": 9,
     "metadata": {},
     "output_type": "execute_result"
    }
   ],
   "source": [
    "# 2. Describe data\n",
    "# Check tổng quan dữ liệu\n",
    "df['AMOUNT'].describe()\n"
   ]
  },
  {
   "cell_type": "code",
   "execution_count": 10,
   "id": "c46a30e1",
   "metadata": {},
   "outputs": [],
   "source": [
    "# Process error rows:\n",
    "# Tạo mask để lấy các bản ghi hợp lệ\n",
    "mask = df['AMOUNT'] > 0"
   ]
  },
  {
   "cell_type": "code",
   "execution_count": 11,
   "id": "31c9302f",
   "metadata": {},
   "outputs": [
    {
     "name": "stdout",
     "output_type": "stream",
     "text": [
      "             AMOUNT\n",
      "count  4.980000e+02\n",
      "mean   3.547383e+06\n",
      "std    1.605310e+07\n",
      "min    1.000000e+01\n",
      "25%    8.418000e+04\n",
      "50%    1.006600e+06\n",
      "75%    3.000000e+06\n",
      "max    3.000000e+08\n"
     ]
    }
   ],
   "source": [
    "# Lấy các bản ghi không lỗi\n",
    "df = df[mask]\n",
    "print(df.describe())"
   ]
  },
  {
   "cell_type": "code",
   "execution_count": 12,
   "id": "f9b7b4b9",
   "metadata": {},
   "outputs": [],
   "source": [
    "# cần thống kê số giao dịch theo giờ trong ngày => tạo ra 1 cột TRAN_HOUR – giờ giao dịch của khách hàng\n",
    "# Tạo cột giờ\n",
    "df['TRAN_HOUR'] = df['TRAN_TIME'].dt.strftime('%H')"
   ]
  },
  {
   "cell_type": "code",
   "execution_count": 13,
   "id": "c98218cd",
   "metadata": {},
   "outputs": [
    {
     "data": {
      "text/html": [
       "<div>\n",
       "<style scoped>\n",
       "    .dataframe tbody tr th:only-of-type {\n",
       "        vertical-align: middle;\n",
       "    }\n",
       "\n",
       "    .dataframe tbody tr th {\n",
       "        vertical-align: top;\n",
       "    }\n",
       "\n",
       "    .dataframe thead th {\n",
       "        text-align: right;\n",
       "    }\n",
       "</style>\n",
       "<table border=\"1\" class=\"dataframe\">\n",
       "  <thead>\n",
       "    <tr style=\"text-align: right;\">\n",
       "      <th></th>\n",
       "      <th>TRAN_HOUR</th>\n",
       "      <th>TRAN_TIME</th>\n",
       "    </tr>\n",
       "  </thead>\n",
       "  <tbody>\n",
       "    <tr>\n",
       "      <th>0</th>\n",
       "      <td>01</td>\n",
       "      <td>2019-01-12 01:11:00</td>\n",
       "    </tr>\n",
       "    <tr>\n",
       "      <th>1</th>\n",
       "      <td>11</td>\n",
       "      <td>2019-01-12 11:01:00</td>\n",
       "    </tr>\n",
       "    <tr>\n",
       "      <th>2</th>\n",
       "      <td>01</td>\n",
       "      <td>2019-01-12 01:11:00</td>\n",
       "    </tr>\n",
       "    <tr>\n",
       "      <th>3</th>\n",
       "      <td>06</td>\n",
       "      <td>2019-01-12 06:50:00</td>\n",
       "    </tr>\n",
       "    <tr>\n",
       "      <th>4</th>\n",
       "      <td>01</td>\n",
       "      <td>2019-01-12 01:11:00</td>\n",
       "    </tr>\n",
       "    <tr>\n",
       "      <th>...</th>\n",
       "      <td>...</td>\n",
       "      <td>...</td>\n",
       "    </tr>\n",
       "    <tr>\n",
       "      <th>495</th>\n",
       "      <td>08</td>\n",
       "      <td>2019-01-12 08:45:00</td>\n",
       "    </tr>\n",
       "    <tr>\n",
       "      <th>496</th>\n",
       "      <td>21</td>\n",
       "      <td>2019-04-11 21:13:00</td>\n",
       "    </tr>\n",
       "    <tr>\n",
       "      <th>497</th>\n",
       "      <td>10</td>\n",
       "      <td>2019-01-12 10:53:00</td>\n",
       "    </tr>\n",
       "    <tr>\n",
       "      <th>498</th>\n",
       "      <td>08</td>\n",
       "      <td>2019-01-12 08:58:00</td>\n",
       "    </tr>\n",
       "    <tr>\n",
       "      <th>499</th>\n",
       "      <td>09</td>\n",
       "      <td>2019-01-12 09:13:00</td>\n",
       "    </tr>\n",
       "  </tbody>\n",
       "</table>\n",
       "<p>498 rows × 2 columns</p>\n",
       "</div>"
      ],
      "text/plain": [
       "    TRAN_HOUR           TRAN_TIME\n",
       "0          01 2019-01-12 01:11:00\n",
       "1          11 2019-01-12 11:01:00\n",
       "2          01 2019-01-12 01:11:00\n",
       "3          06 2019-01-12 06:50:00\n",
       "4          01 2019-01-12 01:11:00\n",
       "..        ...                 ...\n",
       "495        08 2019-01-12 08:45:00\n",
       "496        21 2019-04-11 21:13:00\n",
       "497        10 2019-01-12 10:53:00\n",
       "498        08 2019-01-12 08:58:00\n",
       "499        09 2019-01-12 09:13:00\n",
       "\n",
       "[498 rows x 2 columns]"
      ]
     },
     "execution_count": 13,
     "metadata": {},
     "output_type": "execute_result"
    }
   ],
   "source": [
    "df[['TRAN_HOUR','TRAN_TIME']]"
   ]
  },
  {
   "cell_type": "markdown",
   "id": "9c9cbebd",
   "metadata": {},
   "source": [
    "## STEP 3: Analyze & Visualize data"
   ]
  },
  {
   "cell_type": "code",
   "execution_count": 14,
   "id": "124061e6",
   "metadata": {},
   "outputs": [
    {
     "name": "stdout",
     "output_type": "stream",
     "text": [
      "SUM AMOUNT BY CHANNELS:\n",
      "   CHANNEL_ID  SUM_AMT_BY_CHN\n",
      "0        ATM       179502250\n",
      "1   INTERNET       768629241\n",
      "2     MOBILE       818465352\n",
      "df_plot:\n",
      "             SUM_AMT_BY_CHN\n",
      "CHANNEL_ID                \n",
      "ATM              179502250\n",
      "INTERNET         768629241\n",
      "MOBILE           818465352\n"
     ]
    }
   ],
   "source": [
    "# Let's show 3 chart types which are important for manager\n",
    "# Chart 1: BIỂU ĐỒ PIE VỀ TỶ LỆ SÔ TIỀN GIAO DỊCH TRÊN CÁC KÊNH\n",
    "# Thể hiện rằng kênh giao dịch nào khách hàng dùng nhiều, kênh nào dùng ít để từ đó Ngân hàng có các chiến lược kinh doanh khác nhau.\n",
    "# Thực hiện group by channel và tính tổng số tiền giao dịch\n",
    "sum_AMT_byChannel = df.groupby(['CHANNEL_ID'])['AMOUNT'].sum().reset_index(name='SUM_AMT_BY_CHN')\n",
    "print('SUM AMOUNT BY CHANNELS:\\n', sum_AMT_byChannel)\n",
    "\n",
    "df_plot = sum_AMT_byChannel\n",
    "df_plot = df_plot.set_index('CHANNEL_ID')\n",
    "print('df_plot:\\n',df_plot)"
   ]
  },
  {
   "cell_type": "code",
   "execution_count": 15,
   "id": "35d6cc55",
   "metadata": {},
   "outputs": [
    {
     "data": {
      "image/png": "[encoded data removed]",
      "text/plain": [
       "<Figure size 576x576 with 1 Axes>"
      ]
     },
     "metadata": {},
     "output_type": "display_data"
    }
   ],
   "source": [
    "plot = df_plot.plot.pie(y='SUM_AMT_BY_CHN',subplots=True, figsize=(8, 8))\n",
    "# # TRANG TRÍ VÀ HIEN THI BIEU DO\n",
    "plt.title(\"DOANH SỐ GIAO DỊCH THEO KÊNH\")\n",
    "plt.ylabel(\"\")\n",
    "plt.show()"
   ]
  },
  {
   "cell_type": "code",
   "execution_count": 16,
   "id": "4519ba92",
   "metadata": {},
   "outputs": [
    {
     "name": "stdout",
     "output_type": "stream",
     "text": [
      "COUNT BY CHANNELS:\n",
      "   CHANNEL_ID  COUNTS\n",
      "0        ATM      98\n",
      "1   INTERNET      72\n",
      "2     MOBILE     328\n",
      "df_plot 2:\n",
      "   CHANNEL_ID  SUM_AMT_BY_CHN  COUNTS\n",
      "0        ATM       179502250      98\n",
      "1   INTERNET       768629241      72\n",
      "2     MOBILE       818465352     328\n",
      "df_plot 2:\n",
      "             SUM_AMT_BY_CHN  COUNTS\n",
      "CHANNEL_ID                        \n",
      "ATM              179502250      98\n",
      "INTERNET         768629241      72\n",
      "MOBILE           818465352     328\n"
     ]
    }
   ],
   "source": [
    "# Chart 2: BIỂU ĐỒ CỘT VỀ SỐ LƯỢNG VÀ DOANH SỐ GIAO DỊCH THEO KÊNH\n",
    "# tìm hiểu Số lượng giao dịch và Doanh số thu được của mỗi kênh để phân tích dữ liệu và tìm hiểu xem kênh nào có hiệu quả hoạt động tốt nhất\n",
    "# quy Doanh số và Số lượng giao dịch về tỷ lệ % của để so sánh mức độ tương quan\n",
    "# VE BIEU DO DANH DOANH SO VA SO LUONG GIAO DICH TREN CAC KENH GIAO DICH\n",
    "count_byChannel = df.groupby(['CHANNEL_ID']).size().reset_index(name='COUNTS')\n",
    "print('COUNT BY CHANNELS:\\n',count_byChannel)\n",
    "df_plot2 = sum_AMT_byChannel.merge(count_byChannel, on=['CHANNEL_ID'])\n",
    "print('df_plot 2:\\n',df_plot2)\n",
    "df_plot2 = df_plot2.set_index('CHANNEL_ID')\n",
    "print('df_plot 2:\\n',df_plot2)"
   ]
  },
  {
   "cell_type": "code",
   "execution_count": 17,
   "id": "89ee004d",
   "metadata": {},
   "outputs": [
    {
     "name": "stdout",
     "output_type": "stream",
     "text": [
      "MAX AMOUNT:\n",
      " 818465352\n",
      "DOANH SO:\n",
      " CHANNEL_ID\n",
      "ATM          21.931564\n",
      "INTERNET     93.911030\n",
      "MOBILE      100.000000\n",
      "Name: %_DOANHSO, dtype: float64\n",
      "MAX COUNTS:\n",
      " 328\n",
      "SO LUONG:\n",
      "             SUM_AMT_BY_CHN  COUNTS   %_DOANHSO   %_SOLUONG\n",
      "CHANNEL_ID                                                \n",
      "ATM              179502250      98   21.931564   29.878049\n",
      "INTERNET         768629241      72   93.911030   21.951220\n",
      "MOBILE           818465352     328  100.000000  100.000000\n"
     ]
    }
   ],
   "source": [
    "# Quy đổi dữ liệu Doanh số về phần trăm để biểu diễn tính tương quan của dữ liệu\n",
    "max_amt = df_plot2['SUM_AMT_BY_CHN'].max()\n",
    "print('MAX AMOUNT:\\n', max_amt)\n",
    "df_plot2['%_DOANHSO'] =df_plot2['SUM_AMT_BY_CHN']*100/max_amt\n",
    "print('DOANH SO:\\n', df_plot2['%_DOANHSO'])\n",
    "# Quy đổi dữ liệu Số lượng giao dịch về phần trăm để biểu diễn tính tương quan của dữ liệu\n",
    "max_count = df_plot2['COUNTS'].max()\n",
    "print('MAX COUNTS:\\n',max_count)\n",
    "df_plot2['%_SOLUONG'] = df_plot2['COUNTS'] * 100 / max_count\n",
    "print('SO LUONG:\\n',df_plot2)"
   ]
  },
  {
   "cell_type": "code",
   "execution_count": 18,
   "id": "558d7be8",
   "metadata": {},
   "outputs": [
    {
     "data": {
      "image/png": "[encoded data removed]",
      "text/plain": [
       "<Figure size 432x288 with 1 Axes>"
      ]
     },
     "metadata": {
      "needs_background": "light"
     },
     "output_type": "display_data"
    }
   ],
   "source": [
    "df_plot2.plot.bar( y=['%_SOLUONG','%_DOANHSO'])\n",
    "plt.title(\"Tỷ lệ doanh số và số lượng giao dịch theo các kênh\", fontsize=22)\n",
    "plt.ylabel('tỷ lệ %')\n",
    "plt.xticks(rotation=0)\n",
    " \n",
    "plt.show()"
   ]
  },
  {
   "cell_type": "code",
   "execution_count": 19,
   "id": "f361ddfb",
   "metadata": {},
   "outputs": [
    {
     "name": "stdout",
     "output_type": "stream",
     "text": [
      "Max_days:\n",
      " 2019-04-11\n",
      "Min_days:\n",
      " 2019-01-12\n",
      "89\n"
     ]
    }
   ],
   "source": [
    "# Chart 3: SỐ LIỆU GIAO DỊCH TRUNG BÌNH TRONG TỪNG GIỜ TRONG NGÀY\n",
    "# tổng hợp số liệu và biểu diễn dữ liệu thành dạng đồ thị đường lưu lượng giao dịch trung bình trong ngày theo giờ giao dịch để xem đối với mỗi kênh hành vi giao dịch có gì khác biệt\n",
    "# VE BIEU DO LUU LUONG GIAO DICH CÁC KENH TRUNG BINH THEO GIO MOI NGAY\n",
    "# Tính số ngày trong dữ liệu\n",
    "number_of_days = (df['TRAN_TIME'].max().date() - df['TRAN_TIME'].min().date()).days\n",
    "print('Max_days:\\n',df['TRAN_TIME'].max().date())\n",
    "print('Min_days:\\n',df['TRAN_TIME'].min().date())\n",
    "print(number_of_days)"
   ]
  },
  {
   "cell_type": "code",
   "execution_count": 20,
   "id": "8c443a4c",
   "metadata": {},
   "outputs": [],
   "source": [
    "# Trích ra 2 cột kênh và giờ\n",
    "df = df[['CHANNEL_ID', 'TRAN_HOUR']]"
   ]
  },
  {
   "cell_type": "code",
   "execution_count": 21,
   "id": "8aa46090",
   "metadata": {},
   "outputs": [
    {
     "name": "stdout",
     "output_type": "stream",
     "text": [
      "COUNT BY CNN TIME:\n",
      "    CHANNEL_ID TRAN_HOUR  COUNTS_CNNTIME\n",
      "0         ATM        06              17\n",
      "1         ATM        07               9\n",
      "2         ATM        08              19\n",
      "3         ATM        09               6\n",
      "4         ATM        10              19\n",
      "5         ATM        11              10\n",
      "6         ATM        12               2\n",
      "7         ATM        13               6\n",
      "8         ATM        14               3\n",
      "9         ATM        21               7\n",
      "10   INTERNET        00               1\n",
      "11   INTERNET        01               3\n",
      "12   INTERNET        06               3\n",
      "13   INTERNET        07               3\n",
      "14   INTERNET        08               7\n",
      "15   INTERNET        09               9\n",
      "16   INTERNET        10               6\n",
      "17   INTERNET        11               7\n",
      "18   INTERNET        12               8\n",
      "19   INTERNET        13               7\n",
      "20   INTERNET        14               2\n",
      "21   INTERNET        20               1\n",
      "22   INTERNET        21               8\n",
      "23   INTERNET        22               5\n",
      "24   INTERNET        23               2\n",
      "25     MOBILE        00               1\n",
      "26     MOBILE        01             194\n",
      "27     MOBILE        02               1\n",
      "28     MOBILE        04               1\n",
      "29     MOBILE        06               4\n",
      "30     MOBILE        07               4\n",
      "31     MOBILE        08              19\n",
      "32     MOBILE        09              18\n",
      "33     MOBILE        10              18\n",
      "34     MOBILE        11               7\n",
      "35     MOBILE        12               9\n",
      "36     MOBILE        13              11\n",
      "37     MOBILE        14              15\n",
      "38     MOBILE        15               3\n",
      "39     MOBILE        20               1\n",
      "40     MOBILE        21              13\n",
      "41     MOBILE        22               6\n",
      "42     MOBILE        23               3\n",
      "Pivot table df_plot3:\n",
      " CHANNEL_ID   ATM  INTERNET  MOBILE\n",
      "TRAN_HOUR                         \n",
      "00           NaN       1.0     1.0\n",
      "01           NaN       3.0   194.0\n",
      "02           NaN       NaN     1.0\n",
      "04           NaN       NaN     1.0\n",
      "06          17.0       3.0     4.0\n",
      "07           9.0       3.0     4.0\n",
      "08          19.0       7.0    19.0\n",
      "09           6.0       9.0    18.0\n",
      "10          19.0       6.0    18.0\n",
      "11          10.0       7.0     7.0\n",
      "12           2.0       8.0     9.0\n",
      "13           6.0       7.0    11.0\n",
      "14           3.0       2.0    15.0\n",
      "15           NaN       NaN     3.0\n",
      "20           NaN       1.0     1.0\n",
      "21           7.0       8.0    13.0\n",
      "22           NaN       5.0     6.0\n",
      "23           NaN       2.0     3.0\n"
     ]
    }
   ],
   "source": [
    "# Group và tính số lượng từng kênh trong từng giờ\n",
    "count_by_CNNTime = df.groupby(['CHANNEL_ID','TRAN_HOUR']).size().reset_index(name='COUNTS_CNNTIME')\n",
    "print('COUNT BY CNN TIME:\\n', count_by_CNNTime)\n",
    "# Áp dung pivot table để xoay dữ liệu\n",
    "df_plot3 = pd.pivot_table(count_by_CNNTime, values='COUNTS_CNNTIME', index=['TRAN_HOUR'], columns=['CHANNEL_ID'])\n",
    "print('Pivot table df_plot3:\\n', df_plot3)"
   ]
  },
  {
   "cell_type": "code",
   "execution_count": 22,
   "id": "6e058313",
   "metadata": {},
   "outputs": [
    {
     "name": "stdout",
     "output_type": "stream",
     "text": [
      "After filled NaN:\n",
      " CHANNEL_ID   ATM  INTERNET  MOBILE\n",
      "TRAN_HOUR                         \n",
      "00           0.0       1.0     1.0\n",
      "01           0.0       3.0   194.0\n",
      "02           0.0       0.0     1.0\n",
      "04           0.0       0.0     1.0\n",
      "06          17.0       3.0     4.0\n",
      "07           9.0       3.0     4.0\n",
      "08          19.0       7.0    19.0\n",
      "09           6.0       9.0    18.0\n",
      "10          19.0       6.0    18.0\n",
      "11          10.0       7.0     7.0\n",
      "12           2.0       8.0     9.0\n",
      "13           6.0       7.0    11.0\n",
      "14           3.0       2.0    15.0\n",
      "15           0.0       0.0     3.0\n",
      "20           0.0       1.0     1.0\n",
      "21           7.0       8.0    13.0\n",
      "22           0.0       5.0     6.0\n",
      "23           0.0       2.0     3.0\n"
     ]
    }
   ],
   "source": [
    "# Xử lý NaN\n",
    "df_plot3['ATM'] = df_plot3['ATM'].fillna(0)\n",
    "df_plot3['INTERNET'] = df_plot3['INTERNET'].fillna(0)\n",
    "df_plot3['MOBILE'] = df_plot3['MOBILE'].fillna(0)\n",
    "print('After filled NaN:\\n', df_plot3)"
   ]
  },
  {
   "cell_type": "code",
   "execution_count": 23,
   "id": "6320b991",
   "metadata": {},
   "outputs": [
    {
     "name": "stdout",
     "output_type": "stream",
     "text": [
      "After calculate avg:\n",
      " CHANNEL_ID       ATM  INTERNET    MOBILE\n",
      "TRAN_HOUR                               \n",
      "00          0.000000  0.011236  0.011236\n",
      "01          0.000000  0.033708  2.179775\n",
      "02          0.000000  0.000000  0.011236\n",
      "04          0.000000  0.000000  0.011236\n",
      "06          0.191011  0.033708  0.044944\n",
      "07          0.101124  0.033708  0.044944\n",
      "08          0.213483  0.078652  0.213483\n",
      "09          0.067416  0.101124  0.202247\n",
      "10          0.213483  0.067416  0.202247\n",
      "11          0.112360  0.078652  0.078652\n",
      "12          0.022472  0.089888  0.101124\n",
      "13          0.067416  0.078652  0.123596\n",
      "14          0.033708  0.022472  0.168539\n",
      "15          0.000000  0.000000  0.033708\n",
      "20          0.000000  0.011236  0.011236\n",
      "21          0.078652  0.089888  0.146067\n",
      "22          0.000000  0.056180  0.067416\n",
      "23          0.000000  0.022472  0.033708\n"
     ]
    }
   ],
   "source": [
    "# Tính giá trị trung bình theo ngày\n",
    "df_plot3['ATM']  = df_plot3['ATM'] / number_of_days\n",
    "df_plot3['INTERNET'] = df_plot3['INTERNET'] / number_of_days\n",
    "df_plot3['MOBILE'] = df_plot3['MOBILE'] / number_of_days\n",
    "print('After calculate avg:\\n', df_plot3)"
   ]
  },
  {
   "cell_type": "code",
   "execution_count": 24,
   "id": "25b1d804",
   "metadata": {},
   "outputs": [
    {
     "data": {
      "image/png": "[encoded data removed]",
      "text/plain": [
       "<Figure size 864x432 with 1 Axes>"
      ]
     },
     "metadata": {
      "needs_background": "light"
     },
     "output_type": "display_data"
    }
   ],
   "source": [
    "# Vẽ biểu đồ\n",
    "df_plot3.plot(y=['ATM', 'INTERNET', 'MOBILE'], figsize=(12, 6),marker='o')\n",
    "plt.title('Số lượng giao dịch trung bình trong ngày theo giờ')\n",
    "plt.ylabel('Số lượng giao dịch trung bình')\n",
    "plt.xlabel('Giờ giao dịch')\n",
    " \n",
    "plt.show()"
   ]
  },
  {
   "cell_type": "code",
   "execution_count": null,
   "id": "1159634c",
   "metadata": {},
   "outputs": [],
   "source": []
  }
 ],
 "metadata": {
  "kernelspec": {
   "display_name": "Python 3",
   "language": "python",
   "name": "python3"
  },
  "language_info": {
   "codemirror_mode": {
    "name": "ipython",
    "version": 3
   },
   "file_extension": ".py",
   "mimetype": "text/x-python",
   "name": "python",
   "nbconvert_exporter": "python",
   "pygments_lexer": "ipython3",
   "version": "3.8.8"
  }
 },
 "nbformat": 4,
 "nbformat_minor": 5
}
