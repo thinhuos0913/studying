{
 "cells": [
  {
   "cell_type": "markdown",
   "id": "48852516",
   "metadata": {},
   "source": [
    "# RFM Method for Customer Segmentation"
   ]
  },
  {
   "cell_type": "raw",
   "id": "42e72036",
   "metadata": {},
   "source": [
    "To build the RFM model, we need to collect the data of orders with the following fields:\n",
    "    - CustomerID: like ID card, CustomerID helps identify who that customer is?\n",
    "    - OrderDate: order date. From the date of order, we will know the date of the last order of each customer to infer the Recency.\n",
    "    - OrderID: the key field of the table that helps identify an order. Counting the number of OrderID we will infer the number of Frequency.\n",
    "    - Amount: order's value. Total order's value according to CustomerID will be equal to Monetary."
   ]
  },
  {
   "cell_type": "raw",
   "id": "1ee81dca",
   "metadata": {},
   "source": [
    "The data use for this project comes from a contest on Kaggle."
   ]
  },
  {
   "cell_type": "code",
   "execution_count": 1,
   "id": "601463ae",
   "metadata": {},
   "outputs": [],
   "source": [
    "# Load data\n",
    "import pandas as pd\n",
    "\n",
    "df = pd.read_csv('dataCustomerRFM.csv')"
   ]
  },
  {
   "cell_type": "code",
   "execution_count": 2,
   "id": "f914a0de",
   "metadata": {},
   "outputs": [
    {
     "data": {
      "text/html": [
       "<div>\n",
       "<style scoped>\n",
       "    .dataframe tbody tr th:only-of-type {\n",
       "        vertical-align: middle;\n",
       "    }\n",
       "\n",
       "    .dataframe tbody tr th {\n",
       "        vertical-align: top;\n",
       "    }\n",
       "\n",
       "    .dataframe thead th {\n",
       "        text-align: right;\n",
       "    }\n",
       "</style>\n",
       "<table border=\"1\" class=\"dataframe\">\n",
       "  <thead>\n",
       "    <tr style=\"text-align: right;\">\n",
       "      <th></th>\n",
       "      <th>Unnamed: 0</th>\n",
       "      <th>CustomerID</th>\n",
       "      <th>OrderDate</th>\n",
       "      <th>OrderID</th>\n",
       "      <th>Amount</th>\n",
       "    </tr>\n",
       "  </thead>\n",
       "  <tbody>\n",
       "    <tr>\n",
       "      <th>0</th>\n",
       "      <td>0</td>\n",
       "      <td>b5731a6437</td>\n",
       "      <td>2019-07-09 23:56:44</td>\n",
       "      <td>f996cde8437b432580ae2d9c61b1470c</td>\n",
       "      <td>6249000.0</td>\n",
       "    </tr>\n",
       "    <tr>\n",
       "      <th>1</th>\n",
       "      <td>1</td>\n",
       "      <td>ba9a96efd7</td>\n",
       "      <td>2019-07-27 22:25:52</td>\n",
       "      <td>f9e7114611c34377b456774a05310bb5</td>\n",
       "      <td>816200.0</td>\n",
       "    </tr>\n",
       "    <tr>\n",
       "      <th>2</th>\n",
       "      <td>2</td>\n",
       "      <td>3bb7d08ac6</td>\n",
       "      <td>2019-09-30 06:29:39</td>\n",
       "      <td>f9f793f21dc24607a7ca4dae6c3abed3</td>\n",
       "      <td>77000.0</td>\n",
       "    </tr>\n",
       "    <tr>\n",
       "      <th>3</th>\n",
       "      <td>3</td>\n",
       "      <td>9cf0875c93</td>\n",
       "      <td>2019-07-31 16:12:51</td>\n",
       "      <td>83ccdf7eb8944a23b0ef706551c1a818</td>\n",
       "      <td>997000.0</td>\n",
       "    </tr>\n",
       "    <tr>\n",
       "      <th>4</th>\n",
       "      <td>4</td>\n",
       "      <td>b50d95bb37</td>\n",
       "      <td>2019-08-29 06:11:15</td>\n",
       "      <td>7fc8a7e9f6da4d76b9e562ce2ca58e97</td>\n",
       "      <td>380700.0</td>\n",
       "    </tr>\n",
       "  </tbody>\n",
       "</table>\n",
       "</div>"
      ],
      "text/plain": [
       "   Unnamed: 0  CustomerID            OrderDate  \\\n",
       "0           0  b5731a6437  2019-07-09 23:56:44   \n",
       "1           1  ba9a96efd7  2019-07-27 22:25:52   \n",
       "2           2  3bb7d08ac6  2019-09-30 06:29:39   \n",
       "3           3  9cf0875c93  2019-07-31 16:12:51   \n",
       "4           4  b50d95bb37  2019-08-29 06:11:15   \n",
       "\n",
       "                            OrderID     Amount  \n",
       "0  f996cde8437b432580ae2d9c61b1470c  6249000.0  \n",
       "1  f9e7114611c34377b456774a05310bb5   816200.0  \n",
       "2  f9f793f21dc24607a7ca4dae6c3abed3    77000.0  \n",
       "3  83ccdf7eb8944a23b0ef706551c1a818   997000.0  \n",
       "4  7fc8a7e9f6da4d76b9e562ce2ca58e97   380700.0  "
      ]
     },
     "execution_count": 2,
     "metadata": {},
     "output_type": "execute_result"
    }
   ],
   "source": [
    "df.head()"
   ]
  },
  {
   "cell_type": "code",
   "execution_count": 3,
   "id": "799f70d9",
   "metadata": {},
   "outputs": [],
   "source": [
    "# Calculate Recency-Frequency-Monetary (RFM)\n",
    "# 1. Recency\n",
    "from datetime import datetime\n",
    "# find the most recent order date\n",
    "dfRecentOrder = pd.pivot_table(data=df,\n",
    "                              index=['CustomerID'],\n",
    "                              values=['OrderDate'],\n",
    "                              aggfunc={'OrderDate':max}\n",
    "                              )\n",
    "\n",
    "dfRecentOrder.columns = ['RecentOrderDate']\n",
    "df = pd.merge(df, dfRecentOrder.reset_index(), on = ['CustomerID'])\n",
    "df['RecentOrderDate'] = df['RecentOrderDate'].apply(lambda x: datetime.strptime(x, '%Y-%m-%d %H:%M:%S'))\n",
    "df['Recency'] = df['RecentOrderDate'].apply(lambda x: (datetime.now() - x).days)"
   ]
  },
  {
   "cell_type": "code",
   "execution_count": 4,
   "id": "89fecc83",
   "metadata": {},
   "outputs": [],
   "source": [
    "# change Recency value to negative so that the value of the variable is covariant with the customer's rank\n",
    "df['Recency'] = - df['Recency']"
   ]
  },
  {
   "cell_type": "code",
   "execution_count": 5,
   "id": "489bb612",
   "metadata": {},
   "outputs": [
    {
     "data": {
      "text/plain": [
       "0   -1082\n",
       "1   -1064\n",
       "2   -1000\n",
       "3   -1061\n",
       "4   -1032\n",
       "Name: Recency, dtype: int64"
      ]
     },
     "execution_count": 5,
     "metadata": {},
     "output_type": "execute_result"
    }
   ],
   "source": [
    "df['Recency'].head()"
   ]
  },
  {
   "cell_type": "code",
   "execution_count": 6,
   "id": "31b8fc4c",
   "metadata": {},
   "outputs": [],
   "source": [
    "# 2. Frequency\n",
    "dfFrequency = df.groupby('CustomerID').OrderID.nunique().to_frame()\n",
    "dfFrequency.columns = ['Frequency']\n",
    "df = pd.merge(df, dfFrequency.reset_index(), on = 'CustomerID')"
   ]
  },
  {
   "cell_type": "code",
   "execution_count": 7,
   "id": "ca5ecc11",
   "metadata": {},
   "outputs": [
    {
     "data": {
      "text/plain": [
       "0    1\n",
       "1    1\n",
       "2    1\n",
       "3    1\n",
       "4    1\n",
       "Name: Frequency, dtype: int64"
      ]
     },
     "execution_count": 7,
     "metadata": {},
     "output_type": "execute_result"
    }
   ],
   "source": [
    "df['Frequency'].head()"
   ]
  },
  {
   "cell_type": "code",
   "execution_count": 8,
   "id": "06df3acd",
   "metadata": {},
   "outputs": [],
   "source": [
    "# 3. Monetary\n",
    "dfMonetary = df.groupby('CustomerID').Amount.sum().to_frame()\n",
    "dfMonetary.columns = ['Monetary']\n",
    "df = pd.merge(df, dfMonetary.reset_index(), on = 'CustomerID')"
   ]
  },
  {
   "cell_type": "code",
   "execution_count": 9,
   "id": "2c16c834",
   "metadata": {},
   "outputs": [
    {
     "data": {
      "text/plain": [
       "0    6249000.0\n",
       "1     816200.0\n",
       "2      77000.0\n",
       "3     997000.0\n",
       "4     380700.0\n",
       "Name: Monetary, dtype: float64"
      ]
     },
     "execution_count": 9,
     "metadata": {},
     "output_type": "execute_result"
    }
   ],
   "source": [
    "df['Monetary'].head()"
   ]
  },
  {
   "cell_type": "code",
   "execution_count": 10,
   "id": "33edd18f",
   "metadata": {},
   "outputs": [],
   "source": [
    "# Mapping the values of RFM fields with rank's threshold = 10\n",
    "orderFrequencies = df['Frequency'].rank(method='first')\n",
    "df['rFrequency'] = pd.qcut(orderFrequencies, 10, labels = False)\n",
    "df[['rRecency', 'rMonetary']] = df[['Recency', 'Monetary']].apply(lambda x: pd.qcut(x, 10, labels = False))\n",
    "df['rank'] = (df['rFrequency'] + df['rRecency'] + df['rMonetary'])/3\n",
    "df['FinalRank'] = df['rank'].apply(int)"
   ]
  },
  {
   "cell_type": "code",
   "execution_count": 11,
   "id": "a7b2bfc9",
   "metadata": {},
   "outputs": [
    {
     "data": {
      "image/png": "[encoded data removed]",
      "text/plain": [
       "<Figure size 432x288 with 1 Axes>"
      ]
     },
     "metadata": {
      "needs_background": "light"
     },
     "output_type": "display_data"
    }
   ],
   "source": [
    "# Look at rank distribution of customer\n",
    "import matplotlib.pyplot as plt\n",
    "\n",
    "df['rank'].plot.hist(bins = 10)\n",
    "plt.show()"
   ]
  },
  {
   "cell_type": "raw",
   "id": "9c015eac",
   "metadata": {},
   "source": [
    "Based on the histogram, we can also segment customers into 3 groups:\n",
    "    - Low potential customers - Low label: Rank from [0, 4)\n",
    "    - Normal customer - Normal: Rank from [4, 7)\n",
    "    - VIP customers - VIP label: Rank [7, 9]"
   ]
  },
  {
   "cell_type": "code",
   "execution_count": 12,
   "id": "2556b3c6",
   "metadata": {},
   "outputs": [],
   "source": [
    "df['Segment'] = 'Low'\n",
    "df.loc[(df['rank'] < 7) & (df['rank'] >= 4), 'Segment'] = 'Normal'\n",
    "df.loc[df['rank'] >= 7, 'Segment'] = 'VIP'"
   ]
  },
  {
   "cell_type": "code",
   "execution_count": 13,
   "id": "d00baa7d",
   "metadata": {},
   "outputs": [
    {
     "data": {
      "text/plain": [
       "0    Low\n",
       "1    Low\n",
       "2    Low\n",
       "3    Low\n",
       "4    Low\n",
       "Name: Segment, dtype: object"
      ]
     },
     "execution_count": 13,
     "metadata": {},
     "output_type": "execute_result"
    }
   ],
   "source": [
    "df['Segment'].head()"
   ]
  },
  {
   "cell_type": "code",
   "execution_count": 14,
   "id": "8462ba52",
   "metadata": {},
   "outputs": [
    {
     "data": {
      "text/plain": [
       "Text(0.5, 1.0, 'Percentage of customers by segment')"
      ]
     },
     "execution_count": 14,
     "metadata": {},
     "output_type": "execute_result"
    },
    {
     "data": {
      "image/png": "[encoded data removed]",
      "text/plain": [
       "<Figure size 576x576 with 1 Axes>"
      ]
     },
     "metadata": {},
     "output_type": "display_data"
    }
   ],
   "source": [
    "# Statistic the numbers of customers per segment\n",
    "df.groupby('Segment').CustomerID.count().plot.pie(autopct = '%.2f%%', figsize = (8, 8))\n",
    "plt.title('Percentage of customers by segment')"
   ]
  },
  {
   "cell_type": "raw",
   "id": "2e34f9cb",
   "metadata": {},
   "source": [
    "=> The results show that the number of VIP customers of the company is small => The company needs to have a policy to change products, strengthen marketing to attract more consumers."
   ]
  },
  {
   "cell_type": "code",
   "execution_count": 15,
   "id": "ac5af5c2",
   "metadata": {},
   "outputs": [
    {
     "data": {
      "text/plain": [
       "Text(0.5, 1.0, 'Ratio of sales by segment')"
      ]
     },
     "execution_count": 15,
     "metadata": {},
     "output_type": "execute_result"
    },
    {
     "data": {
      "image/png": "[encoded data removed]",
      "text/plain": [
       "<Figure size 576x576 with 1 Axes>"
      ]
     },
     "metadata": {},
     "output_type": "display_data"
    }
   ],
   "source": [
    "# Visualize by sales, purchase frequency, returning time of customer groups after segmenting.\n",
    "df.groupby('Segment').Amount.sum().plot.pie(autopct = '%.2f%%', figsize = (8, 8))\n",
    "plt.title('Ratio of sales by segment')"
   ]
  },
  {
   "cell_type": "raw",
   "id": "8b433e7b",
   "metadata": {},
   "source": [
    "=> Normal customers are the customers who bring the biggest sales to the Company, nearly 44%. The company has yet to reach its goal of 20% of its VIP customers bringing in 80% of the profits."
   ]
  },
  {
   "cell_type": "code",
   "execution_count": 17,
   "id": "65f09974",
   "metadata": {},
   "outputs": [
    {
     "data": {
      "text/plain": [
       "Text(0.5, 1.0, 'Ratio of sales by segment')"
      ]
     },
     "execution_count": 17,
     "metadata": {},
     "output_type": "execute_result"
    },
    {
     "data": {
      "image/png": "[encoded data removed]",
      "text/plain": [
       "<Figure size 432x576 with 1 Axes>"
      ]
     },
     "metadata": {
      "needs_background": "light"
     },
     "output_type": "display_data"
    }
   ],
   "source": [
    "df.groupby('Segment').Amount.mean().plot.bar(figsize = (6, 8))\n",
    "plt.title('Ratio of sales by segment')"
   ]
  },
  {
   "cell_type": "raw",
   "id": "8fa3c67b",
   "metadata": {},
   "source": [
    "On average: \n",
    "    - VIP customer spends about 4.0 million. \n",
    "    - Normal customers spend about 2.3 million.\n",
    "    - Low customers spend more than 1 million. \n",
    "=> The difference in consumption between VIP customers and Normal/Less potential customers is very large.\n",
    "=> The company have a real set of customers called VIP.\n",
    "=> Adjustments of product policies and appropriate customer care will improve the profit from VIP customers."
   ]
  },
  {
   "cell_type": "code",
   "execution_count": 18,
   "id": "fcfc22e0",
   "metadata": {},
   "outputs": [
    {
     "data": {
      "text/plain": [
       "Text(0.5, 1.0, 'Frequency of purchase by segment')"
      ]
     },
     "execution_count": 18,
     "metadata": {},
     "output_type": "execute_result"
    },
    {
     "data": {
      "image/png": "[encoded data removed]",
      "text/plain": [
       "<Figure size 432x576 with 1 Axes>"
      ]
     },
     "metadata": {
      "needs_background": "light"
     },
     "output_type": "display_data"
    }
   ],
   "source": [
    "df.groupby('Segment').Frequency.mean().plot.bar(figsize = (6, 8))\n",
    "plt.title('Frequency of purchase by segment')"
   ]
  },
  {
   "cell_type": "raw",
   "id": "fe26646a",
   "metadata": {},
   "source": [
    "=> VIP customers buy much more than Normal/Less potential customers."
   ]
  },
  {
   "cell_type": "code",
   "execution_count": 19,
   "id": "e78716e0",
   "metadata": {},
   "outputs": [
    {
     "data": {
      "text/plain": [
       "Text(0.5, 1.0, 'The number of days of the last purchase by segment')"
      ]
     },
     "execution_count": 19,
     "metadata": {},
     "output_type": "execute_result"
    },
    {
     "data": {
      "image/png": "[encoded data removed]",
      "text/plain": [
       "<Figure size 432x576 with 1 Axes>"
      ]
     },
     "metadata": {
      "needs_background": "light"
     },
     "output_type": "display_data"
    }
   ],
   "source": [
    "df.groupby('Segment').Recency.mean().plot.bar(figsize = (6, 8))\n",
    "plt.title('The number of days of the last purchase by segment')"
   ]
  },
  {
   "cell_type": "raw",
   "id": "172825ca",
   "metadata": {},
   "source": [
    "=> The time since the last purchase of a VIP, Normal and Less potential customer is roughly the same length."
   ]
  },
  {
   "cell_type": "markdown",
   "id": "41289acc",
   "metadata": {},
   "source": [
    "Conclusion:\n",
    "    - We need to change our product policy so that they become more diverse and attractive to 3 ranked customers.\n",
    "    - Increase the number of VIP customers to ensure the target of 20% VIP customers bringing 80% of sales.\n",
    "    - Provide effective customer care and retention strategies."
   ]
  },
  {
   "cell_type": "code",
   "execution_count": null,
   "id": "e6cd8520",
   "metadata": {},
   "outputs": [],
   "source": []
  },
  {
   "cell_type": "markdown",
   "id": "a1507532",
   "metadata": {},
   "source": [
    "# Clustering"
   ]
  },
  {
   "cell_type": "code",
   "execution_count": 20,
   "id": "76036eb9",
   "metadata": {},
   "outputs": [
    {
     "data": {
      "text/html": [
       "<div>\n",
       "<style scoped>\n",
       "    .dataframe tbody tr th:only-of-type {\n",
       "        vertical-align: middle;\n",
       "    }\n",
       "\n",
       "    .dataframe tbody tr th {\n",
       "        vertical-align: top;\n",
       "    }\n",
       "\n",
       "    .dataframe thead th {\n",
       "        text-align: right;\n",
       "    }\n",
       "</style>\n",
       "<table border=\"1\" class=\"dataframe\">\n",
       "  <thead>\n",
       "    <tr style=\"text-align: right;\">\n",
       "      <th></th>\n",
       "      <th>Unnamed: 0</th>\n",
       "      <th>CustomerID</th>\n",
       "      <th>OrderDate</th>\n",
       "      <th>OrderID</th>\n",
       "      <th>Amount</th>\n",
       "      <th>RecentOrderDate</th>\n",
       "      <th>Recency</th>\n",
       "      <th>Frequency</th>\n",
       "      <th>Monetary</th>\n",
       "      <th>rFrequency</th>\n",
       "      <th>rRecency</th>\n",
       "      <th>rMonetary</th>\n",
       "      <th>rank</th>\n",
       "      <th>FinalRank</th>\n",
       "      <th>Segment</th>\n",
       "    </tr>\n",
       "  </thead>\n",
       "  <tbody>\n",
       "    <tr>\n",
       "      <th>0</th>\n",
       "      <td>0</td>\n",
       "      <td>b5731a6437</td>\n",
       "      <td>2019-07-09 23:56:44</td>\n",
       "      <td>f996cde8437b432580ae2d9c61b1470c</td>\n",
       "      <td>6249000.0</td>\n",
       "      <td>2019-07-09 23:56:44</td>\n",
       "      <td>-1082</td>\n",
       "      <td>1</td>\n",
       "      <td>6249000.0</td>\n",
       "      <td>0</td>\n",
       "      <td>0</td>\n",
       "      <td>7</td>\n",
       "      <td>2.333333</td>\n",
       "      <td>2</td>\n",
       "      <td>Low</td>\n",
       "    </tr>\n",
       "    <tr>\n",
       "      <th>1</th>\n",
       "      <td>1</td>\n",
       "      <td>ba9a96efd7</td>\n",
       "      <td>2019-07-27 22:25:52</td>\n",
       "      <td>f9e7114611c34377b456774a05310bb5</td>\n",
       "      <td>816200.0</td>\n",
       "      <td>2019-07-27 22:25:52</td>\n",
       "      <td>-1064</td>\n",
       "      <td>1</td>\n",
       "      <td>816200.0</td>\n",
       "      <td>0</td>\n",
       "      <td>1</td>\n",
       "      <td>3</td>\n",
       "      <td>1.333333</td>\n",
       "      <td>1</td>\n",
       "      <td>Low</td>\n",
       "    </tr>\n",
       "    <tr>\n",
       "      <th>2</th>\n",
       "      <td>2</td>\n",
       "      <td>3bb7d08ac6</td>\n",
       "      <td>2019-09-30 06:29:39</td>\n",
       "      <td>f9f793f21dc24607a7ca4dae6c3abed3</td>\n",
       "      <td>77000.0</td>\n",
       "      <td>2019-09-30 06:29:39</td>\n",
       "      <td>-1000</td>\n",
       "      <td>1</td>\n",
       "      <td>77000.0</td>\n",
       "      <td>0</td>\n",
       "      <td>5</td>\n",
       "      <td>0</td>\n",
       "      <td>1.666667</td>\n",
       "      <td>1</td>\n",
       "      <td>Low</td>\n",
       "    </tr>\n",
       "    <tr>\n",
       "      <th>3</th>\n",
       "      <td>3</td>\n",
       "      <td>9cf0875c93</td>\n",
       "      <td>2019-07-31 16:12:51</td>\n",
       "      <td>83ccdf7eb8944a23b0ef706551c1a818</td>\n",
       "      <td>997000.0</td>\n",
       "      <td>2019-07-31 16:12:51</td>\n",
       "      <td>-1061</td>\n",
       "      <td>1</td>\n",
       "      <td>997000.0</td>\n",
       "      <td>0</td>\n",
       "      <td>1</td>\n",
       "      <td>3</td>\n",
       "      <td>1.333333</td>\n",
       "      <td>1</td>\n",
       "      <td>Low</td>\n",
       "    </tr>\n",
       "    <tr>\n",
       "      <th>4</th>\n",
       "      <td>4</td>\n",
       "      <td>b50d95bb37</td>\n",
       "      <td>2019-08-29 06:11:15</td>\n",
       "      <td>7fc8a7e9f6da4d76b9e562ce2ca58e97</td>\n",
       "      <td>380700.0</td>\n",
       "      <td>2019-08-29 06:11:15</td>\n",
       "      <td>-1032</td>\n",
       "      <td>1</td>\n",
       "      <td>380700.0</td>\n",
       "      <td>0</td>\n",
       "      <td>3</td>\n",
       "      <td>1</td>\n",
       "      <td>1.333333</td>\n",
       "      <td>1</td>\n",
       "      <td>Low</td>\n",
       "    </tr>\n",
       "  </tbody>\n",
       "</table>\n",
       "</div>"
      ],
      "text/plain": [
       "   Unnamed: 0  CustomerID            OrderDate  \\\n",
       "0           0  b5731a6437  2019-07-09 23:56:44   \n",
       "1           1  ba9a96efd7  2019-07-27 22:25:52   \n",
       "2           2  3bb7d08ac6  2019-09-30 06:29:39   \n",
       "3           3  9cf0875c93  2019-07-31 16:12:51   \n",
       "4           4  b50d95bb37  2019-08-29 06:11:15   \n",
       "\n",
       "                            OrderID     Amount     RecentOrderDate  Recency  \\\n",
       "0  f996cde8437b432580ae2d9c61b1470c  6249000.0 2019-07-09 23:56:44    -1082   \n",
       "1  f9e7114611c34377b456774a05310bb5   816200.0 2019-07-27 22:25:52    -1064   \n",
       "2  f9f793f21dc24607a7ca4dae6c3abed3    77000.0 2019-09-30 06:29:39    -1000   \n",
       "3  83ccdf7eb8944a23b0ef706551c1a818   997000.0 2019-07-31 16:12:51    -1061   \n",
       "4  7fc8a7e9f6da4d76b9e562ce2ca58e97   380700.0 2019-08-29 06:11:15    -1032   \n",
       "\n",
       "   Frequency   Monetary  rFrequency  rRecency  rMonetary      rank  FinalRank  \\\n",
       "0          1  6249000.0           0         0          7  2.333333          2   \n",
       "1          1   816200.0           0         1          3  1.333333          1   \n",
       "2          1    77000.0           0         5          0  1.666667          1   \n",
       "3          1   997000.0           0         1          3  1.333333          1   \n",
       "4          1   380700.0           0         3          1  1.333333          1   \n",
       "\n",
       "  Segment  \n",
       "0     Low  \n",
       "1     Low  \n",
       "2     Low  \n",
       "3     Low  \n",
       "4     Low  "
      ]
     },
     "execution_count": 20,
     "metadata": {},
     "output_type": "execute_result"
    }
   ],
   "source": [
    "df.head()"
   ]
  },
  {
   "cell_type": "code",
   "execution_count": 21,
   "id": "c29d7842",
   "metadata": {},
   "outputs": [],
   "source": [
    "# Prepare data for K-means clustering\n",
    "df_customers = pd.DataFrame()\n",
    "df_customers['Recency'] = df['Recency']\n",
    "df_customers['Frequency'] = df['Frequency']\n",
    "df_customers['Monetary'] = df['Monetary'].values"
   ]
  },
  {
   "cell_type": "code",
   "execution_count": 22,
   "id": "50446226",
   "metadata": {},
   "outputs": [
    {
     "data": {
      "text/html": [
       "<div>\n",
       "<style scoped>\n",
       "    .dataframe tbody tr th:only-of-type {\n",
       "        vertical-align: middle;\n",
       "    }\n",
       "\n",
       "    .dataframe tbody tr th {\n",
       "        vertical-align: top;\n",
       "    }\n",
       "\n",
       "    .dataframe thead th {\n",
       "        text-align: right;\n",
       "    }\n",
       "</style>\n",
       "<table border=\"1\" class=\"dataframe\">\n",
       "  <thead>\n",
       "    <tr style=\"text-align: right;\">\n",
       "      <th></th>\n",
       "      <th>Recency</th>\n",
       "      <th>Frequency</th>\n",
       "      <th>Monetary</th>\n",
       "    </tr>\n",
       "  </thead>\n",
       "  <tbody>\n",
       "    <tr>\n",
       "      <th>0</th>\n",
       "      <td>-1082</td>\n",
       "      <td>1</td>\n",
       "      <td>6249000.0</td>\n",
       "    </tr>\n",
       "    <tr>\n",
       "      <th>1</th>\n",
       "      <td>-1064</td>\n",
       "      <td>1</td>\n",
       "      <td>816200.0</td>\n",
       "    </tr>\n",
       "    <tr>\n",
       "      <th>2</th>\n",
       "      <td>-1000</td>\n",
       "      <td>1</td>\n",
       "      <td>77000.0</td>\n",
       "    </tr>\n",
       "    <tr>\n",
       "      <th>3</th>\n",
       "      <td>-1061</td>\n",
       "      <td>1</td>\n",
       "      <td>997000.0</td>\n",
       "    </tr>\n",
       "    <tr>\n",
       "      <th>4</th>\n",
       "      <td>-1032</td>\n",
       "      <td>1</td>\n",
       "      <td>380700.0</td>\n",
       "    </tr>\n",
       "  </tbody>\n",
       "</table>\n",
       "</div>"
      ],
      "text/plain": [
       "   Recency  Frequency   Monetary\n",
       "0    -1082          1  6249000.0\n",
       "1    -1064          1   816200.0\n",
       "2    -1000          1    77000.0\n",
       "3    -1061          1   997000.0\n",
       "4    -1032          1   380700.0"
      ]
     },
     "execution_count": 22,
     "metadata": {},
     "output_type": "execute_result"
    }
   ],
   "source": [
    "df_customers.head()"
   ]
  },
  {
   "cell_type": "code",
   "execution_count": 23,
   "id": "495fa8db",
   "metadata": {},
   "outputs": [],
   "source": [
    "# Scaling data\n",
    "from sklearn.preprocessing import StandardScaler\n",
    "\n",
    "scaler = StandardScaler()\n",
    "scaler.fit(df_customers)\n",
    "df_customers = scaler.transform(df_customers)"
   ]
  },
  {
   "cell_type": "code",
   "execution_count": 24,
   "id": "92483b5d",
   "metadata": {},
   "outputs": [
    {
     "name": "stdout",
     "output_type": "stream",
     "text": [
      "[[-2.02418687 -0.141086   -0.08195293]\n",
      " [-1.50321345 -0.141086   -0.08498161]\n",
      " [ 0.34913648 -0.141086   -0.0853937 ]\n",
      " ...\n",
      " [ 0.08864977 -0.141086   -0.08538088]\n",
      " [-0.43232364 -0.141086   -0.08538088]\n",
      " [ 0.69645209 -0.141086   -0.08411038]]\n"
     ]
    }
   ],
   "source": [
    "print(df_customers)"
   ]
  },
  {
   "cell_type": "code",
   "execution_count": 25,
   "id": "86407dd5",
   "metadata": {},
   "outputs": [
    {
     "data": {
      "text/html": [
       "<div>\n",
       "<style scoped>\n",
       "    .dataframe tbody tr th:only-of-type {\n",
       "        vertical-align: middle;\n",
       "    }\n",
       "\n",
       "    .dataframe tbody tr th {\n",
       "        vertical-align: top;\n",
       "    }\n",
       "\n",
       "    .dataframe thead th {\n",
       "        text-align: right;\n",
       "    }\n",
       "</style>\n",
       "<table border=\"1\" class=\"dataframe\">\n",
       "  <thead>\n",
       "    <tr style=\"text-align: right;\">\n",
       "      <th></th>\n",
       "      <th>0</th>\n",
       "      <th>1</th>\n",
       "      <th>2</th>\n",
       "    </tr>\n",
       "  </thead>\n",
       "  <tbody>\n",
       "    <tr>\n",
       "      <th>0</th>\n",
       "      <td>-2.024187</td>\n",
       "      <td>-0.141086</td>\n",
       "      <td>-0.081953</td>\n",
       "    </tr>\n",
       "    <tr>\n",
       "      <th>1</th>\n",
       "      <td>-1.503213</td>\n",
       "      <td>-0.141086</td>\n",
       "      <td>-0.084982</td>\n",
       "    </tr>\n",
       "    <tr>\n",
       "      <th>2</th>\n",
       "      <td>0.349136</td>\n",
       "      <td>-0.141086</td>\n",
       "      <td>-0.085394</td>\n",
       "    </tr>\n",
       "    <tr>\n",
       "      <th>3</th>\n",
       "      <td>-1.416385</td>\n",
       "      <td>-0.141086</td>\n",
       "      <td>-0.084881</td>\n",
       "    </tr>\n",
       "    <tr>\n",
       "      <th>4</th>\n",
       "      <td>-0.577038</td>\n",
       "      <td>-0.141086</td>\n",
       "      <td>-0.085224</td>\n",
       "    </tr>\n",
       "  </tbody>\n",
       "</table>\n",
       "</div>"
      ],
      "text/plain": [
       "          0         1         2\n",
       "0 -2.024187 -0.141086 -0.081953\n",
       "1 -1.503213 -0.141086 -0.084982\n",
       "2  0.349136 -0.141086 -0.085394\n",
       "3 -1.416385 -0.141086 -0.084881\n",
       "4 -0.577038 -0.141086 -0.085224"
      ]
     },
     "execution_count": 25,
     "metadata": {},
     "output_type": "execute_result"
    }
   ],
   "source": [
    "pd.DataFrame(df_customers).head()"
   ]
  },
  {
   "cell_type": "code",
   "execution_count": 43,
   "id": "ef3468bd",
   "metadata": {},
   "outputs": [
    {
     "data": {
      "image/png": "[encoded data removed]",
      "text/plain": [
       "<Figure size 432x288 with 1 Axes>"
      ]
     },
     "metadata": {
      "needs_background": "light"
     },
     "output_type": "display_data"
    }
   ],
   "source": [
    "# Apply data into K-Means clustering\n",
    "# Choose number of cluster by Elbow method\n",
    "from sklearn.cluster import KMeans\n",
    "import seaborn as sns\n",
    "\n",
    "sse = {}\n",
    "for k in range(1, 10):\n",
    "    kmeans = KMeans(n_clusters=k, random_state=42)\n",
    "    kmeans.fit(df_customers)\n",
    "    sse[k] = kmeans.inertia_ \n",
    "    \n",
    "plt.title('The Elbow Method')\n",
    "plt.xlabel('k')\n",
    "plt.ylabel('SSE')\n",
    "sns.pointplot(x=list(sse.keys()), y=list(sse.values()))\n",
    "plt.show()"
   ]
  },
  {
   "cell_type": "code",
   "execution_count": 47,
   "id": "1ab53b02",
   "metadata": {},
   "outputs": [
    {
     "data": {
      "text/plain": [
       "KMeans(n_clusters=3, random_state=42)"
      ]
     },
     "execution_count": 47,
     "metadata": {},
     "output_type": "execute_result"
    }
   ],
   "source": [
    "model = KMeans(n_clusters=3, random_state=42)\n",
    "model.fit(df_customers)"
   ]
  },
  {
   "cell_type": "code",
   "execution_count": 50,
   "id": "ec096849",
   "metadata": {},
   "outputs": [
    {
     "data": {
      "text/html": [
       "<div>\n",
       "<style scoped>\n",
       "    .dataframe tbody tr th:only-of-type {\n",
       "        vertical-align: middle;\n",
       "    }\n",
       "\n",
       "    .dataframe tbody tr th {\n",
       "        vertical-align: top;\n",
       "    }\n",
       "\n",
       "    .dataframe thead th {\n",
       "        text-align: right;\n",
       "    }\n",
       "</style>\n",
       "<table border=\"1\" class=\"dataframe\">\n",
       "  <thead>\n",
       "    <tr style=\"text-align: right;\">\n",
       "      <th></th>\n",
       "      <th>Unnamed: 0</th>\n",
       "      <th>CustomerID</th>\n",
       "      <th>OrderDate</th>\n",
       "      <th>OrderID</th>\n",
       "      <th>Amount</th>\n",
       "      <th>RecentOrderDate</th>\n",
       "      <th>Recency</th>\n",
       "      <th>Frequency</th>\n",
       "      <th>Monetary</th>\n",
       "      <th>rFrequency</th>\n",
       "      <th>rRecency</th>\n",
       "      <th>rMonetary</th>\n",
       "      <th>rank</th>\n",
       "      <th>FinalRank</th>\n",
       "      <th>Segment</th>\n",
       "      <th>Cluster</th>\n",
       "    </tr>\n",
       "  </thead>\n",
       "  <tbody>\n",
       "    <tr>\n",
       "      <th>0</th>\n",
       "      <td>0</td>\n",
       "      <td>b5731a6437</td>\n",
       "      <td>2019-07-09 23:56:44</td>\n",
       "      <td>f996cde8437b432580ae2d9c61b1470c</td>\n",
       "      <td>6249000.0</td>\n",
       "      <td>2019-07-09 23:56:44</td>\n",
       "      <td>-1082</td>\n",
       "      <td>1</td>\n",
       "      <td>6249000.0</td>\n",
       "      <td>0</td>\n",
       "      <td>0</td>\n",
       "      <td>7</td>\n",
       "      <td>2.333333</td>\n",
       "      <td>2</td>\n",
       "      <td>Low</td>\n",
       "      <td>1</td>\n",
       "    </tr>\n",
       "    <tr>\n",
       "      <th>1</th>\n",
       "      <td>1</td>\n",
       "      <td>ba9a96efd7</td>\n",
       "      <td>2019-07-27 22:25:52</td>\n",
       "      <td>f9e7114611c34377b456774a05310bb5</td>\n",
       "      <td>816200.0</td>\n",
       "      <td>2019-07-27 22:25:52</td>\n",
       "      <td>-1064</td>\n",
       "      <td>1</td>\n",
       "      <td>816200.0</td>\n",
       "      <td>0</td>\n",
       "      <td>1</td>\n",
       "      <td>3</td>\n",
       "      <td>1.333333</td>\n",
       "      <td>1</td>\n",
       "      <td>Low</td>\n",
       "      <td>1</td>\n",
       "    </tr>\n",
       "    <tr>\n",
       "      <th>2</th>\n",
       "      <td>2</td>\n",
       "      <td>3bb7d08ac6</td>\n",
       "      <td>2019-09-30 06:29:39</td>\n",
       "      <td>f9f793f21dc24607a7ca4dae6c3abed3</td>\n",
       "      <td>77000.0</td>\n",
       "      <td>2019-09-30 06:29:39</td>\n",
       "      <td>-1000</td>\n",
       "      <td>1</td>\n",
       "      <td>77000.0</td>\n",
       "      <td>0</td>\n",
       "      <td>5</td>\n",
       "      <td>0</td>\n",
       "      <td>1.666667</td>\n",
       "      <td>1</td>\n",
       "      <td>Low</td>\n",
       "      <td>0</td>\n",
       "    </tr>\n",
       "    <tr>\n",
       "      <th>3</th>\n",
       "      <td>3</td>\n",
       "      <td>9cf0875c93</td>\n",
       "      <td>2019-07-31 16:12:51</td>\n",
       "      <td>83ccdf7eb8944a23b0ef706551c1a818</td>\n",
       "      <td>997000.0</td>\n",
       "      <td>2019-07-31 16:12:51</td>\n",
       "      <td>-1061</td>\n",
       "      <td>1</td>\n",
       "      <td>997000.0</td>\n",
       "      <td>0</td>\n",
       "      <td>1</td>\n",
       "      <td>3</td>\n",
       "      <td>1.333333</td>\n",
       "      <td>1</td>\n",
       "      <td>Low</td>\n",
       "      <td>1</td>\n",
       "    </tr>\n",
       "    <tr>\n",
       "      <th>4</th>\n",
       "      <td>4</td>\n",
       "      <td>b50d95bb37</td>\n",
       "      <td>2019-08-29 06:11:15</td>\n",
       "      <td>7fc8a7e9f6da4d76b9e562ce2ca58e97</td>\n",
       "      <td>380700.0</td>\n",
       "      <td>2019-08-29 06:11:15</td>\n",
       "      <td>-1032</td>\n",
       "      <td>1</td>\n",
       "      <td>380700.0</td>\n",
       "      <td>0</td>\n",
       "      <td>3</td>\n",
       "      <td>1</td>\n",
       "      <td>1.333333</td>\n",
       "      <td>1</td>\n",
       "      <td>Low</td>\n",
       "      <td>1</td>\n",
       "    </tr>\n",
       "  </tbody>\n",
       "</table>\n",
       "</div>"
      ],
      "text/plain": [
       "   Unnamed: 0  CustomerID            OrderDate  \\\n",
       "0           0  b5731a6437  2019-07-09 23:56:44   \n",
       "1           1  ba9a96efd7  2019-07-27 22:25:52   \n",
       "2           2  3bb7d08ac6  2019-09-30 06:29:39   \n",
       "3           3  9cf0875c93  2019-07-31 16:12:51   \n",
       "4           4  b50d95bb37  2019-08-29 06:11:15   \n",
       "\n",
       "                            OrderID     Amount     RecentOrderDate  Recency  \\\n",
       "0  f996cde8437b432580ae2d9c61b1470c  6249000.0 2019-07-09 23:56:44    -1082   \n",
       "1  f9e7114611c34377b456774a05310bb5   816200.0 2019-07-27 22:25:52    -1064   \n",
       "2  f9f793f21dc24607a7ca4dae6c3abed3    77000.0 2019-09-30 06:29:39    -1000   \n",
       "3  83ccdf7eb8944a23b0ef706551c1a818   997000.0 2019-07-31 16:12:51    -1061   \n",
       "4  7fc8a7e9f6da4d76b9e562ce2ca58e97   380700.0 2019-08-29 06:11:15    -1032   \n",
       "\n",
       "   Frequency   Monetary  rFrequency  rRecency  rMonetary      rank  FinalRank  \\\n",
       "0          1  6249000.0           0         0          7  2.333333          2   \n",
       "1          1   816200.0           0         1          3  1.333333          1   \n",
       "2          1    77000.0           0         5          0  1.666667          1   \n",
       "3          1   997000.0           0         1          3  1.333333          1   \n",
       "4          1   380700.0           0         3          1  1.333333          1   \n",
       "\n",
       "  Segment  Cluster  \n",
       "0     Low        1  \n",
       "1     Low        1  \n",
       "2     Low        0  \n",
       "3     Low        1  \n",
       "4     Low        1  "
      ]
     },
     "execution_count": 50,
     "metadata": {},
     "output_type": "execute_result"
    }
   ],
   "source": [
    "df['Cluster'] = model.labels_\n",
    "df.head()"
   ]
  },
  {
   "cell_type": "code",
   "execution_count": 51,
   "id": "1df5444f",
   "metadata": {},
   "outputs": [
    {
     "data": {
      "text/html": [
       "<div>\n",
       "<style scoped>\n",
       "    .dataframe tbody tr th:only-of-type {\n",
       "        vertical-align: middle;\n",
       "    }\n",
       "\n",
       "    .dataframe tbody tr th {\n",
       "        vertical-align: top;\n",
       "    }\n",
       "\n",
       "    .dataframe thead th {\n",
       "        text-align: right;\n",
       "    }\n",
       "</style>\n",
       "<table border=\"1\" class=\"dataframe\">\n",
       "  <thead>\n",
       "    <tr style=\"text-align: right;\">\n",
       "      <th></th>\n",
       "      <th>Recency</th>\n",
       "      <th>Frequency</th>\n",
       "      <th>Monetary</th>\n",
       "    </tr>\n",
       "    <tr>\n",
       "      <th>Cluster</th>\n",
       "      <th></th>\n",
       "      <th></th>\n",
       "      <th></th>\n",
       "    </tr>\n",
       "  </thead>\n",
       "  <tbody>\n",
       "    <tr>\n",
       "      <th>0</th>\n",
       "      <td>-988.60</td>\n",
       "      <td>18.16</td>\n",
       "      <td>2.277214e+08</td>\n",
       "    </tr>\n",
       "    <tr>\n",
       "      <th>1</th>\n",
       "      <td>-1050.99</td>\n",
       "      <td>6.76</td>\n",
       "      <td>1.818981e+07</td>\n",
       "    </tr>\n",
       "    <tr>\n",
       "      <th>2</th>\n",
       "      <td>-970.00</td>\n",
       "      <td>2807.00</td>\n",
       "      <td>7.591467e+08</td>\n",
       "    </tr>\n",
       "  </tbody>\n",
       "</table>\n",
       "</div>"
      ],
      "text/plain": [
       "         Recency  Frequency      Monetary\n",
       "Cluster                                  \n",
       "0        -988.60      18.16  2.277214e+08\n",
       "1       -1050.99       6.76  1.818981e+07\n",
       "2        -970.00    2807.00  7.591467e+08"
      ]
     },
     "execution_count": 51,
     "metadata": {},
     "output_type": "execute_result"
    }
   ],
   "source": [
    "df.groupby('Cluster').agg(\n",
    "    {\n",
    "        'Recency':'mean',\n",
    "        'Frequency':'mean',\n",
    "        'Monetary':'mean'\n",
    "    }\n",
    ").round(2)"
   ]
  },
  {
   "cell_type": "code",
   "execution_count": 52,
   "id": "58721443",
   "metadata": {},
   "outputs": [
    {
     "data": {
      "image/png": "[encoded data removed]",
      "text/plain": [
       "<Figure size 1080x576 with 1 Axes>"
      ]
     },
     "metadata": {
      "needs_background": "light"
     },
     "output_type": "display_data"
    }
   ],
   "source": [
    "# Plotting the count of clusters\n",
    "import matplotlib.cm as cmap\n",
    "from matplotlib import colors\n",
    "\n",
    "plt.figure(figsize=(15,8))\n",
    "pal = ['#1f77b4', '#ff7f0e', '#2ca02c', '#d62728','#9467bd']\n",
    "pl = sns.countplot(x=df['Cluster'], palette= pal)\n",
    "pl.set_title(\"Distribution Of The Clusters\")\n",
    "plt.show()"
   ]
  },
  {
   "cell_type": "code",
   "execution_count": null,
   "id": "e85036a3",
   "metadata": {},
   "outputs": [],
   "source": []
  }
 ],
 "metadata": {
  "kernelspec": {
   "display_name": "Python 3 (ipykernel)",
   "language": "python",
   "name": "python3"
  },
  "language_info": {
   "codemirror_mode": {
    "name": "ipython",
    "version": 3
   },
   "file_extension": ".py",
   "mimetype": "text/x-python",
   "name": "python",
   "nbconvert_exporter": "python",
   "pygments_lexer": "ipython3",
   "version": "3.7.2"
  }
 },
 "nbformat": 4,
 "nbformat_minor": 5
}
