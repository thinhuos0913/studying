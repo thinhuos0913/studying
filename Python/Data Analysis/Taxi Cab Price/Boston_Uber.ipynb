{
  "cells": [
    {
      "cell_type": "code",
      "source": [
        "from google.colab import drive\n",
        "drive.mount('/content/drive')"
      ],
      "metadata": {
        "colab": {
          "base_uri": "https://localhost:8080/"
        },
        "id": "uBTik8epYHAE",
        "outputId": "d2007ddb-77a9-43e2-dfd0-e0e41ef696b9"
      },
      "execution_count": 1,
      "outputs": [
        {
          "output_type": "stream",
          "name": "stdout",
          "text": [
            "Drive already mounted at /content/drive; to attempt to forcibly remount, call drive.mount(\"/content/drive\", force_remount=True).\n"
          ]
        }
      ]
    },
    {
      "cell_type": "code",
      "execution_count": null,
      "metadata": {
        "id": "QP6pzyRGVtE5"
      },
      "outputs": [],
      "source": [
        "# import os\n",
        "\n",
        "# path = '/content/drive/MyDrive/Deep Learning/'\n",
        "# os.chdir(path)"
      ]
    },
    {
      "cell_type": "code",
      "execution_count": null,
      "metadata": {
        "colab": {
          "base_uri": "https://localhost:8080/"
        },
        "id": "RM6o05HSWkKl",
        "outputId": "d741601f-6ebe-4380-f804-a7d92e1b6e73"
      },
      "outputs": [
        {
          "name": "stdout",
          "output_type": "stream",
          "text": [
            "Archive:  Boston_Uber.zip\n",
            "   creating: Boston_Uber/\n",
            "  inflating: Boston_Uber/Boston _Uber_Data.ipynb  \n",
            " extracting: Boston_Uber/rideshare_kaggle.csv.zip  \n"
          ]
        }
      ],
      "source": [
        "# Extract dataset\n",
        "!unzip Boston_Uber.zip"
      ]
    },
    {
      "cell_type": "code",
      "execution_count": 2,
      "metadata": {
        "id": "aFbADfWWXd7a"
      },
      "outputs": [],
      "source": [
        "import os\n",
        "os.chdir('/content/drive/MyDrive/Deep Learning/Boston_Uber/')"
      ]
    },
    {
      "cell_type": "code",
      "execution_count": null,
      "metadata": {
        "colab": {
          "base_uri": "https://localhost:8080/"
        },
        "id": "thrRwFXiZJYY",
        "outputId": "52699ff9-eb98-498e-c27d-6fc10e87144e"
      },
      "outputs": [
        {
          "name": "stdout",
          "output_type": "stream",
          "text": [
            "Archive:  rideshare_kaggle.csv.zip\n",
            "  inflating: rideshare_kaggle.csv    \n"
          ]
        }
      ],
      "source": [
        "!unzip rideshare_kaggle.csv.zip"
      ]
    },
    {
      "cell_type": "code",
      "execution_count": 3,
      "metadata": {
        "id": "hWok5jNqXmBC"
      },
      "outputs": [],
      "source": [
        "import pandas as pd\n",
        "import numpy as np\n",
        "import datetime\n",
        "import matplotlib.pyplot as plt\n",
        "import seaborn as sns\n",
        "import calendar"
      ]
    },
    {
      "cell_type": "code",
      "execution_count": 4,
      "metadata": {
        "id": "1KBD4jX1Y3sH"
      },
      "outputs": [],
      "source": [
        "data = pd.read_csv('rideshare_kaggle.csv')"
      ]
    },
    {
      "cell_type": "code",
      "execution_count": 5,
      "metadata": {
        "colab": {
          "base_uri": "https://localhost:8080/",
          "height": 560
        },
        "id": "UcPP42E3aFgQ",
        "outputId": "4d95137b-5390-44d3-f4b9-20d00815ff8e"
      },
      "outputs": [
        {
          "output_type": "execute_result",
          "data": {
            "text/plain": [
              "                                     id     timestamp  hour  day  month  \\\n",
              "0  424553bb-7174-41ea-aeb4-fe06d4f4b9d7  1.544953e+09     9   16     12   \n",
              "1  4bd23055-6827-41c6-b23b-3c491f24e74d  1.543284e+09     2   27     11   \n",
              "2  981a3613-77af-4620-a42a-0c0866077d1e  1.543367e+09     1   28     11   \n",
              "3  c2d88af2-d278-4bfd-a8d0-29ca77cc5512  1.543554e+09     4   30     11   \n",
              "4  e0126e1f-8ca9-4f2e-82b3-50505a09db9a  1.543463e+09     3   29     11   \n",
              "\n",
              "              datetime          timezone            source    destination  \\\n",
              "0  2018-12-16 09:30:07  America/New_York  Haymarket Square  North Station   \n",
              "1  2018-11-27 02:00:23  America/New_York  Haymarket Square  North Station   \n",
              "2  2018-11-28 01:00:22  America/New_York  Haymarket Square  North Station   \n",
              "3  2018-11-30 04:53:02  America/New_York  Haymarket Square  North Station   \n",
              "4  2018-11-29 03:49:20  America/New_York  Haymarket Square  North Station   \n",
              "\n",
              "  cab_type  ... precipIntensityMax uvIndexTime  temperatureMin  \\\n",
              "0     Lyft  ...             0.1276  1544979600           39.89   \n",
              "1     Lyft  ...             0.1300  1543251600           40.49   \n",
              "2     Lyft  ...             0.1064  1543338000           35.36   \n",
              "3     Lyft  ...             0.0000  1543507200           34.67   \n",
              "4     Lyft  ...             0.0001  1543420800           33.10   \n",
              "\n",
              "   temperatureMinTime  temperatureMax  temperatureMaxTime  \\\n",
              "0          1545012000           43.68          1544968800   \n",
              "1          1543233600           47.30          1543251600   \n",
              "2          1543377600           47.55          1543320000   \n",
              "3          1543550400           45.03          1543510800   \n",
              "4          1543402800           42.18          1543420800   \n",
              "\n",
              "   apparentTemperatureMin  apparentTemperatureMinTime  apparentTemperatureMax  \\\n",
              "0                   33.73                  1545012000                   38.07   \n",
              "1                   36.20                  1543291200                   43.92   \n",
              "2                   31.04                  1543377600                   44.12   \n",
              "3                   30.30                  1543550400                   38.53   \n",
              "4                   29.11                  1543392000                   35.75   \n",
              "\n",
              "  apparentTemperatureMaxTime  \n",
              "0                 1544958000  \n",
              "1                 1543251600  \n",
              "2                 1543320000  \n",
              "3                 1543510800  \n",
              "4                 1543420800  \n",
              "\n",
              "[5 rows x 57 columns]"
            ],
            "text/html": [
              "\n",
              "  <div id=\"df-1b8f9630-24ad-4eff-8d43-12648467a9e7\">\n",
              "    <div class=\"colab-df-container\">\n",
              "      <div>\n",
              "<style scoped>\n",
              "    .dataframe tbody tr th:only-of-type {\n",
              "        vertical-align: middle;\n",
              "    }\n",
              "\n",
              "    .dataframe tbody tr th {\n",
              "        vertical-align: top;\n",
              "    }\n",
              "\n",
              "    .dataframe thead th {\n",
              "        text-align: right;\n",
              "    }\n",
              "</style>\n",
              "<table border=\"1\" class=\"dataframe\">\n",
              "  <thead>\n",
              "    <tr style=\"text-align: right;\">\n",
              "      <th></th>\n",
              "      <th>id</th>\n",
              "      <th>timestamp</th>\n",
              "      <th>hour</th>\n",
              "      <th>day</th>\n",
              "      <th>month</th>\n",
              "      <th>datetime</th>\n",
              "      <th>timezone</th>\n",
              "      <th>source</th>\n",
              "      <th>destination</th>\n",
              "      <th>cab_type</th>\n",
              "      <th>...</th>\n",
              "      <th>precipIntensityMax</th>\n",
              "      <th>uvIndexTime</th>\n",
              "      <th>temperatureMin</th>\n",
              "      <th>temperatureMinTime</th>\n",
              "      <th>temperatureMax</th>\n",
              "      <th>temperatureMaxTime</th>\n",
              "      <th>apparentTemperatureMin</th>\n",
              "      <th>apparentTemperatureMinTime</th>\n",
              "      <th>apparentTemperatureMax</th>\n",
              "      <th>apparentTemperatureMaxTime</th>\n",
              "    </tr>\n",
              "  </thead>\n",
              "  <tbody>\n",
              "    <tr>\n",
              "      <th>0</th>\n",
              "      <td>424553bb-7174-41ea-aeb4-fe06d4f4b9d7</td>\n",
              "      <td>1.544953e+09</td>\n",
              "      <td>9</td>\n",
              "      <td>16</td>\n",
              "      <td>12</td>\n",
              "      <td>2018-12-16 09:30:07</td>\n",
              "      <td>America/New_York</td>\n",
              "      <td>Haymarket Square</td>\n",
              "      <td>North Station</td>\n",
              "      <td>Lyft</td>\n",
              "      <td>...</td>\n",
              "      <td>0.1276</td>\n",
              "      <td>1544979600</td>\n",
              "      <td>39.89</td>\n",
              "      <td>1545012000</td>\n",
              "      <td>43.68</td>\n",
              "      <td>1544968800</td>\n",
              "      <td>33.73</td>\n",
              "      <td>1545012000</td>\n",
              "      <td>38.07</td>\n",
              "      <td>1544958000</td>\n",
              "    </tr>\n",
              "    <tr>\n",
              "      <th>1</th>\n",
              "      <td>4bd23055-6827-41c6-b23b-3c491f24e74d</td>\n",
              "      <td>1.543284e+09</td>\n",
              "      <td>2</td>\n",
              "      <td>27</td>\n",
              "      <td>11</td>\n",
              "      <td>2018-11-27 02:00:23</td>\n",
              "      <td>America/New_York</td>\n",
              "      <td>Haymarket Square</td>\n",
              "      <td>North Station</td>\n",
              "      <td>Lyft</td>\n",
              "      <td>...</td>\n",
              "      <td>0.1300</td>\n",
              "      <td>1543251600</td>\n",
              "      <td>40.49</td>\n",
              "      <td>1543233600</td>\n",
              "      <td>47.30</td>\n",
              "      <td>1543251600</td>\n",
              "      <td>36.20</td>\n",
              "      <td>1543291200</td>\n",
              "      <td>43.92</td>\n",
              "      <td>1543251600</td>\n",
              "    </tr>\n",
              "    <tr>\n",
              "      <th>2</th>\n",
              "      <td>981a3613-77af-4620-a42a-0c0866077d1e</td>\n",
              "      <td>1.543367e+09</td>\n",
              "      <td>1</td>\n",
              "      <td>28</td>\n",
              "      <td>11</td>\n",
              "      <td>2018-11-28 01:00:22</td>\n",
              "      <td>America/New_York</td>\n",
              "      <td>Haymarket Square</td>\n",
              "      <td>North Station</td>\n",
              "      <td>Lyft</td>\n",
              "      <td>...</td>\n",
              "      <td>0.1064</td>\n",
              "      <td>1543338000</td>\n",
              "      <td>35.36</td>\n",
              "      <td>1543377600</td>\n",
              "      <td>47.55</td>\n",
              "      <td>1543320000</td>\n",
              "      <td>31.04</td>\n",
              "      <td>1543377600</td>\n",
              "      <td>44.12</td>\n",
              "      <td>1543320000</td>\n",
              "    </tr>\n",
              "    <tr>\n",
              "      <th>3</th>\n",
              "      <td>c2d88af2-d278-4bfd-a8d0-29ca77cc5512</td>\n",
              "      <td>1.543554e+09</td>\n",
              "      <td>4</td>\n",
              "      <td>30</td>\n",
              "      <td>11</td>\n",
              "      <td>2018-11-30 04:53:02</td>\n",
              "      <td>America/New_York</td>\n",
              "      <td>Haymarket Square</td>\n",
              "      <td>North Station</td>\n",
              "      <td>Lyft</td>\n",
              "      <td>...</td>\n",
              "      <td>0.0000</td>\n",
              "      <td>1543507200</td>\n",
              "      <td>34.67</td>\n",
              "      <td>1543550400</td>\n",
              "      <td>45.03</td>\n",
              "      <td>1543510800</td>\n",
              "      <td>30.30</td>\n",
              "      <td>1543550400</td>\n",
              "      <td>38.53</td>\n",
              "      <td>1543510800</td>\n",
              "    </tr>\n",
              "    <tr>\n",
              "      <th>4</th>\n",
              "      <td>e0126e1f-8ca9-4f2e-82b3-50505a09db9a</td>\n",
              "      <td>1.543463e+09</td>\n",
              "      <td>3</td>\n",
              "      <td>29</td>\n",
              "      <td>11</td>\n",
              "      <td>2018-11-29 03:49:20</td>\n",
              "      <td>America/New_York</td>\n",
              "      <td>Haymarket Square</td>\n",
              "      <td>North Station</td>\n",
              "      <td>Lyft</td>\n",
              "      <td>...</td>\n",
              "      <td>0.0001</td>\n",
              "      <td>1543420800</td>\n",
              "      <td>33.10</td>\n",
              "      <td>1543402800</td>\n",
              "      <td>42.18</td>\n",
              "      <td>1543420800</td>\n",
              "      <td>29.11</td>\n",
              "      <td>1543392000</td>\n",
              "      <td>35.75</td>\n",
              "      <td>1543420800</td>\n",
              "    </tr>\n",
              "  </tbody>\n",
              "</table>\n",
              "<p>5 rows × 57 columns</p>\n",
              "</div>\n",
              "      <button class=\"colab-df-convert\" onclick=\"convertToInteractive('df-1b8f9630-24ad-4eff-8d43-12648467a9e7')\"\n",
              "              title=\"Convert this dataframe to an interactive table.\"\n",
              "              style=\"display:none;\">\n",
              "        \n",
              "  <svg xmlns=\"http://www.w3.org/2000/svg\" height=\"24px\"viewBox=\"0 0 24 24\"\n",
              "       width=\"24px\">\n",
              "    <path d=\"M0 0h24v24H0V0z\" fill=\"none\"/>\n",
              "    <path d=\"M18.56 5.44l.94 2.06.94-2.06 2.06-.94-2.06-.94-.94-2.06-.94 2.06-2.06.94zm-11 1L8.5 8.5l.94-2.06 2.06-.94-2.06-.94L8.5 2.5l-.94 2.06-2.06.94zm10 10l.94 2.06.94-2.06 2.06-.94-2.06-.94-.94-2.06-.94 2.06-2.06.94z\"/><path d=\"M17.41 7.96l-1.37-1.37c-.4-.4-.92-.59-1.43-.59-.52 0-1.04.2-1.43.59L10.3 9.45l-7.72 7.72c-.78.78-.78 2.05 0 2.83L4 21.41c.39.39.9.59 1.41.59.51 0 1.02-.2 1.41-.59l7.78-7.78 2.81-2.81c.8-.78.8-2.07 0-2.86zM5.41 20L4 18.59l7.72-7.72 1.47 1.35L5.41 20z\"/>\n",
              "  </svg>\n",
              "      </button>\n",
              "      \n",
              "  <style>\n",
              "    .colab-df-container {\n",
              "      display:flex;\n",
              "      flex-wrap:wrap;\n",
              "      gap: 12px;\n",
              "    }\n",
              "\n",
              "    .colab-df-convert {\n",
              "      background-color: #E8F0FE;\n",
              "      border: none;\n",
              "      border-radius: 50%;\n",
              "      cursor: pointer;\n",
              "      display: none;\n",
              "      fill: #1967D2;\n",
              "      height: 32px;\n",
              "      padding: 0 0 0 0;\n",
              "      width: 32px;\n",
              "    }\n",
              "\n",
              "    .colab-df-convert:hover {\n",
              "      background-color: #E2EBFA;\n",
              "      box-shadow: 0px 1px 2px rgba(60, 64, 67, 0.3), 0px 1px 3px 1px rgba(60, 64, 67, 0.15);\n",
              "      fill: #174EA6;\n",
              "    }\n",
              "\n",
              "    [theme=dark] .colab-df-convert {\n",
              "      background-color: #3B4455;\n",
              "      fill: #D2E3FC;\n",
              "    }\n",
              "\n",
              "    [theme=dark] .colab-df-convert:hover {\n",
              "      background-color: #434B5C;\n",
              "      box-shadow: 0px 1px 3px 1px rgba(0, 0, 0, 0.15);\n",
              "      filter: drop-shadow(0px 1px 2px rgba(0, 0, 0, 0.3));\n",
              "      fill: #FFFFFF;\n",
              "    }\n",
              "  </style>\n",
              "\n",
              "      <script>\n",
              "        const buttonEl =\n",
              "          document.querySelector('#df-1b8f9630-24ad-4eff-8d43-12648467a9e7 button.colab-df-convert');\n",
              "        buttonEl.style.display =\n",
              "          google.colab.kernel.accessAllowed ? 'block' : 'none';\n",
              "\n",
              "        async function convertToInteractive(key) {\n",
              "          const element = document.querySelector('#df-1b8f9630-24ad-4eff-8d43-12648467a9e7');\n",
              "          const dataTable =\n",
              "            await google.colab.kernel.invokeFunction('convertToInteractive',\n",
              "                                                     [key], {});\n",
              "          if (!dataTable) return;\n",
              "\n",
              "          const docLinkHtml = 'Like what you see? Visit the ' +\n",
              "            '<a target=\"_blank\" href=https://colab.research.google.com/notebooks/data_table.ipynb>data table notebook</a>'\n",
              "            + ' to learn more about interactive tables.';\n",
              "          element.innerHTML = '';\n",
              "          dataTable['output_type'] = 'display_data';\n",
              "          await google.colab.output.renderOutput(dataTable, element);\n",
              "          const docLink = document.createElement('div');\n",
              "          docLink.innerHTML = docLinkHtml;\n",
              "          element.appendChild(docLink);\n",
              "        }\n",
              "      </script>\n",
              "    </div>\n",
              "  </div>\n",
              "  "
            ]
          },
          "metadata": {},
          "execution_count": 5
        }
      ],
      "source": [
        "data.head()"
      ]
    },
    {
      "cell_type": "code",
      "execution_count": 6,
      "metadata": {
        "id": "Cpw5F5X-aTif"
      },
      "outputs": [],
      "source": [
        "copy = data.copy()"
      ]
    },
    {
      "cell_type": "code",
      "execution_count": 7,
      "metadata": {
        "colab": {
          "base_uri": "https://localhost:8080/"
        },
        "id": "X04gOrOHaZ0K",
        "outputId": "6fb41861-6215-450e-c505-53f8926085ea"
      },
      "outputs": [
        {
          "output_type": "stream",
          "name": "stdout",
          "text": [
            "id                                 0\n",
            "timestamp                          0\n",
            "hour                               0\n",
            "day                                0\n",
            "month                              0\n",
            "datetime                           0\n",
            "timezone                           0\n",
            "source                             0\n",
            "destination                        0\n",
            "cab_type                           0\n",
            "product_id                         0\n",
            "name                               0\n",
            "price                          55095\n",
            "distance                           0\n",
            "surge_multiplier                   0\n",
            "latitude                           0\n",
            "longitude                          0\n",
            "temperature                        0\n",
            "apparentTemperature                0\n",
            "short_summary                      0\n",
            "long_summary                       0\n",
            "precipIntensity                    0\n",
            "precipProbability                  0\n",
            "humidity                           0\n",
            "windSpeed                          0\n",
            "windGust                           0\n",
            "windGustTime                       0\n",
            "visibility                         0\n",
            "temperatureHigh                    0\n",
            "temperatureHighTime                0\n",
            "temperatureLow                     0\n",
            "temperatureLowTime                 0\n",
            "apparentTemperatureHigh            0\n",
            "apparentTemperatureHighTime        0\n",
            "apparentTemperatureLow             0\n",
            "apparentTemperatureLowTime         0\n",
            "icon                               0\n",
            "dewPoint                           0\n",
            "pressure                           0\n",
            "windBearing                        0\n",
            "cloudCover                         0\n",
            "uvIndex                            0\n",
            "visibility.1                       0\n",
            "ozone                              0\n",
            "sunriseTime                        0\n",
            "sunsetTime                         0\n",
            "moonPhase                          0\n",
            "precipIntensityMax                 0\n",
            "uvIndexTime                        0\n",
            "temperatureMin                     0\n",
            "temperatureMinTime                 0\n",
            "temperatureMax                     0\n",
            "temperatureMaxTime                 0\n",
            "apparentTemperatureMin             0\n",
            "apparentTemperatureMinTime         0\n",
            "apparentTemperatureMax             0\n",
            "apparentTemperatureMaxTime         0\n",
            "dtype: int64\n"
          ]
        }
      ],
      "source": [
        "# Handle unwanted data:\n",
        "print(data.isnull().sum())\n",
        "data = data.dropna()"
      ]
    },
    {
      "cell_type": "code",
      "execution_count": 8,
      "metadata": {
        "id": "5eZYa_iyafUj"
      },
      "outputs": [],
      "source": [
        "ex_cols = ['apparentTemperature','apparentTemperatureMaxTime','apparentTemperatureMax','apparentTemperatureMinTime',\n",
        "           'apparentTemperatureMin','temperatureMaxTime','temperatureMinTime','apparentTemperatureHigh',\n",
        "           'apparentTemperatureLowTime','apparentTemperatureHighTime','apparentTemperatureHigh','temperatureLowTime',\n",
        "           'temperatureHighTime','precipIntensity','humidity','windGust','windSpeed','dewPoint','precipIntensityMax','cloudCover',\n",
        "           'moonPhase','windGustTime','visibility','uvIndex','windBearing','visibility.1','ozone','sunriseTime',\n",
        "           'sunsetTime','uvIndexTime']"
      ]
    },
    {
      "cell_type": "code",
      "execution_count": 9,
      "metadata": {
        "id": "yp6EXjbUa5z-"
      },
      "outputs": [],
      "source": [
        "data=data.drop(ex_cols,axis=1)"
      ]
    },
    {
      "cell_type": "code",
      "execution_count": 10,
      "metadata": {
        "id": "1dcpLuQsbePe"
      },
      "outputs": [],
      "source": [
        "data['datetime'] = pd.to_datetime(data['datetime'], format = \"%Y/%m/%d %H:%M:%S\")"
      ]
    },
    {
      "cell_type": "code",
      "execution_count": 11,
      "metadata": {
        "colab": {
          "base_uri": "https://localhost:8080/",
          "height": 369
        },
        "id": "ForRtqfhdve7",
        "outputId": "b245b770-999a-49f1-f496-c898211999e2"
      },
      "outputs": [
        {
          "output_type": "execute_result",
          "data": {
            "text/plain": [
              "Text(0.5, 1.0, 'Number of trip VS hours')"
            ]
          },
          "metadata": {},
          "execution_count": 11
        },
        {
          "output_type": "display_data",
          "data": {
            "text/plain": [
              "<Figure size 720x360 with 1 Axes>"
            ],
            "image/png": "[encoded data removed]"
          },
          "metadata": {
            "needs_background": "light"
          }
        }
      ],
      "source": [
        "# See at what time of the day the user rides an Uber the most?\n",
        "hours = data['hour'].value_counts()\n",
        "hours.plot(kind = 'bar', color = 'red', figsize = (10,5))\n",
        "plt.xlabel('Hours')\n",
        "plt.ylabel('Frequency')\n",
        "plt.title('Number of trip VS hours')"
      ]
    },
    {
      "cell_type": "code",
      "execution_count": 12,
      "metadata": {
        "id": "eUzmVS5kblaI"
      },
      "outputs": [],
      "source": [
        "day_week = [calendar.day_name[x.dayofweek] for x in data['datetime']]\n",
        "day_week = pd.Series(day_week)"
      ]
    },
    {
      "cell_type": "code",
      "execution_count": 13,
      "metadata": {
        "colab": {
          "base_uri": "https://localhost:8080/",
          "height": 367
        },
        "id": "Jx5ELMjFb1Iw",
        "outputId": "e4e69609-ce83-4b5d-9949-15a5b48d1114"
      },
      "outputs": [
        {
          "output_type": "execute_result",
          "data": {
            "text/plain": [
              "Text(0.5, 1.0, 'Number of trip VS days')"
            ]
          },
          "metadata": {},
          "execution_count": 13
        },
        {
          "output_type": "display_data",
          "data": {
            "text/plain": [
              "<Figure size 720x360 with 1 Axes>"
            ],
            "image/png": "[encoded data removed]"
          },
          "metadata": {
            "needs_background": "light"
          }
        }
      ],
      "source": [
        "# Look number of trip in days of week\n",
        "days=day_week.value_counts()\n",
        "days.plot(kind = 'barh', color = 'red', figsize = (10,5))\n",
        "plt.xlabel('Freq')\n",
        "plt.ylabel('Day')\n",
        "plt.title('Number of trip VS days')"
      ]
    },
    {
      "cell_type": "code",
      "execution_count": 14,
      "metadata": {
        "colab": {
          "base_uri": "https://localhost:8080/",
          "height": 350
        },
        "id": "NiSk0krocBt5",
        "outputId": "fd50a323-6b2b-48e7-d199-114c8e20b4b1"
      },
      "outputs": [
        {
          "output_type": "display_data",
          "data": {
            "text/plain": [
              "<Figure size 720x360 with 1 Axes>"
            ],
            "image/png": "[encoded data removed]"
          },
          "metadata": {
            "needs_background": "light"
          }
        }
      ],
      "source": [
        "# Look number of trip in month\n",
        "months = data['month'].value_counts()\n",
        "months.plot(kind = 'barh', color = 'blue', figsize = (10,5))\n",
        "plt.xlabel('Months')\n",
        "plt.ylabel('Frequency')\n",
        "plt.title('Number of trip VS months')\n",
        "plt.show()"
      ]
    },
    {
      "cell_type": "code",
      "execution_count": 15,
      "metadata": {
        "colab": {
          "base_uri": "https://localhost:8080/",
          "height": 352
        },
        "id": "Qn0dSCIuclar",
        "outputId": "edf5ec20-aa4e-4de5-bc31-fda2b14a4cea"
      },
      "outputs": [
        {
          "output_type": "display_data",
          "data": {
            "text/plain": [
              "<Figure size 720x360 with 1 Axes>"
            ],
            "image/png": "[encoded data removed]"
          },
          "metadata": {
            "needs_background": "light"
          }
        }
      ],
      "source": [
        "day = data['day'][data['month']==12].value_counts()\n",
        "day.plot(kind = 'bar', color = 'darkgrey', figsize = (10,5))\n",
        "plt.xlabel('Days of December')\n",
        "plt.ylabel('Frequency')\n",
        "plt.title(\"Number of trip VS December's day\")\n",
        "plt.show()"
      ]
    },
    {
      "cell_type": "code",
      "execution_count": 16,
      "metadata": {
        "colab": {
          "base_uri": "https://localhost:8080/",
          "height": 350
        },
        "id": "D9hKX3c2cs82",
        "outputId": "95c9499e-c1ba-4647-9292-947f04ed0e98"
      },
      "outputs": [
        {
          "output_type": "display_data",
          "data": {
            "text/plain": [
              "<Figure size 720x360 with 1 Axes>"
            ],
            "image/png": "[encoded data removed]"
          },
          "metadata": {
            "needs_background": "light"
          }
        }
      ],
      "source": [
        "pick_up = data['source'].value_counts().nlargest(10)\n",
        "pick_up.plot(kind = 'barh', color = 'lightblue', figsize = (10,5))\n",
        "plt.xlabel('Frequency')\n",
        "plt.ylabel('Pick up point')\n",
        "plt.title(\"Pick up point VS Freq\")\n",
        "plt.show()"
      ]
    },
    {
      "cell_type": "code",
      "execution_count": 17,
      "metadata": {
        "colab": {
          "base_uri": "https://localhost:8080/",
          "height": 350
        },
        "id": "QhvvOE-tcu5F",
        "outputId": "b43e8a04-1646-4b1f-a063-be027d29cfdd"
      },
      "outputs": [
        {
          "output_type": "display_data",
          "data": {
            "text/plain": [
              "<Figure size 720x360 with 1 Axes>"
            ],
            "image/png": "[encoded data removed]"
          },
          "metadata": {
            "needs_background": "light"
          }
        }
      ],
      "source": [
        "dest = data['destination'].value_counts().nlargest(10)\n",
        "dest.plot(kind = 'barh', color = 'lightgreen', figsize = (10,5))\n",
        "plt.xlabel('Frequency')\n",
        "plt.ylabel('Destination')\n",
        "plt.title(\"Destination VS Freq\")\n",
        "plt.show()"
      ]
    },
    {
      "cell_type": "code",
      "execution_count": 18,
      "metadata": {
        "colab": {
          "base_uri": "https://localhost:8080/",
          "height": 350
        },
        "id": "zdx5iFPAcxxt",
        "outputId": "19ba0edb-5e2d-4ec2-96fc-16ee46b1e7c7"
      },
      "outputs": [
        {
          "output_type": "display_data",
          "data": {
            "text/plain": [
              "<Figure size 720x360 with 1 Axes>"
            ],
            "image/png": "[encoded data removed]"
          },
          "metadata": {
            "needs_background": "light"
          }
        }
      ],
      "source": [
        "# see which types of Uber cabs do people prefer in Boston\n",
        "cabs = data['name'].value_counts()\n",
        "cabs.plot(kind = 'barh', color = 'pink', figsize = (10,5))\n",
        "plt.xlabel('Frequency')\n",
        "plt.ylabel('Cabs')\n",
        "plt.title(\"Freq\")\n",
        "plt.show()"
      ]
    },
    {
      "cell_type": "code",
      "execution_count": null,
      "metadata": {
        "id": "zIL0YNdZe1Po"
      },
      "outputs": [],
      "source": [
        "# Predictive Analysis for Uber Price Prediction using ML"
      ]
    },
    {
      "cell_type": "code",
      "execution_count": 19,
      "metadata": {
        "id": "ENx-5CMJe9BZ"
      },
      "outputs": [],
      "source": [
        "# Bring all the categorical data to the numeric format using label encoding:\n",
        "from sklearn import preprocessing\n",
        "label_encoder = preprocessing.LabelEncoder()"
      ]
    },
    {
      "cell_type": "code",
      "execution_count": 20,
      "metadata": {
        "id": "WZHMhxkHe-zt"
      },
      "outputs": [],
      "source": [
        "data['id'] = label_encoder.fit_transform(data['id'])\n",
        "data['datetime'] = label_encoder.fit_transform(data['datetime'])\n",
        "data['timezone'] = label_encoder.fit_transform(data['timezone'])\n",
        "data['destination'] = label_encoder.fit_transform(data['destination'])\n",
        "data['product_id'] = label_encoder.fit_transform(data['product_id'])\n",
        "data['short_summary'] = label_encoder.fit_transform(data['short_summary'])\n",
        "data['long_summary'] = label_encoder.fit_transform(data['long_summary'])\n",
        "data['name'] = label_encoder.fit_transform(data['name'])"
      ]
    },
    {
      "cell_type": "code",
      "execution_count": 21,
      "metadata": {
        "colab": {
          "base_uri": "https://localhost:8080/"
        },
        "id": "gTYRsnOJfD1V",
        "outputId": "66ced386-45be-4ff4-dab3-eb86b3f0e6d7"
      },
      "outputs": [
        {
          "output_type": "stream",
          "name": "stdout",
          "text": [
            "Class mapping of Name: \n",
            "\n",
            "Black ==> 0\n",
            "Black SUV ==> 1\n",
            "Lux ==> 2\n",
            "Lux Black ==> 3\n",
            "Lux Black XL ==> 4\n",
            "Lyft ==> 5\n",
            "Lyft XL ==> 6\n",
            "Shared ==> 7\n",
            "UberPool ==> 8\n",
            "UberX ==> 9\n",
            "UberXL ==> 10\n",
            "WAV ==> 11\n"
          ]
        }
      ],
      "source": [
        "print(\"Class mapping of Name: \\n\")\n",
        "for i,item in enumerate(label_encoder.classes_):\n",
        "    print(item,\"==>\",i)"
      ]
    },
    {
      "cell_type": "code",
      "execution_count": 22,
      "metadata": {
        "colab": {
          "base_uri": "https://localhost:8080/"
        },
        "id": "Q-6o5JcRfHcD",
        "outputId": "42170361-9403-4708-c618-1f9712773873"
      },
      "outputs": [
        {
          "output_type": "stream",
          "name": "stdout",
          "text": [
            "Class mapping of Source: \n",
            "\n",
            "Back Bay ==> 0\n",
            "Beacon Hill ==> 1\n",
            "Boston University ==> 2\n",
            "Fenway ==> 3\n",
            "Financial District ==> 4\n",
            "Haymarket Square ==> 5\n",
            "North End ==> 6\n",
            "North Station ==> 7\n",
            "Northeastern University ==> 8\n",
            "South Station ==> 9\n",
            "Theatre District ==> 10\n",
            "West End ==> 11\n"
          ]
        }
      ],
      "source": [
        "# Label for pick up point:\n",
        "data['source'] = label_encoder.fit_transform(data['source'])\n",
        "print(\"Class mapping of Source: \\n\")\n",
        "for i,item in enumerate(label_encoder.classes_):\n",
        "    print(item,\"==>\",i)"
      ]
    },
    {
      "cell_type": "code",
      "execution_count": 23,
      "metadata": {
        "colab": {
          "base_uri": "https://localhost:8080/"
        },
        "id": "xODYUgXcfLSb",
        "outputId": "7a7358c4-b218-4662-ca86-2f1ca4821672"
      },
      "outputs": [
        {
          "output_type": "stream",
          "name": "stdout",
          "text": [
            "Class mapping of Weather: \n",
            "\n",
            " clear-day  ==> 0\n",
            " clear-night  ==> 1\n",
            " cloudy  ==> 2\n",
            " fog  ==> 3\n",
            " partly-cloudy-day  ==> 4\n",
            " partly-cloudy-night  ==> 5\n",
            " rain  ==> 6\n"
          ]
        }
      ],
      "source": [
        "# Label for current weather:\n",
        "data['icon'] = label_encoder.fit_transform(data['icon'])\n",
        "print(\"Class mapping of Weather: \\n\")\n",
        "for i,item in enumerate(label_encoder.classes_):\n",
        "    print(item,\"==>\",i)"
      ]
    },
    {
      "cell_type": "code",
      "execution_count": 24,
      "metadata": {
        "colab": {
          "base_uri": "https://localhost:8080/"
        },
        "id": "UqOW9rYMfQWF",
        "outputId": "93fca417-b41d-42b8-a09f-585dae712fc7"
      },
      "outputs": [
        {
          "output_type": "stream",
          "name": "stdout",
          "text": [
            "Class mapping of Cab type: \n",
            "\n",
            "Lyft ==> 0\n",
            "Uber ==> 1\n"
          ]
        }
      ],
      "source": [
        "# Label for cab type:\n",
        "data['cab_type'] = label_encoder.fit_transform(data['cab_type'])\n",
        "print(\"Class mapping of Cab type: \\n\")\n",
        "for i,item in enumerate(label_encoder.classes_):\n",
        "    print(item,\"==>\",i)"
      ]
    },
    {
      "cell_type": "code",
      "execution_count": 25,
      "metadata": {
        "colab": {
          "base_uri": "https://localhost:8080/"
        },
        "id": "Mlg1Ji0AfXC3",
        "outputId": "f3fe942a-5bed-4d5c-b563-463c311dc545"
      },
      "outputs": [
        {
          "output_type": "execute_result",
          "data": {
            "text/plain": [
              "330568"
            ]
          },
          "metadata": {},
          "execution_count": 25
        }
      ],
      "source": [
        "# Since we are only predicting the prices for Uber, our dataset will contain ~ 400000 records\n",
        "len(data[data['cab_type']==1])"
      ]
    },
    {
      "cell_type": "code",
      "execution_count": 26,
      "metadata": {
        "id": "2YNIBgtifnbL"
      },
      "outputs": [],
      "source": [
        "# Train-test split with the price col as target:\n",
        "X = data[data['cab_type']==1].drop(['price','cab_type'], axis=1)\n",
        "y = data[data['cab_type']==1]['price']"
      ]
    },
    {
      "cell_type": "code",
      "execution_count": null,
      "metadata": {
        "colab": {
          "base_uri": "https://localhost:8080/",
          "height": 300
        },
        "id": "2UswTVXPgP5l",
        "outputId": "166dcf1a-b9c6-4a61-ee9b-5ecc0cff6dac"
      },
      "outputs": [
        {
          "data": {
            "text/html": [
              "\n",
              "  <div id=\"df-357c1b5d-04e0-4c77-9b22-f392dab2a482\">\n",
              "    <div class=\"colab-df-container\">\n",
              "      <div>\n",
              "<style scoped>\n",
              "    .dataframe tbody tr th:only-of-type {\n",
              "        vertical-align: middle;\n",
              "    }\n",
              "\n",
              "    .dataframe tbody tr th {\n",
              "        vertical-align: top;\n",
              "    }\n",
              "\n",
              "    .dataframe thead th {\n",
              "        text-align: right;\n",
              "    }\n",
              "</style>\n",
              "<table border=\"1\" class=\"dataframe\">\n",
              "  <thead>\n",
              "    <tr style=\"text-align: right;\">\n",
              "      <th></th>\n",
              "      <th>id</th>\n",
              "      <th>timestamp</th>\n",
              "      <th>hour</th>\n",
              "      <th>day</th>\n",
              "      <th>month</th>\n",
              "      <th>datetime</th>\n",
              "      <th>timezone</th>\n",
              "      <th>source</th>\n",
              "      <th>destination</th>\n",
              "      <th>product_id</th>\n",
              "      <th>...</th>\n",
              "      <th>short_summary</th>\n",
              "      <th>long_summary</th>\n",
              "      <th>precipProbability</th>\n",
              "      <th>temperatureHigh</th>\n",
              "      <th>temperatureLow</th>\n",
              "      <th>apparentTemperatureLow</th>\n",
              "      <th>icon</th>\n",
              "      <th>pressure</th>\n",
              "      <th>temperatureMin</th>\n",
              "      <th>temperatureMax</th>\n",
              "    </tr>\n",
              "  </thead>\n",
              "  <tbody>\n",
              "    <tr>\n",
              "      <th>12</th>\n",
              "      <td>1587</td>\n",
              "      <td>1.543616e+09</td>\n",
              "      <td>22</td>\n",
              "      <td>30</td>\n",
              "      <td>11</td>\n",
              "      <td>8838</td>\n",
              "      <td>0</td>\n",
              "      <td>6</td>\n",
              "      <td>11</td>\n",
              "      <td>3</td>\n",
              "      <td>...</td>\n",
              "      <td>5</td>\n",
              "      <td>4</td>\n",
              "      <td>0.00</td>\n",
              "      <td>42.52</td>\n",
              "      <td>31.71</td>\n",
              "      <td>28.06</td>\n",
              "      <td>2</td>\n",
              "      <td>1017.16</td>\n",
              "      <td>28.79</td>\n",
              "      <td>42.52</td>\n",
              "    </tr>\n",
              "    <tr>\n",
              "      <th>13</th>\n",
              "      <td>89488</td>\n",
              "      <td>1.544698e+09</td>\n",
              "      <td>10</td>\n",
              "      <td>13</td>\n",
              "      <td>12</td>\n",
              "      <td>17861</td>\n",
              "      <td>0</td>\n",
              "      <td>6</td>\n",
              "      <td>11</td>\n",
              "      <td>1</td>\n",
              "      <td>...</td>\n",
              "      <td>0</td>\n",
              "      <td>6</td>\n",
              "      <td>0.00</td>\n",
              "      <td>33.83</td>\n",
              "      <td>27.27</td>\n",
              "      <td>24.61</td>\n",
              "      <td>1</td>\n",
              "      <td>1031.51</td>\n",
              "      <td>18.29</td>\n",
              "      <td>33.83</td>\n",
              "    </tr>\n",
              "    <tr>\n",
              "      <th>14</th>\n",
              "      <td>133066</td>\n",
              "      <td>1.544729e+09</td>\n",
              "      <td>19</td>\n",
              "      <td>13</td>\n",
              "      <td>12</td>\n",
              "      <td>18749</td>\n",
              "      <td>0</td>\n",
              "      <td>6</td>\n",
              "      <td>11</td>\n",
              "      <td>0</td>\n",
              "      <td>...</td>\n",
              "      <td>4</td>\n",
              "      <td>6</td>\n",
              "      <td>0.00</td>\n",
              "      <td>33.83</td>\n",
              "      <td>27.27</td>\n",
              "      <td>24.61</td>\n",
              "      <td>4</td>\n",
              "      <td>1033.65</td>\n",
              "      <td>18.29</td>\n",
              "      <td>33.83</td>\n",
              "    </tr>\n",
              "    <tr>\n",
              "      <th>15</th>\n",
              "      <td>201507</td>\n",
              "      <td>1.545005e+09</td>\n",
              "      <td>23</td>\n",
              "      <td>16</td>\n",
              "      <td>12</td>\n",
              "      <td>26864</td>\n",
              "      <td>0</td>\n",
              "      <td>6</td>\n",
              "      <td>11</td>\n",
              "      <td>5</td>\n",
              "      <td>...</td>\n",
              "      <td>3</td>\n",
              "      <td>9</td>\n",
              "      <td>0.94</td>\n",
              "      <td>43.83</td>\n",
              "      <td>34.25</td>\n",
              "      <td>28.30</td>\n",
              "      <td>6</td>\n",
              "      <td>1012.72</td>\n",
              "      <td>39.22</td>\n",
              "      <td>43.83</td>\n",
              "    </tr>\n",
              "    <tr>\n",
              "      <th>16</th>\n",
              "      <td>362784</td>\n",
              "      <td>1.544748e+09</td>\n",
              "      <td>0</td>\n",
              "      <td>14</td>\n",
              "      <td>12</td>\n",
              "      <td>19333</td>\n",
              "      <td>0</td>\n",
              "      <td>6</td>\n",
              "      <td>11</td>\n",
              "      <td>2</td>\n",
              "      <td>...</td>\n",
              "      <td>5</td>\n",
              "      <td>6</td>\n",
              "      <td>0.00</td>\n",
              "      <td>33.83</td>\n",
              "      <td>27.27</td>\n",
              "      <td>24.61</td>\n",
              "      <td>2</td>\n",
              "      <td>1035.06</td>\n",
              "      <td>18.29</td>\n",
              "      <td>33.83</td>\n",
              "    </tr>\n",
              "  </tbody>\n",
              "</table>\n",
              "<p>5 rows × 26 columns</p>\n",
              "</div>\n",
              "      <button class=\"colab-df-convert\" onclick=\"convertToInteractive('df-357c1b5d-04e0-4c77-9b22-f392dab2a482')\"\n",
              "              title=\"Convert this dataframe to an interactive table.\"\n",
              "              style=\"display:none;\">\n",
              "        \n",
              "  <svg xmlns=\"http://www.w3.org/2000/svg\" height=\"24px\"viewBox=\"0 0 24 24\"\n",
              "       width=\"24px\">\n",
              "    <path d=\"M0 0h24v24H0V0z\" fill=\"none\"/>\n",
              "    <path d=\"M18.56 5.44l.94 2.06.94-2.06 2.06-.94-2.06-.94-.94-2.06-.94 2.06-2.06.94zm-11 1L8.5 8.5l.94-2.06 2.06-.94-2.06-.94L8.5 2.5l-.94 2.06-2.06.94zm10 10l.94 2.06.94-2.06 2.06-.94-2.06-.94-.94-2.06-.94 2.06-2.06.94z\"/><path d=\"M17.41 7.96l-1.37-1.37c-.4-.4-.92-.59-1.43-.59-.52 0-1.04.2-1.43.59L10.3 9.45l-7.72 7.72c-.78.78-.78 2.05 0 2.83L4 21.41c.39.39.9.59 1.41.59.51 0 1.02-.2 1.41-.59l7.78-7.78 2.81-2.81c.8-.78.8-2.07 0-2.86zM5.41 20L4 18.59l7.72-7.72 1.47 1.35L5.41 20z\"/>\n",
              "  </svg>\n",
              "      </button>\n",
              "      \n",
              "  <style>\n",
              "    .colab-df-container {\n",
              "      display:flex;\n",
              "      flex-wrap:wrap;\n",
              "      gap: 12px;\n",
              "    }\n",
              "\n",
              "    .colab-df-convert {\n",
              "      background-color: #E8F0FE;\n",
              "      border: none;\n",
              "      border-radius: 50%;\n",
              "      cursor: pointer;\n",
              "      display: none;\n",
              "      fill: #1967D2;\n",
              "      height: 32px;\n",
              "      padding: 0 0 0 0;\n",
              "      width: 32px;\n",
              "    }\n",
              "\n",
              "    .colab-df-convert:hover {\n",
              "      background-color: #E2EBFA;\n",
              "      box-shadow: 0px 1px 2px rgba(60, 64, 67, 0.3), 0px 1px 3px 1px rgba(60, 64, 67, 0.15);\n",
              "      fill: #174EA6;\n",
              "    }\n",
              "\n",
              "    [theme=dark] .colab-df-convert {\n",
              "      background-color: #3B4455;\n",
              "      fill: #D2E3FC;\n",
              "    }\n",
              "\n",
              "    [theme=dark] .colab-df-convert:hover {\n",
              "      background-color: #434B5C;\n",
              "      box-shadow: 0px 1px 3px 1px rgba(0, 0, 0, 0.15);\n",
              "      filter: drop-shadow(0px 1px 2px rgba(0, 0, 0, 0.3));\n",
              "      fill: #FFFFFF;\n",
              "    }\n",
              "  </style>\n",
              "\n",
              "      <script>\n",
              "        const buttonEl =\n",
              "          document.querySelector('#df-357c1b5d-04e0-4c77-9b22-f392dab2a482 button.colab-df-convert');\n",
              "        buttonEl.style.display =\n",
              "          google.colab.kernel.accessAllowed ? 'block' : 'none';\n",
              "\n",
              "        async function convertToInteractive(key) {\n",
              "          const element = document.querySelector('#df-357c1b5d-04e0-4c77-9b22-f392dab2a482');\n",
              "          const dataTable =\n",
              "            await google.colab.kernel.invokeFunction('convertToInteractive',\n",
              "                                                     [key], {});\n",
              "          if (!dataTable) return;\n",
              "\n",
              "          const docLinkHtml = 'Like what you see? Visit the ' +\n",
              "            '<a target=\"_blank\" href=https://colab.research.google.com/notebooks/data_table.ipynb>data table notebook</a>'\n",
              "            + ' to learn more about interactive tables.';\n",
              "          element.innerHTML = '';\n",
              "          dataTable['output_type'] = 'display_data';\n",
              "          await google.colab.output.renderOutput(dataTable, element);\n",
              "          const docLink = document.createElement('div');\n",
              "          docLink.innerHTML = docLinkHtml;\n",
              "          element.appendChild(docLink);\n",
              "        }\n",
              "      </script>\n",
              "    </div>\n",
              "  </div>\n",
              "  "
            ],
            "text/plain": [
              "        id     timestamp  hour  day  month  datetime  timezone  source  \\\n",
              "12    1587  1.543616e+09    22   30     11      8838         0       6   \n",
              "13   89488  1.544698e+09    10   13     12     17861         0       6   \n",
              "14  133066  1.544729e+09    19   13     12     18749         0       6   \n",
              "15  201507  1.545005e+09    23   16     12     26864         0       6   \n",
              "16  362784  1.544748e+09     0   14     12     19333         0       6   \n",
              "\n",
              "    destination  product_id  ...  short_summary  long_summary  \\\n",
              "12           11           3  ...              5             4   \n",
              "13           11           1  ...              0             6   \n",
              "14           11           0  ...              4             6   \n",
              "15           11           5  ...              3             9   \n",
              "16           11           2  ...              5             6   \n",
              "\n",
              "    precipProbability  temperatureHigh  temperatureLow  \\\n",
              "12               0.00            42.52           31.71   \n",
              "13               0.00            33.83           27.27   \n",
              "14               0.00            33.83           27.27   \n",
              "15               0.94            43.83           34.25   \n",
              "16               0.00            33.83           27.27   \n",
              "\n",
              "    apparentTemperatureLow  icon  pressure  temperatureMin  temperatureMax  \n",
              "12                   28.06     2   1017.16           28.79           42.52  \n",
              "13                   24.61     1   1031.51           18.29           33.83  \n",
              "14                   24.61     4   1033.65           18.29           33.83  \n",
              "15                   28.30     6   1012.72           39.22           43.83  \n",
              "16                   24.61     2   1035.06           18.29           33.83  \n",
              "\n",
              "[5 rows x 26 columns]"
            ]
          },
          "execution_count": 45,
          "metadata": {},
          "output_type": "execute_result"
        }
      ],
      "source": [
        "X.head()"
      ]
    },
    {
      "cell_type": "code",
      "execution_count": null,
      "metadata": {
        "colab": {
          "base_uri": "https://localhost:8080/"
        },
        "id": "JY33IYAqgUZ1",
        "outputId": "d4b20e0f-7b32-4dbc-9310-8e7f89bcf439"
      },
      "outputs": [
        {
          "data": {
            "text/plain": [
              "12    12.0\n",
              "13    16.0\n",
              "14     7.5\n",
              "15     7.5\n",
              "16    26.0\n",
              "Name: price, dtype: float64"
            ]
          },
          "execution_count": 46,
          "metadata": {},
          "output_type": "execute_result"
        }
      ],
      "source": [
        "y.head()"
      ]
    },
    {
      "cell_type": "code",
      "execution_count": 27,
      "metadata": {
        "id": "kjGsmn48gg8z"
      },
      "outputs": [],
      "source": [
        "from sklearn.model_selection import train_test_split\n",
        "X_train, X_test, y_train, y_test = train_test_split(X,y,test_size=0.2,random_state=42)"
      ]
    },
    {
      "cell_type": "code",
      "execution_count": 28,
      "metadata": {
        "colab": {
          "base_uri": "https://localhost:8080/",
          "height": 265
        },
        "id": "XNjNVTuPgiji",
        "outputId": "6a95d84b-c418-4b23-b413-d8754e837da9"
      },
      "outputs": [
        {
          "output_type": "display_data",
          "data": {
            "text/plain": [
              "<Figure size 432x288 with 1 Axes>"
            ],
            "image/png": "[encoded data removed]"
          },
          "metadata": {
            "needs_background": "light"
          }
        }
      ],
      "source": [
        "# look at what the typical prices are for the rides\n",
        "plt.hist(y,bins=20,color='orange')\n",
        "plt.show()"
      ]
    },
    {
      "cell_type": "code",
      "execution_count": null,
      "metadata": {
        "id": "Slh88vQvgo7c"
      },
      "outputs": [],
      "source": [
        "# Train and compare the performance of four ML models: linear regression, decision tree, random forest, and gradient boosting.\n",
        "# Feature selection technique like RFE would be helpful for optimal analysis"
      ]
    },
    {
      "cell_type": "code",
      "execution_count": 29,
      "metadata": {
        "id": "iRM6XzI7g1jH"
      },
      "outputs": [],
      "source": [
        "from sklearn.feature_selection import RFE\n",
        "from sklearn.linear_model import LinearRegression\n",
        "from sklearn.tree import DecisionTreeRegressor\n",
        "from sklearn.ensemble import RandomForestRegressor\n",
        "from sklearn import ensemble"
      ]
    },
    {
      "cell_type": "code",
      "execution_count": 30,
      "metadata": {
        "id": "eOkq_Z3_g6qv"
      },
      "outputs": [],
      "source": [
        "# Define function to train and test all 4 models:\n",
        "def train_test_models(X_train, y_train, X_test, y_test):\n",
        "    print(\"Linear Regression:\")\n",
        "    lr=LinearRegression()\n",
        "    lr.fit(X_train,y_train)\n",
        "    print(lr.score(X_test, y_test))\n",
        "    \n",
        "    print(\"Decision Tree:\")\n",
        "    dt=DecisionTreeRegressor(random_state=0, max_depth=10)\n",
        "    dt.fit(X_train,y_train)\n",
        "    print(dt.score(X_test, y_test))\n",
        "    \n",
        "    print(\"RandomForestRegressor:\")\n",
        "    rf=RandomForestRegressor(n_estimators=20,random_state=0)\n",
        "    rf.fit(X_train,y_train)\n",
        "    print(rf.score(X_test, y_test))\n",
        "    \n",
        "    print(\"Gradient Boosting:\")\n",
        "    gb=ensemble.GradientBoostingRegressor(n_estimators=200,max_depth=5)\n",
        "    gb.fit(X_train,y_train)\n",
        "    print(gb.score(X_test, y_test))\n",
        "    \n",
        "    return [lr,dt,rf,gb]"
      ]
    },
    {
      "cell_type": "code",
      "execution_count": 31,
      "metadata": {
        "id": "WbTY2zidg8vo"
      },
      "outputs": [],
      "source": [
        "# Define a function that runs RFE and extracts the most important features for each type of model trained:\n",
        "def features_eliminate(trained_model, X, y, n_features=40):\n",
        "    rfe=RFE(trained_model, n_features_to_select = n_features)\n",
        "    rfe.fit(X,y)\n",
        "    X_new=X[X.columns[rfe.support_]]\n",
        "    X_train, X_test, y_train, y_test = train_test_split(X_new,y,\n",
        "                                                        test_size=0.2,\n",
        "                                                        random_state=0)\n",
        "    new_fit=trained_model.fit(X_train,y_train)\n",
        "    print(new_fit.score(X_test,y_test))"
      ]
    },
    {
      "cell_type": "code",
      "execution_count": 32,
      "metadata": {
        "colab": {
          "base_uri": "https://localhost:8080/"
        },
        "id": "DpdsTzrZhRX3",
        "outputId": "773a3fcf-7c40-4ce1-d66e-28e37cf0f7e8"
      },
      "outputs": [
        {
          "output_type": "stream",
          "name": "stdout",
          "text": [
            "Linear Regression:\n",
            "0.6524660741268231\n",
            "Decision Tree:\n",
            "0.9483347334911975\n",
            "RandomForestRegressor:\n",
            "0.9418242663576032\n",
            "Gradient Boosting:\n",
            "0.9519291443701361\n"
          ]
        }
      ],
      "source": [
        "model_list = train_test_models(X_train, y_train, X_test, y_test)"
      ]
    },
    {
      "cell_type": "code",
      "execution_count": null,
      "metadata": {
        "colab": {
          "base_uri": "https://localhost:8080/"
        },
        "id": "nHRV_nt8kW13",
        "outputId": "33bad41e-baa1-443a-fa88-7c91d19a095d"
      },
      "outputs": [
        {
          "metadata": {
            "tags": null
          },
          "name": "stdout",
          "output_type": "stream",
          "text": [
            "LinearRegression()-->5 features\n",
            "0.6564219657294842\n",
            "LinearRegression()-->10 features\n",
            "0.656474955633241\n",
            "LinearRegression()-->15 features\n",
            "0.6564647493601425\n",
            "LinearRegression()-->20 features\n",
            "0.6564276905363713\n",
            "DecisionTreeRegressor(max_depth=10, random_state=0)-->5 features\n",
            "0.9519683669372733\n",
            "DecisionTreeRegressor(max_depth=10, random_state=0)-->10 features\n",
            "0.9503130650541497\n",
            "DecisionTreeRegressor(max_depth=10, random_state=0)-->15 features\n",
            "0.9502081869652445\n",
            "DecisionTreeRegressor(max_depth=10, random_state=0)-->20 features\n",
            "0.949850281068529\n",
            "RandomForestRegressor(n_estimators=20, random_state=0)-->5 features\n",
            "0.9412401763032776\n",
            "RandomForestRegressor(n_estimators=20, random_state=0)-->10 features\n",
            "0.9435149060049464\n",
            "RandomForestRegressor(n_estimators=20, random_state=0)-->15 features\n",
            "0.9436601693023255\n",
            "RandomForestRegressor(n_estimators=20, random_state=0)-->20 features\n",
            "0.943398867338337\n",
            "GradientBoostingRegressor(max_depth=5, n_estimators=200)-->5 features\n",
            "0.9537291538850018\n",
            "GradientBoostingRegressor(max_depth=5, n_estimators=200)-->10 features\n"
          ]
        }
      ],
      "source": [
        "# find the models perform marginally better with fewer features\n",
        "n_features = [5,10,15,20]\n",
        "\n",
        "for model in model_list:\n",
        "  for nf in n_features:\n",
        "    print(f\"{model}-->{nf} features\")\n",
        "    features_eliminate(model, X, y, nf)"
      ]
    }
  ],
  "metadata": {
    "accelerator": "TPU",
    "colab": {
      "name": "Boston_Uber.ipynb",
      "provenance": []
    },
    "kernelspec": {
      "display_name": "Python 3",
      "name": "python3"
    },
    "language_info": {
      "name": "python"
    }
  },
  "nbformat": 4,
  "nbformat_minor": 0
}