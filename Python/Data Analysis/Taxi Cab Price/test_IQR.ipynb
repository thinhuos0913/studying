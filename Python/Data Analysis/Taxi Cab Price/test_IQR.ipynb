{
 "cells": [
  {
   "cell_type": "code",
   "execution_count": 1,
   "id": "c002b5b6",
   "metadata": {},
   "outputs": [],
   "source": [
    "import pandas as pd\n",
    "import numpy as np"
   ]
  },
  {
   "cell_type": "code",
   "execution_count": 3,
   "id": "d8c77861",
   "metadata": {},
   "outputs": [],
   "source": [
    "data = pd.read_csv(\"rideshare_sample.csv\")"
   ]
  },
  {
   "cell_type": "code",
   "execution_count": 4,
   "id": "cd842e33",
   "metadata": {},
   "outputs": [
    {
     "data": {
      "text/html": [
       "<div>\n",
       "<style scoped>\n",
       "    .dataframe tbody tr th:only-of-type {\n",
       "        vertical-align: middle;\n",
       "    }\n",
       "\n",
       "    .dataframe tbody tr th {\n",
       "        vertical-align: top;\n",
       "    }\n",
       "\n",
       "    .dataframe thead th {\n",
       "        text-align: right;\n",
       "    }\n",
       "</style>\n",
       "<table border=\"1\" class=\"dataframe\">\n",
       "  <thead>\n",
       "    <tr style=\"text-align: right;\">\n",
       "      <th></th>\n",
       "      <th>id</th>\n",
       "      <th>timestamp</th>\n",
       "      <th>hour</th>\n",
       "      <th>day</th>\n",
       "      <th>month</th>\n",
       "      <th>datetime</th>\n",
       "      <th>timezone</th>\n",
       "      <th>source</th>\n",
       "      <th>destination</th>\n",
       "      <th>cab_type</th>\n",
       "      <th>...</th>\n",
       "      <th>precipIntensityMax</th>\n",
       "      <th>uvIndexTime</th>\n",
       "      <th>temperatureMin</th>\n",
       "      <th>temperatureMinTime</th>\n",
       "      <th>temperatureMax</th>\n",
       "      <th>temperatureMaxTime</th>\n",
       "      <th>apparentTemperatureMin</th>\n",
       "      <th>apparentTemperatureMinTime</th>\n",
       "      <th>apparentTemperatureMax</th>\n",
       "      <th>apparentTemperatureMaxTime</th>\n",
       "    </tr>\n",
       "  </thead>\n",
       "  <tbody>\n",
       "    <tr>\n",
       "      <th>0</th>\n",
       "      <td>424553bb-7174-41ea-aeb4-fe06d4f4b9d7</td>\n",
       "      <td>1544952608</td>\n",
       "      <td>9</td>\n",
       "      <td>16</td>\n",
       "      <td>12</td>\n",
       "      <td>12/16/2018 9:30</td>\n",
       "      <td>America/New_York</td>\n",
       "      <td>Haymarket Square</td>\n",
       "      <td>North Station</td>\n",
       "      <td>Lyft</td>\n",
       "      <td>...</td>\n",
       "      <td>0.1276</td>\n",
       "      <td>1544979600</td>\n",
       "      <td>39.89</td>\n",
       "      <td>1545012000</td>\n",
       "      <td>43.68</td>\n",
       "      <td>1544968800</td>\n",
       "      <td>33.73</td>\n",
       "      <td>1545012000</td>\n",
       "      <td>38.07</td>\n",
       "      <td>1544958000</td>\n",
       "    </tr>\n",
       "    <tr>\n",
       "      <th>1</th>\n",
       "      <td>4bd23055-6827-41c6-b23b-3c491f24e74d</td>\n",
       "      <td>1543284024</td>\n",
       "      <td>2</td>\n",
       "      <td>27</td>\n",
       "      <td>11</td>\n",
       "      <td>11/27/2018 2:00</td>\n",
       "      <td>America/New_York</td>\n",
       "      <td>Haymarket Square</td>\n",
       "      <td>North Station</td>\n",
       "      <td>Lyft</td>\n",
       "      <td>...</td>\n",
       "      <td>0.1300</td>\n",
       "      <td>1543251600</td>\n",
       "      <td>40.49</td>\n",
       "      <td>1543233600</td>\n",
       "      <td>47.30</td>\n",
       "      <td>1543251600</td>\n",
       "      <td>36.20</td>\n",
       "      <td>1543291200</td>\n",
       "      <td>43.92</td>\n",
       "      <td>1543251600</td>\n",
       "    </tr>\n",
       "    <tr>\n",
       "      <th>2</th>\n",
       "      <td>981a3613-77af-4620-a42a-0c0866077d1e</td>\n",
       "      <td>1543366822</td>\n",
       "      <td>1</td>\n",
       "      <td>28</td>\n",
       "      <td>11</td>\n",
       "      <td>11/28/2018 1:00</td>\n",
       "      <td>America/New_York</td>\n",
       "      <td>Haymarket Square</td>\n",
       "      <td>North Station</td>\n",
       "      <td>Lyft</td>\n",
       "      <td>...</td>\n",
       "      <td>0.1064</td>\n",
       "      <td>1543338000</td>\n",
       "      <td>35.36</td>\n",
       "      <td>1543377600</td>\n",
       "      <td>47.55</td>\n",
       "      <td>1543320000</td>\n",
       "      <td>31.04</td>\n",
       "      <td>1543377600</td>\n",
       "      <td>44.12</td>\n",
       "      <td>1543320000</td>\n",
       "    </tr>\n",
       "    <tr>\n",
       "      <th>3</th>\n",
       "      <td>c2d88af2-d278-4bfd-a8d0-29ca77cc5512</td>\n",
       "      <td>1543553583</td>\n",
       "      <td>4</td>\n",
       "      <td>30</td>\n",
       "      <td>11</td>\n",
       "      <td>11/30/2018 4:53</td>\n",
       "      <td>America/New_York</td>\n",
       "      <td>Haymarket Square</td>\n",
       "      <td>North Station</td>\n",
       "      <td>Lyft</td>\n",
       "      <td>...</td>\n",
       "      <td>0.0000</td>\n",
       "      <td>1543507200</td>\n",
       "      <td>34.67</td>\n",
       "      <td>1543550400</td>\n",
       "      <td>45.03</td>\n",
       "      <td>1543510800</td>\n",
       "      <td>30.30</td>\n",
       "      <td>1543550400</td>\n",
       "      <td>38.53</td>\n",
       "      <td>1543510800</td>\n",
       "    </tr>\n",
       "    <tr>\n",
       "      <th>4</th>\n",
       "      <td>e0126e1f-8ca9-4f2e-82b3-50505a09db9a</td>\n",
       "      <td>1543463360</td>\n",
       "      <td>3</td>\n",
       "      <td>29</td>\n",
       "      <td>11</td>\n",
       "      <td>11/29/2018 3:49</td>\n",
       "      <td>America/New_York</td>\n",
       "      <td>Haymarket Square</td>\n",
       "      <td>North Station</td>\n",
       "      <td>Lyft</td>\n",
       "      <td>...</td>\n",
       "      <td>0.0001</td>\n",
       "      <td>1543420800</td>\n",
       "      <td>33.10</td>\n",
       "      <td>1543402800</td>\n",
       "      <td>42.18</td>\n",
       "      <td>1543420800</td>\n",
       "      <td>29.11</td>\n",
       "      <td>1543392000</td>\n",
       "      <td>35.75</td>\n",
       "      <td>1543420800</td>\n",
       "    </tr>\n",
       "  </tbody>\n",
       "</table>\n",
       "<p>5 rows × 57 columns</p>\n",
       "</div>"
      ],
      "text/plain": [
       "                                     id   timestamp  hour  day  month  \\\n",
       "0  424553bb-7174-41ea-aeb4-fe06d4f4b9d7  1544952608     9   16     12   \n",
       "1  4bd23055-6827-41c6-b23b-3c491f24e74d  1543284024     2   27     11   \n",
       "2  981a3613-77af-4620-a42a-0c0866077d1e  1543366822     1   28     11   \n",
       "3  c2d88af2-d278-4bfd-a8d0-29ca77cc5512  1543553583     4   30     11   \n",
       "4  e0126e1f-8ca9-4f2e-82b3-50505a09db9a  1543463360     3   29     11   \n",
       "\n",
       "          datetime          timezone            source    destination  \\\n",
       "0  12/16/2018 9:30  America/New_York  Haymarket Square  North Station   \n",
       "1  11/27/2018 2:00  America/New_York  Haymarket Square  North Station   \n",
       "2  11/28/2018 1:00  America/New_York  Haymarket Square  North Station   \n",
       "3  11/30/2018 4:53  America/New_York  Haymarket Square  North Station   \n",
       "4  11/29/2018 3:49  America/New_York  Haymarket Square  North Station   \n",
       "\n",
       "  cab_type  ... precipIntensityMax uvIndexTime  temperatureMin  \\\n",
       "0     Lyft  ...             0.1276  1544979600           39.89   \n",
       "1     Lyft  ...             0.1300  1543251600           40.49   \n",
       "2     Lyft  ...             0.1064  1543338000           35.36   \n",
       "3     Lyft  ...             0.0000  1543507200           34.67   \n",
       "4     Lyft  ...             0.0001  1543420800           33.10   \n",
       "\n",
       "   temperatureMinTime  temperatureMax  temperatureMaxTime  \\\n",
       "0          1545012000           43.68          1544968800   \n",
       "1          1543233600           47.30          1543251600   \n",
       "2          1543377600           47.55          1543320000   \n",
       "3          1543550400           45.03          1543510800   \n",
       "4          1543402800           42.18          1543420800   \n",
       "\n",
       "   apparentTemperatureMin  apparentTemperatureMinTime  apparentTemperatureMax  \\\n",
       "0                   33.73                  1545012000                   38.07   \n",
       "1                   36.20                  1543291200                   43.92   \n",
       "2                   31.04                  1543377600                   44.12   \n",
       "3                   30.30                  1543550400                   38.53   \n",
       "4                   29.11                  1543392000                   35.75   \n",
       "\n",
       "  apparentTemperatureMaxTime  \n",
       "0                 1544958000  \n",
       "1                 1543251600  \n",
       "2                 1543320000  \n",
       "3                 1543510800  \n",
       "4                 1543420800  \n",
       "\n",
       "[5 rows x 57 columns]"
      ]
     },
     "execution_count": 4,
     "metadata": {},
     "output_type": "execute_result"
    }
   ],
   "source": [
    "data.head()"
   ]
  },
  {
   "cell_type": "code",
   "execution_count": 5,
   "id": "10a3b7c0",
   "metadata": {},
   "outputs": [
    {
     "data": {
      "text/plain": [
       "(20, 57)"
      ]
     },
     "execution_count": 5,
     "metadata": {},
     "output_type": "execute_result"
    }
   ],
   "source": [
    "data.shape"
   ]
  },
  {
   "cell_type": "code",
   "execution_count": 6,
   "id": "b11dda2f",
   "metadata": {},
   "outputs": [],
   "source": [
    "df = pd.read_csv('My_Uber_Drives - 2016.csv')"
   ]
  },
  {
   "cell_type": "code",
   "execution_count": 7,
   "id": "13e9d775",
   "metadata": {},
   "outputs": [
    {
     "data": {
      "text/html": [
       "<div>\n",
       "<style scoped>\n",
       "    .dataframe tbody tr th:only-of-type {\n",
       "        vertical-align: middle;\n",
       "    }\n",
       "\n",
       "    .dataframe tbody tr th {\n",
       "        vertical-align: top;\n",
       "    }\n",
       "\n",
       "    .dataframe thead th {\n",
       "        text-align: right;\n",
       "    }\n",
       "</style>\n",
       "<table border=\"1\" class=\"dataframe\">\n",
       "  <thead>\n",
       "    <tr style=\"text-align: right;\">\n",
       "      <th></th>\n",
       "      <th>START_DATE*</th>\n",
       "      <th>END_DATE*</th>\n",
       "      <th>CATEGORY*</th>\n",
       "      <th>START*</th>\n",
       "      <th>STOP*</th>\n",
       "      <th>MILES*</th>\n",
       "      <th>PURPOSE*</th>\n",
       "    </tr>\n",
       "  </thead>\n",
       "  <tbody>\n",
       "    <tr>\n",
       "      <th>0</th>\n",
       "      <td>1/1/2016 21:11</td>\n",
       "      <td>1/1/2016 21:17</td>\n",
       "      <td>Business</td>\n",
       "      <td>Fort Pierce</td>\n",
       "      <td>Fort Pierce</td>\n",
       "      <td>5.1</td>\n",
       "      <td>Meal/Entertain</td>\n",
       "    </tr>\n",
       "    <tr>\n",
       "      <th>1</th>\n",
       "      <td>1/2/2016 1:25</td>\n",
       "      <td>1/2/2016 1:37</td>\n",
       "      <td>Business</td>\n",
       "      <td>Fort Pierce</td>\n",
       "      <td>Fort Pierce</td>\n",
       "      <td>5.0</td>\n",
       "      <td>NaN</td>\n",
       "    </tr>\n",
       "    <tr>\n",
       "      <th>2</th>\n",
       "      <td>1/2/2016 20:25</td>\n",
       "      <td>1/2/2016 20:38</td>\n",
       "      <td>Business</td>\n",
       "      <td>Fort Pierce</td>\n",
       "      <td>Fort Pierce</td>\n",
       "      <td>4.8</td>\n",
       "      <td>Errand/Supplies</td>\n",
       "    </tr>\n",
       "    <tr>\n",
       "      <th>3</th>\n",
       "      <td>1/5/2016 17:31</td>\n",
       "      <td>1/5/2016 17:45</td>\n",
       "      <td>Business</td>\n",
       "      <td>Fort Pierce</td>\n",
       "      <td>Fort Pierce</td>\n",
       "      <td>4.7</td>\n",
       "      <td>Meeting</td>\n",
       "    </tr>\n",
       "    <tr>\n",
       "      <th>4</th>\n",
       "      <td>1/6/2016 14:42</td>\n",
       "      <td>1/6/2016 15:49</td>\n",
       "      <td>Business</td>\n",
       "      <td>Fort Pierce</td>\n",
       "      <td>West Palm Beach</td>\n",
       "      <td>63.7</td>\n",
       "      <td>Customer Visit</td>\n",
       "    </tr>\n",
       "  </tbody>\n",
       "</table>\n",
       "</div>"
      ],
      "text/plain": [
       "      START_DATE*       END_DATE* CATEGORY*       START*            STOP*  \\\n",
       "0  1/1/2016 21:11  1/1/2016 21:17  Business  Fort Pierce      Fort Pierce   \n",
       "1   1/2/2016 1:25   1/2/2016 1:37  Business  Fort Pierce      Fort Pierce   \n",
       "2  1/2/2016 20:25  1/2/2016 20:38  Business  Fort Pierce      Fort Pierce   \n",
       "3  1/5/2016 17:31  1/5/2016 17:45  Business  Fort Pierce      Fort Pierce   \n",
       "4  1/6/2016 14:42  1/6/2016 15:49  Business  Fort Pierce  West Palm Beach   \n",
       "\n",
       "   MILES*         PURPOSE*  \n",
       "0     5.1   Meal/Entertain  \n",
       "1     5.0              NaN  \n",
       "2     4.8  Errand/Supplies  \n",
       "3     4.7          Meeting  \n",
       "4    63.7   Customer Visit  "
      ]
     },
     "execution_count": 7,
     "metadata": {},
     "output_type": "execute_result"
    }
   ],
   "source": [
    "df.head()"
   ]
  },
  {
   "cell_type": "code",
   "execution_count": 8,
   "id": "33e9f138",
   "metadata": {},
   "outputs": [
    {
     "data": {
      "text/plain": [
       "(1156, 7)"
      ]
     },
     "execution_count": 8,
     "metadata": {},
     "output_type": "execute_result"
    }
   ],
   "source": [
    "df.shape"
   ]
  },
  {
   "cell_type": "code",
   "execution_count": 9,
   "id": "da114757",
   "metadata": {},
   "outputs": [
    {
     "name": "stdout",
     "output_type": "stream",
     "text": [
      "<class 'pandas.core.frame.DataFrame'>\n",
      "RangeIndex: 1156 entries, 0 to 1155\n",
      "Data columns (total 7 columns):\n",
      " #   Column       Non-Null Count  Dtype  \n",
      "---  ------       --------------  -----  \n",
      " 0   START_DATE*  1156 non-null   object \n",
      " 1   END_DATE*    1155 non-null   object \n",
      " 2   CATEGORY*    1155 non-null   object \n",
      " 3   START*       1155 non-null   object \n",
      " 4   STOP*        1155 non-null   object \n",
      " 5   MILES*       1156 non-null   float64\n",
      " 6   PURPOSE*     653 non-null    object \n",
      "dtypes: float64(1), object(6)\n",
      "memory usage: 36.2+ KB\n"
     ]
    }
   ],
   "source": [
    "df.info()"
   ]
  },
  {
   "cell_type": "code",
   "execution_count": 10,
   "id": "58fe6e77",
   "metadata": {},
   "outputs": [
    {
     "data": {
      "text/plain": [
       "507"
      ]
     },
     "execution_count": 10,
     "metadata": {},
     "output_type": "execute_result"
    }
   ],
   "source": [
    "df.isnull().sum().sum()"
   ]
  },
  {
   "cell_type": "code",
   "execution_count": 11,
   "id": "00b6af1c",
   "metadata": {},
   "outputs": [],
   "source": [
    "df.dropna(axis=0,inplace=True)"
   ]
  },
  {
   "cell_type": "code",
   "execution_count": 12,
   "id": "4122d0e3",
   "metadata": {},
   "outputs": [
    {
     "data": {
      "text/plain": [
       "(653, 7)"
      ]
     },
     "execution_count": 12,
     "metadata": {},
     "output_type": "execute_result"
    }
   ],
   "source": [
    "df.shape"
   ]
  },
  {
   "cell_type": "code",
   "execution_count": 13,
   "id": "5f6af7c0",
   "metadata": {},
   "outputs": [],
   "source": [
    "def remove_outliers(data):\n",
    "    q25 = np.percentile(data, 25)\n",
    "    q75 = np.percentile(data, 75)\n",
    "    iqr = q75 - q25\n",
    "    limit_iqr = 1.5*iqr\n",
    "    lower_iqr = q25 - limit_iqr\n",
    "    upper_iqr = q75 + limit_iqr\n",
    "\n",
    "    outliers_index_iqr = [x for x in data if x < lower_iqr or x > upper_iqr]\n",
    "    data_new_iqr = [x for x in data if x >= lower_iqr and x <= upper_iqr]\n",
    "    \n",
    "    if len(outliers_index_iqr) > 0:\n",
    "        print('Number of outliers: %d' % len(outliers_index_iqr))\n",
    "        print('Non-outlier observations: %d' % len(data_new_iqr))\n",
    "    else:\n",
    "        print('Not detect outliers')\n",
    "    return (data_new_iqr)"
   ]
  },
  {
   "cell_type": "code",
   "execution_count": 14,
   "id": "594bcdb4",
   "metadata": {},
   "outputs": [
    {
     "data": {
      "text/plain": [
       "0        5.1\n",
       "2        4.8\n",
       "3        4.7\n",
       "4       63.7\n",
       "5        4.3\n",
       "        ... \n",
       "1150     0.7\n",
       "1151     3.9\n",
       "1152    16.2\n",
       "1153     6.4\n",
       "1154    48.2\n",
       "Name: MILES*, Length: 653, dtype: float64"
      ]
     },
     "execution_count": 14,
     "metadata": {},
     "output_type": "execute_result"
    }
   ],
   "source": [
    "df['MILES*']"
   ]
  },
  {
   "cell_type": "code",
   "execution_count": 15,
   "id": "25f8c01c",
   "metadata": {},
   "outputs": [
    {
     "data": {
      "text/plain": [
       "(653,)"
      ]
     },
     "execution_count": 15,
     "metadata": {},
     "output_type": "execute_result"
    }
   ],
   "source": [
    "data = df['MILES*']\n",
    "data.shape"
   ]
  },
  {
   "cell_type": "code",
   "execution_count": 16,
   "id": "e7aeb594",
   "metadata": {},
   "outputs": [
    {
     "name": "stdout",
     "output_type": "stream",
     "text": [
      "Number of outliers: 45\n",
      "Non-outlier observations: 608\n"
     ]
    }
   ],
   "source": [
    "new_data = remove_outliers(data)"
   ]
  },
  {
   "cell_type": "code",
   "execution_count": 17,
   "id": "14ae4007",
   "metadata": {},
   "outputs": [
    {
     "data": {
      "text/plain": [
       "(array([623.,  15.,   4.,   2.,   4.,   3.,   1.,   0.,   0.,   1.]),\n",
       " array([  0.5 ,  31.48,  62.46,  93.44, 124.42, 155.4 , 186.38, 217.36,\n",
       "        248.34, 279.32, 310.3 ]),\n",
       " <BarContainer object of 10 artists>)"
      ]
     },
     "execution_count": 17,
     "metadata": {},
     "output_type": "execute_result"
    },
    {
     "data": {
      "image/png": "[encoded data removed]",
      "text/plain": [
       "<Figure size 432x288 with 1 Axes>"
      ]
     },
     "metadata": {
      "needs_background": "light"
     },
     "output_type": "display_data"
    }
   ],
   "source": [
    "import matplotlib.pyplot as plt\n",
    "\n",
    "plt.hist(data)"
   ]
  },
  {
   "cell_type": "code",
   "execution_count": 18,
   "id": "30a93259",
   "metadata": {},
   "outputs": [
    {
     "data": {
      "text/plain": [
       "(array([ 95., 128., 104.,  80.,  86.,  41.,  26.,  23.,  14.,  11.]),\n",
       " array([ 0.5,  2.5,  4.5,  6.5,  8.5, 10.5, 12.5, 14.5, 16.5, 18.5, 20.5]),\n",
       " <BarContainer object of 10 artists>)"
      ]
     },
     "execution_count": 18,
     "metadata": {},
     "output_type": "execute_result"
    },
    {
     "data": {
      "image/png": "[encoded data removed]",
      "text/plain": [
       "<Figure size 432x288 with 1 Axes>"
      ]
     },
     "metadata": {
      "needs_background": "light"
     },
     "output_type": "display_data"
    }
   ],
   "source": [
    "plt.hist(new_data)"
   ]
  },
  {
   "cell_type": "code",
   "execution_count": 19,
   "id": "7d668ec1",
   "metadata": {},
   "outputs": [
    {
     "data": {
      "text/plain": [
       "(653, 7)"
      ]
     },
     "execution_count": 19,
     "metadata": {},
     "output_type": "execute_result"
    }
   ],
   "source": [
    "df.shape"
   ]
  },
  {
   "cell_type": "code",
   "execution_count": 23,
   "id": "c0bc3975",
   "metadata": {},
   "outputs": [
    {
     "name": "stdout",
     "output_type": "stream",
     "text": [
      "Maximum distance in our data : 310.3\n",
      "Minimum distance in our data : 0.5\n"
     ]
    }
   ],
   "source": [
    "# Max price\n",
    "print('Maximum distance in our data :', df['MILES*'].max())\n",
    "print('Minimum distance in our data :', df['MILES*'].min())\n",
    "# data[data['price']==data.price.max()]"
   ]
  },
  {
   "cell_type": "code",
   "execution_count": 24,
   "id": "5fabca5f",
   "metadata": {},
   "outputs": [],
   "source": [
    "q25 = np.percentile(df['MILES*'], 25)\n",
    "q75 = np.percentile(df['MILES*'], 75)\n",
    "iqr = q75 - q25\n",
    "limit_iqr = 1.5*iqr\n",
    "lower_iqr = q25 - limit_iqr\n",
    "upper_iqr = q75 + limit_iqr"
   ]
  },
  {
   "cell_type": "code",
   "execution_count": 25,
   "id": "7a14d9e5",
   "metadata": {},
   "outputs": [
    {
     "name": "stdout",
     "output_type": "stream",
     "text": [
      "3.2\n",
      "10.4\n",
      "7.2\n",
      "-7.6000000000000005\n",
      "21.200000000000003\n"
     ]
    }
   ],
   "source": [
    "print(q25)\n",
    "print(q75)\n",
    "print(iqr)\n",
    "print(lower_iqr)\n",
    "print(upper_iqr)"
   ]
  },
  {
   "cell_type": "code",
   "execution_count": 26,
   "id": "cc275ea4",
   "metadata": {},
   "outputs": [],
   "source": [
    "outliers_index_iqr = [x for x in df['MILES*'] if x < lower_iqr or x > upper_iqr]\n",
    "data_new_iqr = [x for x in df['MILES*'] if x >= lower_iqr and x <= upper_iqr]"
   ]
  },
  {
   "cell_type": "code",
   "execution_count": 29,
   "id": "5a56f648",
   "metadata": {},
   "outputs": [
    {
     "data": {
      "text/plain": [
       "45"
      ]
     },
     "execution_count": 29,
     "metadata": {},
     "output_type": "execute_result"
    }
   ],
   "source": [
    "len(outliers_index_iqr)"
   ]
  },
  {
   "cell_type": "code",
   "execution_count": 30,
   "id": "53da51f9",
   "metadata": {},
   "outputs": [
    {
     "data": {
      "text/plain": [
       "[5.1,\n",
       " 4.8,\n",
       " 4.7,\n",
       " 4.3,\n",
       " 7.1,\n",
       " 0.8,\n",
       " 8.3,\n",
       " 16.5,\n",
       " 10.8,\n",
       " 7.5,\n",
       " 6.2,\n",
       " 6.4,\n",
       " 1.6,\n",
       " 1.7,\n",
       " 1.9,\n",
       " 1.9,\n",
       " 4.0,\n",
       " 1.8,\n",
       " 2.4,\n",
       " 2.0,\n",
       " 15.1,\n",
       " 11.2,\n",
       " 11.8,\n",
       " 3.9,\n",
       " 8.0,\n",
       " 10.4,\n",
       " 10.4,\n",
       " 4.8,\n",
       " 4.7,\n",
       " 7.6,\n",
       " 17.1,\n",
       " 15.1,\n",
       " 1.6,\n",
       " 2.4,\n",
       " 1.0,\n",
       " 2.0,\n",
       " 2.3,\n",
       " 1.9,\n",
       " 1.4,\n",
       " 0.5,\n",
       " 1.8,\n",
       " 18.7,\n",
       " 3.4,\n",
       " 2.7,\n",
       " 12.9,\n",
       " 19.0,\n",
       " 14.7,\n",
       " 15.7,\n",
       " 4.6,\n",
       " 5.2,\n",
       " 10.4,\n",
       " 10.1,\n",
       " 5.8,\n",
       " 5.5,\n",
       " 5.7,\n",
       " 5.7,\n",
       " 19.4,\n",
       " 3.9,\n",
       " 8.3,\n",
       " 6.0,\n",
       " 1.6,\n",
       " 5.2,\n",
       " 9.7,\n",
       " 1.6,\n",
       " 1.1,\n",
       " 1.6,\n",
       " 9.0,\n",
       " 7.7,\n",
       " 10.4,\n",
       " 10.4,\n",
       " 11.4,\n",
       " 9.0,\n",
       " 3.2,\n",
       " 5.6,\n",
       " 5.7,\n",
       " 6.1,\n",
       " 6.1,\n",
       " 4.3,\n",
       " 2.7,\n",
       " 6.1,\n",
       " 17.3,\n",
       " 5.7,\n",
       " 13.5,\n",
       " 6.1,\n",
       " 8.5,\n",
       " 2.6,\n",
       " 17.0,\n",
       " 18.0,\n",
       " 8.4,\n",
       " 11.5,\n",
       " 8.9,\n",
       " 8.1,\n",
       " 2.0,\n",
       " 13.0,\n",
       " 13.9,\n",
       " 1.8,\n",
       " 1.1,\n",
       " 3.6,\n",
       " 14.7,\n",
       " 1.7,\n",
       " 0.5,\n",
       " 12.7,\n",
       " 6.0,\n",
       " 5.2,\n",
       " 10.0,\n",
       " 18.3,\n",
       " 11.2,\n",
       " 7.6,\n",
       " 7.3,\n",
       " 3.2,\n",
       " 7.7,\n",
       " 2.4,\n",
       " 4.6,\n",
       " 8.8,\n",
       " 8.3,\n",
       " 13.0,\n",
       " 8.1,\n",
       " 2.2,\n",
       " 20.0,\n",
       " 8.1,\n",
       " 1.7,\n",
       " 3.1,\n",
       " 3.2,\n",
       " 6.0,\n",
       " 5.8,\n",
       " 10.6,\n",
       " 9.9,\n",
       " 7.7,\n",
       " 6.8,\n",
       " 3.8,\n",
       " 5.6,\n",
       " 6.6,\n",
       " 8.0,\n",
       " 8.0,\n",
       " 2.3,\n",
       " 5.2,\n",
       " 7.6,\n",
       " 17.3,\n",
       " 9.9,\n",
       " 9.9,\n",
       " 10.4,\n",
       " 10.9,\n",
       " 15.7,\n",
       " 4.9,\n",
       " 0.8,\n",
       " 13.5,\n",
       " 1.9,\n",
       " 2.0,\n",
       " 6.5,\n",
       " 7.8,\n",
       " 7.8,\n",
       " 3.9,\n",
       " 2.8,\n",
       " 12.4,\n",
       " 5.9,\n",
       " 9.4,\n",
       " 11.9,\n",
       " 7.2,\n",
       " 7.6,\n",
       " 8.4,\n",
       " 12.8,\n",
       " 2.0,\n",
       " 5.7,\n",
       " 8.4,\n",
       " 6.2,\n",
       " 10.5,\n",
       " 7.2,\n",
       " 2.0,\n",
       " 2.0,\n",
       " 2.8,\n",
       " 1.7,\n",
       " 2.1,\n",
       " 15.5,\n",
       " 1.1,\n",
       " 1.1,\n",
       " 13.2,\n",
       " 1.0,\n",
       " 9.2,\n",
       " 9.4,\n",
       " 12.0,\n",
       " 3.1,\n",
       " 2.1,\n",
       " 7.5,\n",
       " 5.9,\n",
       " 6.2,\n",
       " 9.6,\n",
       " 0.9,\n",
       " 2.1,\n",
       " 6.6,\n",
       " 6.1,\n",
       " 16.1,\n",
       " 16.4,\n",
       " 11.0,\n",
       " 15.5,\n",
       " 20.3,\n",
       " 7.9,\n",
       " 8.0,\n",
       " 6.1,\n",
       " 6.1,\n",
       " 10.5,\n",
       " 8.7,\n",
       " 1.8,\n",
       " 19.1,\n",
       " 18.6,\n",
       " 2.8,\n",
       " 8.9,\n",
       " 7.5,\n",
       " 15.9,\n",
       " 6.5,\n",
       " 15.3,\n",
       " 13.7,\n",
       " 11.9,\n",
       " 1.4,\n",
       " 15.2,\n",
       " 6.0,\n",
       " 6.1,\n",
       " 8.2,\n",
       " 8.0,\n",
       " 13.6,\n",
       " 10.4,\n",
       " 10.0,\n",
       " 6.0,\n",
       " 6.5,\n",
       " 3.1,\n",
       " 1.9,\n",
       " 4.2,\n",
       " 4.9,\n",
       " 4.8,\n",
       " 12.4,\n",
       " 5.5,\n",
       " 9.9,\n",
       " 10.0,\n",
       " 14.2,\n",
       " 18.2,\n",
       " 7.7,\n",
       " 2.1,\n",
       " 6.2,\n",
       " 7.5,\n",
       " 3.1,\n",
       " 2.2,\n",
       " 3.9,\n",
       " 2.5,\n",
       " 8.7,\n",
       " 14.5,\n",
       " 4.5,\n",
       " 5.0,\n",
       " 14.2,\n",
       " 2.9,\n",
       " 12.9,\n",
       " 14.4,\n",
       " 17.0,\n",
       " 7.9,\n",
       " 8.4,\n",
       " 20.5,\n",
       " 9.8,\n",
       " 17.6,\n",
       " 9.3,\n",
       " 7.9,\n",
       " 8.1,\n",
       " 3.1,\n",
       " 3.1,\n",
       " 2.8,\n",
       " 2.7,\n",
       " 1.9,\n",
       " 8.4,\n",
       " 7.6,\n",
       " 2.9,\n",
       " 11.2,\n",
       " 8.2,\n",
       " 3.0,\n",
       " 2.5,\n",
       " 3.6,\n",
       " 3.6,\n",
       " 4.5,\n",
       " 1.7,\n",
       " 4.7,\n",
       " 6.1,\n",
       " 11.3,\n",
       " 14.9,\n",
       " 14.0,\n",
       " 6.7,\n",
       " 9.6,\n",
       " 10.4,\n",
       " 9.9,\n",
       " 6.0,\n",
       " 3.3,\n",
       " 3.1,\n",
       " 1.7,\n",
       " 4.0,\n",
       " 7.8,\n",
       " 7.8,\n",
       " 3.8,\n",
       " 2.5,\n",
       " 9.9,\n",
       " 9.9,\n",
       " 3.0,\n",
       " 2.4,\n",
       " 5.7,\n",
       " 7.2,\n",
       " 10.4,\n",
       " 9.9,\n",
       " 10.4,\n",
       " 9.9,\n",
       " 8.7,\n",
       " 3.3,\n",
       " 0.7,\n",
       " 2.5,\n",
       " 0.5,\n",
       " 0.9,\n",
       " 4.8,\n",
       " 16.3,\n",
       " 10.4,\n",
       " 9.9,\n",
       " 3.7,\n",
       " 4.6,\n",
       " 10.4,\n",
       " 9.9,\n",
       " 2.5,\n",
       " 4.3,\n",
       " 2.8,\n",
       " 8.4,\n",
       " 13.2,\n",
       " 3.9,\n",
       " 5.1,\n",
       " 5.2,\n",
       " 11.6,\n",
       " 5.1,\n",
       " 9.3,\n",
       " 12.4,\n",
       " 1.9,\n",
       " 6.4,\n",
       " 1.5,\n",
       " 16.6,\n",
       " 7.1,\n",
       " 2.1,\n",
       " 8.6,\n",
       " 9.0,\n",
       " 3.1,\n",
       " 8.4,\n",
       " 11.8,\n",
       " 1.1,\n",
       " 17.0,\n",
       " 1.7,\n",
       " 15.5,\n",
       " 12.6,\n",
       " 8.2,\n",
       " 10.4,\n",
       " 9.9,\n",
       " 9.9,\n",
       " 10.4,\n",
       " 9.9,\n",
       " 9.9,\n",
       " 9.9,\n",
       " 13.3,\n",
       " 11.3,\n",
       " 10.5,\n",
       " 9.9,\n",
       " 10.1,\n",
       " 9.9,\n",
       " 3.1,\n",
       " 3.1,\n",
       " 9.9,\n",
       " 9.9,\n",
       " 8.8,\n",
       " 8.7,\n",
       " 11.8,\n",
       " 1.2,\n",
       " 9.9,\n",
       " 0.6,\n",
       " 6.3,\n",
       " 9.9,\n",
       " 3.3,\n",
       " 3.1,\n",
       " 7.9,\n",
       " 11.8,\n",
       " 4.4,\n",
       " 15.1,\n",
       " 4.1,\n",
       " 6.1,\n",
       " 3.3,\n",
       " 4.7,\n",
       " 7.2,\n",
       " 5.5,\n",
       " 3.3,\n",
       " 0.9,\n",
       " 3.8,\n",
       " 6.4,\n",
       " 3.0,\n",
       " 8.7,\n",
       " 3.9,\n",
       " 9.9,\n",
       " 6.1,\n",
       " 10.4,\n",
       " 9.9,\n",
       " 2.5,\n",
       " 2.5,\n",
       " 2.2,\n",
       " 8.4,\n",
       " 2.7,\n",
       " 2.5,\n",
       " 2.7,\n",
       " 3.2,\n",
       " 8.4,\n",
       " 5.7,\n",
       " 7.7,\n",
       " 7.6,\n",
       " 7.6,\n",
       " 5.7,\n",
       " 7.7,\n",
       " 17.1,\n",
       " 17.0,\n",
       " 10.5,\n",
       " 2.1,\n",
       " 2.5,\n",
       " 7.9,\n",
       " 3.1,\n",
       " 3.1,\n",
       " 3.6,\n",
       " 8.7,\n",
       " 2.1,\n",
       " 8.4,\n",
       " 10.4,\n",
       " 9.9,\n",
       " 9.6,\n",
       " 4.2,\n",
       " 8.5,\n",
       " 3.1,\n",
       " 3.1,\n",
       " 7.9,\n",
       " 2.8,\n",
       " 11.8,\n",
       " 13.2,\n",
       " 12.2,\n",
       " 11.3,\n",
       " 5.5,\n",
       " 12.7,\n",
       " 12.6,\n",
       " 9.9,\n",
       " 6.0,\n",
       " 5.9,\n",
       " 3.7,\n",
       " 4.0,\n",
       " 3.7,\n",
       " 9.7,\n",
       " 11.8,\n",
       " 2.3,\n",
       " 3.1,\n",
       " 16.3,\n",
       " 3.1,\n",
       " 5.2,\n",
       " 6.1,\n",
       " 10.3,\n",
       " 10.5,\n",
       " 5.4,\n",
       " 5.4,\n",
       " 6.4,\n",
       " 2.7,\n",
       " 18.5,\n",
       " 2.5,\n",
       " 2.1,\n",
       " 6.7,\n",
       " 3.5,\n",
       " 3.4,\n",
       " 5.5,\n",
       " 4.1,\n",
       " 12.7,\n",
       " 3.0,\n",
       " 3.5,\n",
       " 5.9,\n",
       " 10.3,\n",
       " 11.1,\n",
       " 5.1,\n",
       " 9.0,\n",
       " 13.3,\n",
       " 2.5,\n",
       " 3.3,\n",
       " 8.5,\n",
       " 6.7,\n",
       " 5.5,\n",
       " 5.5,\n",
       " 2.9,\n",
       " 2.9,\n",
       " 5.1,\n",
       " 5.3,\n",
       " 3.3,\n",
       " 3.0,\n",
       " 6.6,\n",
       " 3.0,\n",
       " 2.9,\n",
       " 3.4,\n",
       " 3.8,\n",
       " 6.6,\n",
       " 4.0,\n",
       " 7.0,\n",
       " 6.9,\n",
       " 3.4,\n",
       " 3.4,\n",
       " 2.0,\n",
       " 2.0,\n",
       " 5.1,\n",
       " 8.8,\n",
       " 5.6,\n",
       " 18.9,\n",
       " 15.6,\n",
       " 15.6,\n",
       " 3.0,\n",
       " 3.1,\n",
       " 3.0,\n",
       " 4.8,\n",
       " 2.1,\n",
       " 3.1,\n",
       " 4.4,\n",
       " 4.7,\n",
       " 3.0,\n",
       " 3.0,\n",
       " 4.2,\n",
       " 4.1,\n",
       " 3.0,\n",
       " 3.1,\n",
       " 10.6,\n",
       " 4.8,\n",
       " 5.3,\n",
       " 4.9,\n",
       " 10.2,\n",
       " 7.7,\n",
       " 5.9,\n",
       " 0.7,\n",
       " 10.2,\n",
       " 7.2,\n",
       " 11.0,\n",
       " 3.3,\n",
       " 19.4,\n",
       " 1.7,\n",
       " 5.7,\n",
       " 1.8,\n",
       " 1.4,\n",
       " 10.3,\n",
       " 11.5,\n",
       " 4.9,\n",
       " 3.5,\n",
       " 16.2,\n",
       " 2.0,\n",
       " 2.1,\n",
       " 2.1,\n",
       " 7.2,\n",
       " 12.0,\n",
       " 5.3,\n",
       " 11.6,\n",
       " 3.2,\n",
       " 12.3,\n",
       " 14.0,\n",
       " 2.1,\n",
       " 2.1,\n",
       " 3.0,\n",
       " 6.2,\n",
       " 9.6,\n",
       " 1.3,\n",
       " 7.1,\n",
       " 6.3,\n",
       " 10.7,\n",
       " 5.3,\n",
       " 1.6,\n",
       " 3.6,\n",
       " 1.7,\n",
       " 2.9,\n",
       " 0.6,\n",
       " 0.6,\n",
       " 2.3,\n",
       " 2.3,\n",
       " 3.2,\n",
       " 6.2,\n",
       " 7.7,\n",
       " 3.8,\n",
       " 7.9,\n",
       " 4.9,\n",
       " 5.0,\n",
       " 0.6,\n",
       " 3.1,\n",
       " 7.9,\n",
       " 5.5,\n",
       " 10.3,\n",
       " 10.4,\n",
       " 2.0,\n",
       " 8.5,\n",
       " 4.4,\n",
       " 3.8,\n",
       " 5.1,\n",
       " 3.8,\n",
       " 11.6,\n",
       " 11.9,\n",
       " 1.4,\n",
       " 1.1,\n",
       " 4.1,\n",
       " 6.1,\n",
       " 1.3,\n",
       " 3.0,\n",
       " 4.1,\n",
       " 7.2,\n",
       " 12.9,\n",
       " 2.8,\n",
       " 2.9,\n",
       " 4.6,\n",
       " 4.6,\n",
       " 0.8,\n",
       " 0.7,\n",
       " 3.9,\n",
       " 16.2,\n",
       " 6.4]"
      ]
     },
     "execution_count": 30,
     "metadata": {},
     "output_type": "execute_result"
    }
   ],
   "source": [
    "data_new_iqr"
   ]
  },
  {
   "cell_type": "code",
   "execution_count": 31,
   "id": "8ca187e6",
   "metadata": {},
   "outputs": [
    {
     "data": {
      "text/plain": [
       "608"
      ]
     },
     "execution_count": 31,
     "metadata": {},
     "output_type": "execute_result"
    }
   ],
   "source": [
    "len(data_new_iqr)"
   ]
  },
  {
   "cell_type": "code",
   "execution_count": 35,
   "id": "6dbcd892",
   "metadata": {},
   "outputs": [],
   "source": [
    "# IQR method\n",
    "Q11 = df['MILES*'].quantile(0.25)\n",
    "Q31 = df['MILES*'].quantile(0.75)\n",
    "IQR1 = Q31-Q11"
   ]
  },
  {
   "cell_type": "code",
   "execution_count": 38,
   "id": "4ae5609a",
   "metadata": {},
   "outputs": [
    {
     "data": {
      "text/plain": [
       "(3.2, 10.4, 7.2)"
      ]
     },
     "execution_count": 38,
     "metadata": {},
     "output_type": "execute_result"
    }
   ],
   "source": [
    "Q11,Q31,IQR1"
   ]
  },
  {
   "cell_type": "code",
   "execution_count": 39,
   "id": "71ec4150",
   "metadata": {},
   "outputs": [],
   "source": [
    "lower_iqr = Q11 - 1.5*IQR1\n",
    "upper_iqr = Q31 + 1.5*IQR1"
   ]
  },
  {
   "cell_type": "code",
   "execution_count": 40,
   "id": "c0b6594a",
   "metadata": {},
   "outputs": [
    {
     "data": {
      "text/plain": [
       "(-7.6000000000000005, 21.200000000000003)"
      ]
     },
     "execution_count": 40,
     "metadata": {},
     "output_type": "execute_result"
    }
   ],
   "source": [
    "lower_iqr, upper_iqr"
   ]
  },
  {
   "cell_type": "code",
   "execution_count": 42,
   "id": "b6f42315",
   "metadata": {},
   "outputs": [
    {
     "data": {
      "text/plain": [
       "(45, 7)"
      ]
     },
     "execution_count": 42,
     "metadata": {},
     "output_type": "execute_result"
    }
   ],
   "source": [
    "df[df['MILES*'] > upper_iqr].shape # check number of outliers > upper_iqr"
   ]
  },
  {
   "cell_type": "code",
   "execution_count": 44,
   "id": "bdcde5d1",
   "metadata": {},
   "outputs": [
    {
     "data": {
      "text/plain": [
       "(0, 7)"
      ]
     },
     "execution_count": 44,
     "metadata": {},
     "output_type": "execute_result"
    }
   ],
   "source": [
    "df[df['MILES*'] < lower_iqr].shape # check number of outliers < lower_iqr"
   ]
  },
  {
   "cell_type": "code",
   "execution_count": 45,
   "id": "52bf4db5",
   "metadata": {},
   "outputs": [],
   "source": [
    "new_df = df[-((df['MILES*'] > upper_iqr))] # remove 45 instances which are outliers > upper_iqr above"
   ]
  },
  {
   "cell_type": "code",
   "execution_count": 47,
   "id": "0f1a742b",
   "metadata": {},
   "outputs": [
    {
     "data": {
      "text/plain": [
       "(608, 7)"
      ]
     },
     "execution_count": 47,
     "metadata": {},
     "output_type": "execute_result"
    }
   ],
   "source": [
    "new_df.shape"
   ]
  },
  {
   "cell_type": "code",
   "execution_count": 50,
   "id": "82ba1afe",
   "metadata": {},
   "outputs": [
    {
     "data": {
      "text/plain": [
       "(array([ 95., 128., 104.,  80.,  86.,  41.,  26.,  23.,  14.,  11.]),\n",
       " array([ 0.5,  2.5,  4.5,  6.5,  8.5, 10.5, 12.5, 14.5, 16.5, 18.5, 20.5]),\n",
       " <BarContainer object of 10 artists>)"
      ]
     },
     "execution_count": 50,
     "metadata": {},
     "output_type": "execute_result"
    },
    {
     "data": {
      "image/png": "[encoded data removed]",
      "text/plain": [
       "<Figure size 432x288 with 1 Axes>"
      ]
     },
     "metadata": {
      "needs_background": "light"
     },
     "output_type": "display_data"
    }
   ],
   "source": [
    "plt.hist(new_df['MILES*'].values)"
   ]
  },
  {
   "cell_type": "code",
   "execution_count": null,
   "id": "97d066b9",
   "metadata": {},
   "outputs": [],
   "source": []
  }
 ],
 "metadata": {
  "kernelspec": {
   "display_name": "Python 3",
   "language": "python",
   "name": "python3"
  },
  "language_info": {
   "codemirror_mode": {
    "name": "ipython",
    "version": 3
   },
   "file_extension": ".py",
   "mimetype": "text/x-python",
   "name": "python",
   "nbconvert_exporter": "python",
   "pygments_lexer": "ipython3",
   "version": "3.8.8"
  }
 },
 "nbformat": 4,
 "nbformat_minor": 5
}
