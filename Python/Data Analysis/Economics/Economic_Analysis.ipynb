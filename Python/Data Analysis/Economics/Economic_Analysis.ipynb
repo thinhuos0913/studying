{
 "cells": [
  {
   "cell_type": "code",
   "execution_count": 1,
   "id": "4625ae32",
   "metadata": {},
   "outputs": [],
   "source": [
    "import pandas as pd\n",
    "import matplotlib.pyplot as plt\n",
    "import numpy as np\n",
    "import sys"
   ]
  },
  {
   "cell_type": "code",
   "execution_count": 2,
   "id": "3ab9ba41",
   "metadata": {},
   "outputs": [],
   "source": [
    "# LOAD DỮ LIỆU\n",
    "df = pd.read_csv('Economic_S4.csv')"
   ]
  },
  {
   "cell_type": "code",
   "execution_count": 3,
   "id": "0154ecae",
   "metadata": {},
   "outputs": [
    {
     "data": {
      "text/html": [
       "<div>\n",
       "<style scoped>\n",
       "    .dataframe tbody tr th:only-of-type {\n",
       "        vertical-align: middle;\n",
       "    }\n",
       "\n",
       "    .dataframe tbody tr th {\n",
       "        vertical-align: top;\n",
       "    }\n",
       "\n",
       "    .dataframe thead th {\n",
       "        text-align: right;\n",
       "    }\n",
       "</style>\n",
       "<table border=\"1\" class=\"dataframe\">\n",
       "  <thead>\n",
       "    <tr style=\"text-align: right;\">\n",
       "      <th></th>\n",
       "      <th>Year</th>\n",
       "      <th>Inflation</th>\n",
       "      <th>Lending_Interest_Rate</th>\n",
       "      <th>Unemployment</th>\n",
       "      <th>GDP</th>\n",
       "      <th>NPL</th>\n",
       "    </tr>\n",
       "  </thead>\n",
       "  <tbody>\n",
       "    <tr>\n",
       "      <th>0</th>\n",
       "      <td>2006</td>\n",
       "      <td>0.074182</td>\n",
       "      <td>0.111763</td>\n",
       "      <td>0.0464</td>\n",
       "      <td>0.0698</td>\n",
       "      <td>0.0188</td>\n",
       "    </tr>\n",
       "    <tr>\n",
       "      <th>1</th>\n",
       "      <td>2007</td>\n",
       "      <td>0.083444</td>\n",
       "      <td>0.111812</td>\n",
       "      <td>0.0465</td>\n",
       "      <td>0.0813</td>\n",
       "      <td>0.0050</td>\n",
       "    </tr>\n",
       "    <tr>\n",
       "      <th>2</th>\n",
       "      <td>2008</td>\n",
       "      <td>0.231154</td>\n",
       "      <td>0.157836</td>\n",
       "      <td>0.0464</td>\n",
       "      <td>0.0466</td>\n",
       "      <td>0.0589</td>\n",
       "    </tr>\n",
       "    <tr>\n",
       "      <th>3</th>\n",
       "      <td>2009</td>\n",
       "      <td>0.067178</td>\n",
       "      <td>0.100691</td>\n",
       "      <td>0.0443</td>\n",
       "      <td>0.0512</td>\n",
       "      <td>0.0403</td>\n",
       "    </tr>\n",
       "    <tr>\n",
       "      <th>4</th>\n",
       "      <td>2010</td>\n",
       "      <td>0.092075</td>\n",
       "      <td>0.131353</td>\n",
       "      <td>0.0360</td>\n",
       "      <td>0.0642</td>\n",
       "      <td>0.0238</td>\n",
       "    </tr>\n",
       "  </tbody>\n",
       "</table>\n",
       "</div>"
      ],
      "text/plain": [
       "   Year  Inflation  Lending_Interest_Rate  Unemployment     GDP     NPL\n",
       "0  2006   0.074182               0.111763        0.0464  0.0698  0.0188\n",
       "1  2007   0.083444               0.111812        0.0465  0.0813  0.0050\n",
       "2  2008   0.231154               0.157836        0.0464  0.0466  0.0589\n",
       "3  2009   0.067178               0.100691        0.0443  0.0512  0.0403\n",
       "4  2010   0.092075               0.131353        0.0360  0.0642  0.0238"
      ]
     },
     "execution_count": 3,
     "metadata": {},
     "output_type": "execute_result"
    }
   ],
   "source": [
    "df.head()"
   ]
  },
  {
   "cell_type": "code",
   "execution_count": 4,
   "id": "324c5ec9",
   "metadata": {},
   "outputs": [
    {
     "name": "stdout",
     "output_type": "stream",
     "text": [
      "--------------------------\n",
      "count    14.000000\n",
      "mean      0.076006\n",
      "std       0.062763\n",
      "min       0.006312\n",
      "25%       0.035251\n",
      "50%       0.066553\n",
      "75%       0.089071\n",
      "max       0.231154\n",
      "Name: Inflation, dtype: float64\n",
      "--------------------------\n",
      "count    14.000000\n",
      "mean      0.037729\n",
      "std       0.005974\n",
      "min       0.030900\n",
      "25%       0.032525\n",
      "50%       0.036100\n",
      "75%       0.043125\n",
      "max       0.046500\n",
      "Name: Unemployment, dtype: float64\n",
      "--------------------------\n",
      "count    14.000000\n",
      "mean      0.105032\n",
      "std       0.033178\n",
      "min       0.069694\n",
      "25%       0.074558\n",
      "50%       0.102217\n",
      "75%       0.126468\n",
      "max       0.169538\n",
      "Name: Lending_Interest_Rate, dtype: float64\n",
      "--------------------------\n",
      "count    18.000000\n",
      "mean      0.056717\n",
      "std       0.015489\n",
      "min       0.026300\n",
      "25%       0.047750\n",
      "50%       0.060950\n",
      "75%       0.067775\n",
      "max       0.081300\n",
      "Name: GDP, dtype: float64\n",
      "--------------------------\n",
      "count    14.000000\n",
      "mean      0.029686\n",
      "std       0.018673\n",
      "min       0.005000\n",
      "25%       0.019150\n",
      "50%       0.023900\n",
      "75%       0.036875\n",
      "max       0.075000\n",
      "Name: NPL, dtype: float64\n",
      "--------------------------\n"
     ]
    }
   ],
   "source": [
    "# 1. Kiểm tra thông số thống kê của mỗi biến\n",
    "print(\"--------------------------\")\n",
    "print(df['Inflation'].describe())\n",
    "print(\"--------------------------\")\n",
    "print(df['Unemployment'].describe())\n",
    "print(\"--------------------------\")\n",
    "print(df['Lending_Interest_Rate'].describe())\n",
    "print(\"--------------------------\")\n",
    "print(df['GDP'].describe())\n",
    "print(\"--------------------------\")\n",
    "print(df['NPL'].describe())\n",
    "print(\"--------------------------\")"
   ]
  },
  {
   "cell_type": "code",
   "execution_count": 5,
   "id": "3e49b482",
   "metadata": {},
   "outputs": [],
   "source": [
    "# 2. Vẽ phân phối dữ liệu dạng box plots\n",
    "# Tạo DF mới loại bỏ Biến Year và NPL trong DF gốc sau đó vẽ các biểu đồ box với từng biến\n",
    "df_box = df[['Inflation', 'Lending_Interest_Rate', 'Unemployment', 'GDP']]"
   ]
  },
  {
   "cell_type": "code",
   "execution_count": 6,
   "id": "d39cca7b",
   "metadata": {},
   "outputs": [
    {
     "data": {
      "image/png": "[encoded data removed]",
      "text/plain": [
       "<Figure size 432x288 with 1 Axes>"
      ]
     },
     "metadata": {
      "needs_background": "light"
     },
     "output_type": "display_data"
    }
   ],
   "source": [
    "# Chạy hàm boxplot để vẽ biểu đồ Box và lấy các giá trị của box. Hàm này trả về 2 giá trị ax và bp.\n",
    "# Ý nghĩa tham số return type:\n",
    "# 1. ‘axes’ returns the matplotlib axes the boxplot is drawn on\n",
    "# 2. ‘dict’ returns a dictionary whose values are the matplotlib Lines of the boxplot.\n",
    "# 3. ‘both’ returns a namedtuple with the axes and dict.\n",
    "ax, bp = pd.DataFrame.boxplot(df_box, return_type='both')"
   ]
  },
  {
   "cell_type": "code",
   "execution_count": 7,
   "id": "a5326c85",
   "metadata": {},
   "outputs": [
    {
     "name": "stdout",
     "output_type": "stream",
     "text": [
      "outliers:\n",
      "[array([0.231154, 0.186777], dtype=object), array([], dtype=object), array([], dtype=object), array([], dtype=object)]\n"
     ]
    }
   ],
   "source": [
    "# # In dữ liệu của box và viết giá trị của các điểm này vào biểu đồ box\n",
    "# # outliers: trả về mảng giá trị nằm bên ngoài. Mảng chưa mỗi giá trị của chuỗi outlier\n",
    "# # boxes: trả về mảng gồm 5 giá trị của box sẽ nối thành hình box gồm cận trên cận dưới box\n",
    "# # medians: trả về mảng gồm 2 giá trị nối 2 điểm nằm ở giữa đường line mầu xanh lá cây\n",
    "# # whiskers: trả về 2 mảng mỗi mảng gồm 2 giá trị vẽ từ cạnh box đến ria 2 đầu\n",
    "outliers = [flier.get_ydata() for flier in bp[\"fliers\"]]\n",
    "boxes = [box.get_ydata() for box in bp[\"boxes\"]]\n",
    "medians = [median.get_ydata() for median in bp[\"medians\"]]\n",
    "whiskers = [whiskers.get_ydata() for whiskers in bp[\"whiskers\"]]\n",
    "print(\"outliers:\")\n",
    "print(outliers)"
   ]
  },
  {
   "cell_type": "code",
   "execution_count": 8,
   "id": "6a6b494a",
   "metadata": {},
   "outputs": [
    {
     "name": "stdout",
     "output_type": "stream",
     "text": [
      "boxes:\n",
      "[array([0.03525125, 0.03525125, 0.08907125, 0.08907125, 0.03525125]), array([0.074558  , 0.074558  , 0.12646775, 0.12646775, 0.074558  ]), array([0.032525, 0.032525, 0.043125, 0.043125, 0.032525]), array([0.04775 , 0.04775 , 0.067775, 0.067775, 0.04775 ])]\n"
     ]
    }
   ],
   "source": [
    "for i in range(4):\n",
    "    for j in range(len(outliers[i])):\n",
    "        ax.text(i+1, outliers[i][j], \"{:.4f}\".format(outliers[i][j]))\n",
    "print(\"boxes:\")\n",
    "print(boxes)"
   ]
  },
  {
   "cell_type": "code",
   "execution_count": 9,
   "id": "55dc58a4",
   "metadata": {},
   "outputs": [
    {
     "name": "stdout",
     "output_type": "stream",
     "text": [
      "medians:\n",
      "[array([0.0665525, 0.0665525]), array([0.1022165, 0.1022165]), array([0.0361, 0.0361]), array([0.06095, 0.06095])]\n",
      "0.0665525 0.0665525\n"
     ]
    }
   ],
   "source": [
    "pad = 0.2\n",
    "for i in range(4):\n",
    "    ax.text(i+1+pad, boxes[i][1], \"{:.4f}\".format(boxes[i][1]))\n",
    "    ax.text(i+1+pad, boxes[i][2], \"{:.4f}\".format(boxes[i][2]))\n",
    "print(\"medians:\")\n",
    "print(medians)\n",
    "print(medians[0][0], medians[0][1])"
   ]
  },
  {
   "cell_type": "code",
   "execution_count": 10,
   "id": "2ea1e84c",
   "metadata": {},
   "outputs": [
    {
     "name": "stdout",
     "output_type": "stream",
     "text": [
      "whiskers:\n",
      "[array([0.03525125, 0.006312  ]), array([0.08907125, 0.092075  ]), array([0.074558, 0.069694]), array([0.12646775, 0.169538  ]), array([0.032525, 0.0309  ]), array([0.043125, 0.0465  ]), array([0.04775, 0.0263 ]), array([0.067775, 0.0813  ])]\n"
     ]
    }
   ],
   "source": [
    "for i in range(4):\n",
    "    ax.text(i+1, medians[i][0], \"{:.2f}\".format(medians[i][0]))\n",
    "print(\"whiskers:\")\n",
    "print(whiskers)"
   ]
  },
  {
   "cell_type": "code",
   "execution_count": 11,
   "id": "2aef68ed",
   "metadata": {},
   "outputs": [],
   "source": [
    "for i in range(4): #[0,3]\n",
    "    for j in range(2): #[0,1]\n",
    "        ax.text(i + 1, whiskers[i*2+j][1], \"{:.2f}\".format(whiskers[i*2+j][1]))\n",
    "    ax.text(i + 1, whiskers[i][1], \"{:.2f}\".format(whiskers[i][1]))\n",
    "\n",
    "# plt.show()"
   ]
  },
  {
   "cell_type": "code",
   "execution_count": 12,
   "id": "f3125307",
   "metadata": {},
   "outputs": [
    {
     "name": "stdout",
     "output_type": "stream",
     "text": [
      "      Inflation  Lending_Interest_Rate  Unemployment       GDP\n",
      "0.01   0.008960               0.069822      0.030926  0.027354\n",
      "0.25   0.035251               0.074558      0.032525  0.047750\n",
      "0.50   0.066553               0.102217      0.036100  0.060950\n",
      "0.75   0.089071               0.126468      0.043125  0.067775\n",
      "0.99   0.225385               0.168017      0.046487  0.079889\n"
     ]
    }
   ],
   "source": [
    "# QUANTILES\n",
    "\n",
    "# In quantiles theo các quãng 1%, 25%, 50%, 75%, 99%\n",
    "quantiles = df_box.quantile([0.01, 0.25, 0.5, 0.75, 0.99])\n",
    "print(quantiles)"
   ]
  },
  {
   "cell_type": "code",
   "execution_count": 13,
   "id": "92988839",
   "metadata": {},
   "outputs": [
    {
     "data": {
      "image/png": "[encoded data removed]",
      "text/plain": [
       "<Figure size 432x288 with 1 Axes>"
      ]
     },
     "metadata": {
      "needs_background": "light"
     },
     "output_type": "display_data"
    }
   ],
   "source": [
    "# HISTOGRAM\n",
    "# 3. Vẽ phân phối dữ liệu dạng historical, \n",
    "# Hàm của Python mặc định chia dữ liệu thành 10 bin, \n",
    "# muốn thay đổi có thể điều chỉnh giá trị bin\n",
    "df_hist = df[['GDP']]\n",
    "hist = df_hist.hist(bins=10) \n",
    "plt.show()"
   ]
  },
  {
   "cell_type": "code",
   "execution_count": 14,
   "id": "5ce821b5",
   "metadata": {},
   "outputs": [],
   "source": [
    "# SCATTER\n",
    "df_scatter = df[['GDP','NPL']]"
   ]
  },
  {
   "cell_type": "code",
   "execution_count": 15,
   "id": "f45ab97c",
   "metadata": {},
   "outputs": [
    {
     "data": {
      "text/plain": [
       "<matplotlib.collections.PathCollection at 0x8d6a598>"
      ]
     },
     "execution_count": 15,
     "metadata": {},
     "output_type": "execute_result"
    },
    {
     "data": {
      "image/png": "[encoded data removed]",
      "text/plain": [
       "<Figure size 432x288 with 1 Axes>"
      ]
     },
     "metadata": {
      "needs_background": "light"
     },
     "output_type": "display_data"
    }
   ],
   "source": [
    "x = df_scatter['GDP'][:13]\n",
    "y = df_scatter['NPL'][:13]\n",
    "\n",
    "plt.scatter(x, y)"
   ]
  },
  {
   "cell_type": "code",
   "execution_count": 16,
   "id": "a77424df",
   "metadata": {},
   "outputs": [
    {
     "data": {
      "image/png": "[encoded data removed]",
      "text/plain": [
       "<Figure size 432x288 with 1 Axes>"
      ]
     },
     "metadata": {
      "needs_background": "light"
     },
     "output_type": "display_data"
    }
   ],
   "source": [
    "z = np.polyfit(x, y, 1)\n",
    "p = np.poly1d(z)\n",
    "plt.plot(x, p(x), \"r--\")\n",
    "\n",
    "plt.show()"
   ]
  },
  {
   "cell_type": "code",
   "execution_count": 22,
   "id": "4e31d1a1",
   "metadata": {},
   "outputs": [
    {
     "name": "stdout",
     "output_type": "stream",
     "text": [
      "-----------Kết quả pearson---------------\n",
      "                       Inflation  Lending_Interest_Rate  Unemployment  \\\n",
      "Inflation               1.000000               0.925695      0.422299   \n",
      "Lending_Interest_Rate   0.925695               1.000000      0.414612   \n",
      "Unemployment            0.422299               0.414612      1.000000   \n",
      "GDP                    -0.381281              -0.428401     -0.218992   \n",
      "NPL                     0.418171               0.442572      0.293610   \n",
      "\n",
      "                            GDP       NPL  \n",
      "Inflation             -0.381281  0.418171  \n",
      "Lending_Interest_Rate -0.428401  0.442572  \n",
      "Unemployment          -0.218992  0.293610  \n",
      "GDP                    1.000000 -0.984688  \n",
      "NPL                   -0.984688  1.000000  \n",
      "-----------Kết quả kendall---------------\n",
      "                       Inflation  Lending_Interest_Rate  Unemployment  \\\n",
      "Inflation               1.000000               0.846154      0.419896   \n",
      "Lending_Interest_Rate   0.846154               1.000000      0.353597   \n",
      "Unemployment            0.419896               0.353597      1.000000   \n",
      "GDP                    -0.274725              -0.208791     -0.353597   \n",
      "NPL                     0.252747               0.230769      0.331497   \n",
      "\n",
      "                            GDP       NPL  \n",
      "Inflation             -0.274725  0.252747  \n",
      "Lending_Interest_Rate -0.208791  0.230769  \n",
      "Unemployment          -0.353597  0.331497  \n",
      "GDP                    1.000000 -0.978022  \n",
      "NPL                   -0.978022  1.000000  \n",
      "------------Kết quả spearman--------------\n",
      "                       Inflation  Lending_Interest_Rate  Unemployment  \\\n",
      "Inflation               1.000000               0.956044      0.558856   \n",
      "Lending_Interest_Rate   0.956044               1.000000      0.517052   \n",
      "Unemployment            0.558856               0.517052      1.000000   \n",
      "GDP                    -0.353846              -0.331868     -0.330033   \n",
      "NPL                     0.345055               0.336264      0.321232   \n",
      "\n",
      "                            GDP       NPL  \n",
      "Inflation             -0.353846  0.345055  \n",
      "Lending_Interest_Rate -0.331868  0.336264  \n",
      "Unemployment          -0.330033  0.321232  \n",
      "GDP                    1.000000 -0.995604  \n",
      "NPL                   -0.995604  1.000000  \n"
     ]
    }
   ],
   "source": [
    "# CORRELATION\n",
    "# 5. Ma trận tương quan giữa các biến trên 3 method khác nhau\n",
    "df_corr = df[['Inflation', 'Lending_Interest_Rate', 'Unemployment', 'GDP','NPL']]\n",
    "print(\"-----------Kết quả pearson---------------\")\n",
    "print(df_corr.corr(method='pearson', min_periods=1))\n",
    "print(\"-----------Kết quả kendall---------------\")\n",
    "print(df_corr.corr(method='kendall'))\n",
    "print(\"------------Kết quả spearman--------------\")\n",
    "print(df_corr.corr(method='spearman'))\n"
   ]
  },
  {
   "cell_type": "code",
   "execution_count": 23,
   "id": "7dd6172c",
   "metadata": {},
   "outputs": [],
   "source": [
    "# MÔ HÌNH VÀ PHÂN TÍCH KẾT QUẢ\n",
    "# Chọn biến đưa vào mô hình: Biến X = GDP và Y = NPL\n",
    "X_Train = df['GDP'][:14].values.reshape(-1,1)\n",
    "Y_Train = df['NPL'][:14].values.reshape(-1,1)"
   ]
  },
  {
   "cell_type": "code",
   "execution_count": 24,
   "id": "d68fc07f",
   "metadata": {},
   "outputs": [
    {
     "data": {
      "text/plain": [
       "LinearRegression()"
      ]
     },
     "execution_count": 24,
     "metadata": {},
     "output_type": "execute_result"
    }
   ],
   "source": [
    "# Xây dựng mô hình linear với sklearn\n",
    "from sklearn.linear_model import LinearRegression\n",
    "regr = LinearRegression()\n",
    "regr.fit(X_Train, Y_Train)"
   ]
  },
  {
   "cell_type": "code",
   "execution_count": 25,
   "id": "f8432fa3",
   "metadata": {},
   "outputs": [
    {
     "name": "stdout",
     "output_type": "stream",
     "text": [
      "GDP dự tính cho 4 năm tiếp theo: \n",
      " [[0.0263]\n",
      " [0.0336]\n",
      " [0.0396]\n",
      " [0.0586]]\n",
      "Dự đoán tỷ lệ nợ xấu NPL theo biến động của GDP: \n",
      " [[0.08225604]\n",
      " [0.07139335]\n",
      " [0.06246511]\n",
      " [0.03419235]]\n",
      "Intercept: \n",
      " [0.12139149]\n",
      "Coefficients: \n",
      " [[-1.48803999]]\n"
     ]
    }
   ],
   "source": [
    "# Dự báo kết quả Tỷ lệ nợ xấu trên số liệu dự báo của GPD 4 năm tiếp theo với sklearn\n",
    "X_Test = df['GDP'][-4:].values.reshape(-1, 1)\n",
    "print('GDP dự tính cho 4 năm tiếp theo: \\n', X_Test)\n",
    "Y_Pred = regr.predict(X_Test)\n",
    "print('Dự đoán tỷ lệ nợ xấu NPL theo biến động của GDP: \\n', Y_Pred)\n",
    "\n",
    "# In các giá trị của hàm Hồi quy để kiểm tra mô hình\n",
    "# In giá trị Hệ số chặn/ Hằng số Intercept và Hệ số góc Coefficients\n",
    "print('Intercept: \\n', regr.intercept_)\n",
    "print('Coefficients: \\n', regr.coef_)"
   ]
  },
  {
   "cell_type": "code",
   "execution_count": 26,
   "id": "beceaa61",
   "metadata": {},
   "outputs": [
    {
     "name": "stdout",
     "output_type": "stream",
     "text": [
      "                            OLS Regression Results                            \n",
      "==============================================================================\n",
      "Dep. Variable:                      y   R-squared:                       0.970\n",
      "Model:                            OLS   Adj. R-squared:                  0.967\n",
      "Method:                 Least Squares   F-statistic:                     382.9\n",
      "Date:                Fri, 28 Jun 2024   Prob (F-statistic):           1.80e-10\n",
      "Time:                        12:54:26   Log-Likelihood:                 60.839\n",
      "No. Observations:                  14   AIC:                            -117.7\n",
      "Df Residuals:                      12   BIC:                            -116.4\n",
      "Df Model:                           1                                         \n",
      "Covariance Type:            nonrobust                                         \n",
      "==============================================================================\n",
      "                 coef    std err          t      P>|t|      [0.025      0.975]\n",
      "------------------------------------------------------------------------------\n",
      "const          0.1214      0.005     25.431      0.000       0.111       0.132\n",
      "x1            -1.4880      0.076    -19.567      0.000      -1.654      -1.322\n",
      "==============================================================================\n",
      "Omnibus:                        0.901   Durbin-Watson:                   1.906\n",
      "Prob(Omnibus):                  0.637   Jarque-Bera (JB):                0.459\n",
      "Skew:                           0.428   Prob(JB):                        0.795\n",
      "Kurtosis:                       2.767   Cond. No.                         84.3\n",
      "==============================================================================\n",
      "\n",
      "Notes:\n",
      "[1] Standard Errors assume that the covariance matrix of the errors is correctly specified.\n",
      "[ 0.0012737   0.00458616  0.00685117 -0.00490385 -0.00205933 -0.0045378\n",
      "  0.00196981 -0.00233973 -0.0001067   0.00130958 -0.00108421  0.00014403\n",
      " -0.00233826  0.00123543]\n"
     ]
    },
    {
     "name": "stderr",
     "output_type": "stream",
     "text": [
      "C:\\Users\\tanth_000\\anaconda3\\lib\\site-packages\\scipy\\stats\\stats.py:1603: UserWarning: kurtosistest only valid for n>=20 ... continuing anyway, n=14\n",
      "  warnings.warn(\"kurtosistest only valid for n>=20 ... continuing \"\n"
     ]
    }
   ],
   "source": [
    "# In kết quả hồi quy tuyến tính thông qua phương pháp OLS với statsmodels\n",
    "import statsmodels.api as sm\n",
    "X_Train = sm.add_constant(X_Train)  # adding a constant\n",
    "model = sm.OLS(Y_Train, X_Train , alpha=0.05).fit()\n",
    "print_model = model.summary()\n",
    "print(print_model)\n",
    "\n",
    "# Tính phần dư Residual từ OLS\n",
    "res_ols = model.resid  # residuals\n",
    "print(res_ols)"
   ]
  },
  {
   "cell_type": "code",
   "execution_count": 27,
   "id": "e0e76246",
   "metadata": {},
   "outputs": [
    {
     "name": "stdout",
     "output_type": "stream",
     "text": [
      "    Residual\n",
      "0   0.001274\n",
      "1   0.004586\n",
      "2   0.006851\n",
      "3  -0.004904\n",
      "4  -0.002059\n",
      "5  -0.004538\n",
      "6   0.001970\n",
      "7  -0.002340\n",
      "8  -0.000107\n",
      "9   0.001310\n",
      "10 -0.001084\n",
      "11  0.000144\n",
      "12 -0.002338\n",
      "13  0.001235\n",
      "           Residual\n",
      "count  1.400000e+01\n",
      "mean   1.548860e-17\n",
      "std    3.255110e-03\n",
      "min   -4.903846e-03\n",
      "25%   -2.268528e-03\n",
      "50%    1.866426e-05\n",
      "75%    1.300608e-03\n",
      "max    6.851170e-03\n",
      "-----------Kết quả pearson giữa Residual và GDP---------------\n",
      "              Residual           GDP\n",
      "Residual  1.000000e+00 -1.250601e-15\n",
      "GDP      -1.250601e-15  1.000000e+00\n",
      "------------Kết quả spearman giữa Residual và GDP--------------\n",
      "          Residual       GDP\n",
      "Residual  1.000000  0.125275\n",
      "GDP       0.125275  1.000000\n"
     ]
    }
   ],
   "source": [
    "# Vẽ phân phối dữ liệu của phần dư Residual để phân tích kết quả\n",
    "df_hist_ols =pd.DataFrame(res_ols)\n",
    "df_hist_ols.rename(columns={df_hist_ols.columns[0]: \"Residual\"}, inplace=True)\n",
    "print(df_hist_ols)\n",
    "print(df_hist_ols.describe())\n",
    "df_gdp = df ['GDP'][:14]\n",
    "df_res = pd.concat([df_hist_ols, df_gdp], axis=1, sort=False)\n",
    "print(\"-----------Kết quả pearson giữa Residual và GDP---------------\")\n",
    "print(df_res.corr(method='pearson', min_periods=1))\n",
    "print(\"------------Kết quả spearman giữa Residual và GDP--------------\")\n",
    "print(df_res.corr(method='spearman'))"
   ]
  },
  {
   "cell_type": "code",
   "execution_count": 28,
   "id": "046911e3",
   "metadata": {},
   "outputs": [
    {
     "data": {
      "image/png": "[encoded data removed]",
      "text/plain": [
       "<Figure size 432x288 with 1 Axes>"
      ]
     },
     "metadata": {
      "needs_background": "light"
     },
     "output_type": "display_data"
    },
    {
     "data": {
      "image/png": "[encoded data removed]",
      "text/plain": [
       "<Figure size 432x288 with 1 Axes>"
      ]
     },
     "metadata": {
      "needs_background": "light"
     },
     "output_type": "display_data"
    },
    {
     "data": {
      "image/png": "[encoded data removed]",
      "text/plain": [
       "<Figure size 576x432 with 1 Axes>"
      ]
     },
     "metadata": {
      "needs_background": "light"
     },
     "output_type": "display_data"
    },
    {
     "data": {
      "image/png": "[encoded data removed]",
      "text/plain": [
       "<Figure size 432x288 with 1 Axes>"
      ]
     },
     "metadata": {
      "needs_background": "light"
     },
     "output_type": "display_data"
    }
   ],
   "source": [
    "df_hist_ols.plot(kind='hist', stacked=True, bins=5)\n",
    "df_hist_ols.plot(kind='box')\n",
    "df_hist_ols.plot.density(figsize=(8, 6), linewidth=4)\n",
    "fig = sm.qqplot(res_ols, line='r')\n",
    "plt.show()\n",
    "# sys.exit()"
   ]
  },
  {
   "cell_type": "code",
   "execution_count": 29,
   "id": "39c6ae50",
   "metadata": {},
   "outputs": [
    {
     "name": "stdout",
     "output_type": "stream",
     "text": [
      "    Inflation  Lending_Interest_Rate  Unemployment     GDP\n",
      "0    0.074182               0.111763        0.0464  0.0698\n",
      "1    0.083444               0.111812        0.0465  0.0813\n",
      "2    0.231154               0.157836        0.0464  0.0466\n",
      "3    0.067178               0.100691        0.0443  0.0512\n",
      "4    0.092075               0.131353        0.0360  0.0642\n",
      "5    0.186777               0.169538        0.0325  0.0624\n",
      "6    0.090947               0.134717        0.0396  0.0325\n",
      "7    0.065927               0.103742        0.0362  0.0542\n",
      "8    0.040846               0.086656        0.0385  0.0598\n",
      "9    0.006312               0.071175        0.0326  0.0668\n",
      "10   0.026682               0.069694        0.0353  0.0621\n",
      "11   0.035203               0.070675        0.0311  0.0681\n",
      "12   0.035396               0.073719        0.0319  0.0708\n",
      "13   0.027958               0.077075        0.0309  0.0730\n",
      "0     0.0188\n",
      "1     0.0050\n",
      "2     0.0589\n",
      "3     0.0403\n",
      "4     0.0238\n",
      "5     0.0240\n",
      "6     0.0750\n",
      "7     0.0384\n",
      "8     0.0323\n",
      "9     0.0233\n",
      "10    0.0279\n",
      "11    0.0202\n",
      "12    0.0137\n",
      "13    0.0140\n",
      "Name: NPL, dtype: float64\n",
      "Intercept: \n",
      " 0.11602946187306193\n",
      "Coefficients: \n",
      " [ 0.04232662 -0.077669    0.24307053 -1.46967223]\n"
     ]
    }
   ],
   "source": [
    "# MULTI REGRESSION\n",
    "# print(df)\n",
    "df_combine = df[:14]\n",
    "# print(df_combine)\n",
    "X = df_combine[['Inflation', 'Lending_Interest_Rate', 'Unemployment', 'GDP']] \n",
    "Y = df_combine['NPL']\n",
    "print(X)\n",
    "print(Y)\n",
    "regr = LinearRegression()\n",
    "regr.fit(X,Y)\n",
    "print('Intercept: \\n', regr.intercept_)\n",
    "print('Coefficients: \\n', regr.coef_)"
   ]
  },
  {
   "cell_type": "code",
   "execution_count": 30,
   "id": "77ad2878",
   "metadata": {},
   "outputs": [
    {
     "name": "stdout",
     "output_type": "stream",
     "text": [
      "                            OLS Regression Results                            \n",
      "==============================================================================\n",
      "Dep. Variable:                    NPL   R-squared:                       0.979\n",
      "Model:                            OLS   Adj. R-squared:                  0.970\n",
      "Method:                 Least Squares   F-statistic:                     104.3\n",
      "Date:                Fri, 28 Jun 2024   Prob (F-statistic):           1.56e-07\n",
      "Time:                        12:56:19   Log-Likelihood:                 63.390\n",
      "No. Observations:                  14   AIC:                            -116.8\n",
      "Df Residuals:                       9   BIC:                            -113.6\n",
      "Df Model:                           4                                         \n",
      "Covariance Type:            nonrobust                                         \n",
      "=========================================================================================\n",
      "                            coef    std err          t      P>|t|      [0.025      0.975]\n",
      "-----------------------------------------------------------------------------------------\n",
      "const                     0.1160      0.010     11.450      0.000       0.093       0.139\n",
      "Inflation                 0.0423      0.038      1.103      0.299      -0.044       0.129\n",
      "Lending_Interest_Rate    -0.0777      0.074     -1.051      0.321      -0.245       0.090\n",
      "Unemployment              0.2431      0.168      1.450      0.181      -0.136       0.622\n",
      "GDP                      -1.4697      0.081    -18.100      0.000      -1.653      -1.286\n",
      "==============================================================================\n",
      "Omnibus:                        2.250   Durbin-Watson:                   2.658\n",
      "Prob(Omnibus):                  0.325   Jarque-Bera (JB):                1.016\n",
      "Skew:                          -0.659   Prob(JB):                        0.602\n",
      "Kurtosis:                       3.071   Cond. No.                         195.\n",
      "==============================================================================\n",
      "\n",
      "Notes:\n",
      "[1] Standard Errors assume that the covariance matrix of the errors is correctly specified.\n",
      "0    -0.000384\n",
      "1     0.002305\n",
      "2     0.002554\n",
      "3    -0.006273\n",
      "4    -0.000322\n",
      "5    -0.002959\n",
      "6     0.003723\n",
      "7    -0.001505\n",
      "8    -0.000200\n",
      "9     0.002781\n",
      "10   -0.001160\n",
      "11    0.000695\n",
      "12   -0.001803\n",
      "13    0.002549\n",
      "dtype: float64\n",
      "    Residual\n",
      "0  -0.000384\n",
      "1   0.002305\n",
      "2   0.002554\n",
      "3  -0.006273\n",
      "4  -0.000322\n",
      "5  -0.002959\n",
      "6   0.003723\n",
      "7  -0.001505\n",
      "8  -0.000200\n",
      "9   0.002781\n",
      "10 -0.001160\n",
      "11  0.000695\n",
      "12 -0.001803\n",
      "13  0.002549\n",
      "           Residual\n",
      "count  1.400000e+01\n",
      "mean  -2.125036e-17\n",
      "std    2.712840e-03\n",
      "min   -6.273116e-03\n",
      "25%   -1.418858e-03\n",
      "50%   -2.609385e-04\n",
      "75%    2.487660e-03\n",
      "max    3.723148e-03\n",
      "-----------Kết quả pearson giữa Residual và Unemployment---------------\n",
      "                  Residual  Unemployment\n",
      "Residual      1.000000e+00  4.197028e-15\n",
      "Unemployment  4.197028e-15  1.000000e+00\n",
      "------------Kết quả spearman giữa Residual và Unemployment--------------\n",
      "              Residual  Unemployment\n",
      "Residual       1.00000       0.09901\n",
      "Unemployment   0.09901       1.00000\n"
     ]
    },
    {
     "name": "stderr",
     "output_type": "stream",
     "text": [
      "C:\\Users\\tanth_000\\anaconda3\\lib\\site-packages\\scipy\\stats\\stats.py:1603: UserWarning: kurtosistest only valid for n>=20 ... continuing anyway, n=14\n",
      "  warnings.warn(\"kurtosistest only valid for n>=20 ... continuing \"\n"
     ]
    }
   ],
   "source": [
    "# with statsmodels\n",
    "X = sm.add_constant(X)  # adding a constant\n",
    "model = sm.OLS(Y, X).fit()\n",
    "        \n",
    "print_model = model.summary()\n",
    "print(print_model)\n",
    "# Tính phần dư Residual từ OLS\n",
    "res_ols = model.resid  # residuals\n",
    "print(res_ols)\n",
    "# Vẽ phân phối dữ liệu của phần dư Residual để phân tích kết quả\n",
    "df_hist_ols =pd.DataFrame(res_ols)\n",
    "df_hist_ols.rename(columns={df_hist_ols.columns[0]: \"Residual\"}, inplace=True)\n",
    "print(df_hist_ols)\n",
    "print(df_hist_ols.describe())\n",
    "df_unemployment = df ['Unemployment'][:14]\n",
    "df_res = pd.concat([df_hist_ols, df_unemployment], axis=1, sort=False)\n",
    "print(\"-----------Kết quả pearson giữa Residual và Unemployment---------------\")\n",
    "print(df_res.corr(method='pearson', min_periods=1))\n",
    "print(\"------------Kết quả spearman giữa Residual và Unemployment--------------\")\n",
    "print(df_res.corr(method='spearman'))"
   ]
  },
  {
   "cell_type": "code",
   "execution_count": 31,
   "id": "2ffcf49c",
   "metadata": {},
   "outputs": [
    {
     "data": {
      "image/png": "[encoded data removed]",
      "text/plain": [
       "<Figure size 432x288 with 1 Axes>"
      ]
     },
     "metadata": {
      "needs_background": "light"
     },
     "output_type": "display_data"
    },
    {
     "data": {
      "image/png": "[encoded data removed]",
      "text/plain": [
       "<Figure size 432x288 with 1 Axes>"
      ]
     },
     "metadata": {
      "needs_background": "light"
     },
     "output_type": "display_data"
    },
    {
     "data": {
      "image/png": "[encoded data removed]",
      "text/plain": [
       "<Figure size 576x432 with 1 Axes>"
      ]
     },
     "metadata": {
      "needs_background": "light"
     },
     "output_type": "display_data"
    },
    {
     "data": {
      "image/png": "[encoded data removed]",
      "text/plain": [
       "<Figure size 432x288 with 1 Axes>"
      ]
     },
     "metadata": {
      "needs_background": "light"
     },
     "output_type": "display_data"
    }
   ],
   "source": [
    "df_hist_ols.plot(kind='hist', stacked=True, bins=5)\n",
    "df_hist_ols.plot(kind='box')\n",
    "df_hist_ols.plot.density(figsize=(8, 6), linewidth=4)\n",
    "fig = sm.qqplot(res_ols, line='r')\n",
    "plt.show()\n",
    "# sys.exit()"
   ]
  },
  {
   "cell_type": "code",
   "execution_count": 32,
   "id": "03e828b5",
   "metadata": {},
   "outputs": [
    {
     "name": "stdout",
     "output_type": "stream",
     "text": [
      "Model :  1 Inflation\n",
      "0     0.074182\n",
      "1     0.083444\n",
      "2     0.231154\n",
      "3     0.067178\n",
      "4     0.092075\n",
      "5     0.186777\n",
      "6     0.090947\n",
      "7     0.065927\n",
      "8     0.040846\n",
      "9     0.006312\n",
      "10    0.026682\n",
      "11    0.035203\n",
      "12    0.035396\n",
      "13    0.027958\n",
      "Name: Inflation, dtype: float64\n",
      "0     0.0188\n",
      "1     0.0050\n",
      "2     0.0589\n",
      "3     0.0403\n",
      "4     0.0238\n",
      "5     0.0240\n",
      "6     0.0750\n",
      "7     0.0384\n",
      "8     0.0323\n",
      "9     0.0233\n",
      "10    0.0279\n",
      "11    0.0202\n",
      "12    0.0137\n",
      "13    0.0140\n",
      "Name: NPL, dtype: float64\n",
      "Intercept: \n",
      " 0.020229844103060737\n",
      "Coefficients: \n",
      " [0.12440987]\n",
      "                            OLS Regression Results                            \n",
      "==============================================================================\n",
      "Dep. Variable:                    NPL   R-squared:                       0.175\n",
      "Model:                            OLS   Adj. R-squared:                  0.106\n",
      "Method:                 Least Squares   F-statistic:                     2.543\n",
      "Date:                Fri, 28 Jun 2024   Prob (F-statistic):              0.137\n",
      "Time:                        12:56:55   Log-Likelihood:                 37.729\n",
      "No. Observations:                  14   AIC:                            -71.46\n",
      "Df Residuals:                      12   BIC:                            -70.18\n",
      "Df Model:                           1                                         \n",
      "Covariance Type:            nonrobust                                         \n",
      "==============================================================================\n",
      "                 coef    std err          t      P>|t|      [0.025      0.975]\n",
      "------------------------------------------------------------------------------\n",
      "const          0.0202      0.008      2.670      0.020       0.004       0.037\n",
      "x1             0.1244      0.078      1.595      0.137      -0.046       0.294\n",
      "==============================================================================\n",
      "Omnibus:                        6.261   Durbin-Watson:                   1.937\n",
      "Prob(Omnibus):                  0.044   Jarque-Bera (JB):                2.967\n",
      "Skew:                           0.947   Prob(JB):                        0.227\n",
      "Kurtosis:                       4.225   Cond. No.                         16.6\n",
      "==============================================================================\n",
      "\n",
      "Notes:\n",
      "[1] Standard Errors assume that the covariance matrix of the errors is correctly specified.\n",
      "Model :  2 Lending_Interest_Rate\n",
      "0     0.111763\n",
      "1     0.111812\n",
      "2     0.157836\n",
      "3     0.100691\n",
      "4     0.131353\n",
      "5     0.169538\n",
      "6     0.134717\n",
      "7     0.103742\n",
      "8     0.086656\n",
      "9     0.071175\n",
      "10    0.069694\n",
      "11    0.070675\n",
      "12    0.073719\n",
      "13    0.077075\n",
      "Name: Lending_Interest_Rate, dtype: float64\n",
      "0     0.0188\n",
      "1     0.0050\n",
      "2     0.0589\n",
      "3     0.0403\n",
      "4     0.0238\n",
      "5     0.0240\n",
      "6     0.0750\n",
      "7     0.0384\n",
      "8     0.0323\n",
      "9     0.0233\n",
      "10    0.0279\n",
      "11    0.0202\n",
      "12    0.0137\n",
      "13    0.0140\n",
      "Name: NPL, dtype: float64\n",
      "Intercept: \n",
      " 0.00352449042529325\n",
      "Coefficients: \n",
      " [0.24907894]\n",
      "                            OLS Regression Results                            \n",
      "==============================================================================\n",
      "Dep. Variable:                    NPL   R-squared:                       0.196\n",
      "Model:                            OLS   Adj. R-squared:                  0.129\n",
      "Method:                 Least Squares   F-statistic:                     2.923\n",
      "Date:                Fri, 28 Jun 2024   Prob (F-statistic):              0.113\n",
      "Time:                        12:56:55   Log-Likelihood:                 37.909\n",
      "No. Observations:                  14   AIC:                            -71.82\n",
      "Df Residuals:                      12   BIC:                            -70.54\n",
      "Df Model:                           1                                         \n",
      "Covariance Type:            nonrobust                                         \n",
      "==============================================================================\n",
      "                 coef    std err          t      P>|t|      [0.025      0.975]\n",
      "------------------------------------------------------------------------------\n",
      "const          0.0035      0.016      0.220      0.829      -0.031       0.038\n",
      "x1             0.2491      0.146      1.710      0.113      -0.068       0.567\n",
      "==============================================================================\n",
      "Omnibus:                        1.529   Durbin-Watson:                   1.988\n",
      "Prob(Omnibus):                  0.466   Jarque-Bera (JB):                0.533\n",
      "Skew:                           0.476   Prob(JB):                        0.766\n",
      "Kurtosis:                       3.089   Cond. No.                         31.6\n",
      "==============================================================================\n",
      "\n",
      "Notes:\n",
      "[1] Standard Errors assume that the covariance matrix of the errors is correctly specified.\n",
      "Model :  3 Unemployment\n",
      "0     0.0464\n",
      "1     0.0465\n",
      "2     0.0464\n",
      "3     0.0443\n",
      "4     0.0360\n",
      "5     0.0325\n",
      "6     0.0396\n",
      "7     0.0362\n",
      "8     0.0385\n",
      "9     0.0326\n",
      "10    0.0353\n",
      "11    0.0311\n",
      "12    0.0319\n",
      "13    0.0309\n",
      "Name: Unemployment, dtype: float64\n",
      "0     0.0188\n",
      "1     0.0050\n",
      "2     0.0589\n",
      "3     0.0403\n",
      "4     0.0238\n",
      "5     0.0240\n",
      "6     0.0750\n",
      "7     0.0384\n",
      "8     0.0323\n",
      "9     0.0233\n",
      "10    0.0279\n",
      "11    0.0202\n",
      "12    0.0137\n",
      "13    0.0140\n",
      "Name: NPL, dtype: float64\n",
      "Intercept: \n",
      " -0.004936579989285945\n",
      "Coefficients: \n",
      " [0.91766778]\n",
      "                            OLS Regression Results                            \n",
      "==============================================================================\n",
      "Dep. Variable:                    NPL   R-squared:                       0.086\n",
      "Model:                            OLS   Adj. R-squared:                  0.010\n",
      "Method:                 Least Squares   F-statistic:                     1.132\n",
      "Date:                Fri, 28 Jun 2024   Prob (F-statistic):              0.308\n",
      "Time:                        12:56:56   Log-Likelihood:                 37.014\n",
      "No. Observations:                  14   AIC:                            -70.03\n",
      "Df Residuals:                      12   BIC:                            -68.75\n",
      "Df Model:                           1                                         \n",
      "Covariance Type:            nonrobust                                         \n",
      "==============================================================================\n",
      "                 coef    std err          t      P>|t|      [0.025      0.975]\n",
      "------------------------------------------------------------------------------\n",
      "const         -0.0049      0.033     -0.150      0.883      -0.077       0.067\n",
      "x1             0.9177      0.862      1.064      0.308      -0.962       2.797\n",
      "==============================================================================\n",
      "Omnibus:                        4.793   Durbin-Watson:                   1.625\n",
      "Prob(Omnibus):                  0.091   Jarque-Bera (JB):                1.948\n",
      "Skew:                           0.697   Prob(JB):                        0.378\n",
      "Kurtosis:                       4.181   Cond. No.                         174.\n",
      "==============================================================================\n",
      "\n",
      "Notes:\n",
      "[1] Standard Errors assume that the covariance matrix of the errors is correctly specified.\n",
      "Model :  4 GDP\n",
      "0     0.0698\n",
      "1     0.0813\n",
      "2     0.0466\n",
      "3     0.0512\n",
      "4     0.0642\n",
      "5     0.0624\n",
      "6     0.0325\n",
      "7     0.0542\n",
      "8     0.0598\n",
      "9     0.0668\n",
      "10    0.0621\n",
      "11    0.0681\n",
      "12    0.0708\n",
      "13    0.0730\n",
      "Name: GDP, dtype: float64\n",
      "0     0.0188\n",
      "1     0.0050\n",
      "2     0.0589\n",
      "3     0.0403\n",
      "4     0.0238\n",
      "5     0.0240\n",
      "6     0.0750\n",
      "7     0.0384\n",
      "8     0.0323\n",
      "9     0.0233\n",
      "10    0.0279\n",
      "11    0.0202\n",
      "12    0.0137\n",
      "13    0.0140\n",
      "Name: NPL, dtype: float64\n",
      "Intercept: \n",
      " 0.121391493040061\n",
      "Coefficients: \n",
      " [-1.48803999]\n",
      "                            OLS Regression Results                            \n",
      "==============================================================================\n",
      "Dep. Variable:                    NPL   R-squared:                       0.970\n",
      "Model:                            OLS   Adj. R-squared:                  0.967\n",
      "Method:                 Least Squares   F-statistic:                     382.9\n",
      "Date:                Fri, 28 Jun 2024   Prob (F-statistic):           1.80e-10\n",
      "Time:                        12:56:56   Log-Likelihood:                 60.839\n",
      "No. Observations:                  14   AIC:                            -117.7\n",
      "Df Residuals:                      12   BIC:                            -116.4\n",
      "Df Model:                           1                                         \n",
      "Covariance Type:            nonrobust                                         \n",
      "==============================================================================\n",
      "                 coef    std err          t      P>|t|      [0.025      0.975]\n",
      "------------------------------------------------------------------------------\n",
      "const          0.1214      0.005     25.431      0.000       0.111       0.132\n",
      "x1            -1.4880      0.076    -19.567      0.000      -1.654      -1.322\n",
      "==============================================================================\n",
      "Omnibus:                        0.901   Durbin-Watson:                   1.906\n",
      "Prob(Omnibus):                  0.637   Jarque-Bera (JB):                0.459\n",
      "Skew:                           0.428   Prob(JB):                        0.795\n",
      "Kurtosis:                       2.767   Cond. No.                         84.3\n",
      "==============================================================================\n",
      "\n",
      "Notes:\n",
      "[1] Standard Errors assume that the covariance matrix of the errors is correctly specified.\n"
     ]
    },
    {
     "name": "stderr",
     "output_type": "stream",
     "text": [
      "C:\\Users\\tanth_000\\anaconda3\\lib\\site-packages\\scipy\\stats\\stats.py:1603: UserWarning: kurtosistest only valid for n>=20 ... continuing anyway, n=14\n",
      "  warnings.warn(\"kurtosistest only valid for n>=20 ... continuing \"\n",
      "C:\\Users\\tanth_000\\anaconda3\\lib\\site-packages\\scipy\\stats\\stats.py:1603: UserWarning: kurtosistest only valid for n>=20 ... continuing anyway, n=14\n",
      "  warnings.warn(\"kurtosistest only valid for n>=20 ... continuing \"\n",
      "C:\\Users\\tanth_000\\anaconda3\\lib\\site-packages\\scipy\\stats\\stats.py:1603: UserWarning: kurtosistest only valid for n>=20 ... continuing anyway, n=14\n",
      "  warnings.warn(\"kurtosistest only valid for n>=20 ... continuing \"\n",
      "C:\\Users\\tanth_000\\anaconda3\\lib\\site-packages\\scipy\\stats\\stats.py:1603: UserWarning: kurtosistest only valid for n>=20 ... continuing anyway, n=14\n",
      "  warnings.warn(\"kurtosistest only valid for n>=20 ... continuing \"\n"
     ]
    }
   ],
   "source": [
    "#--------------------------------IN TỔ HỢP CÁC KẾT QUẢ HỒI QUY THEO TỪNG BIẾN\n",
    "arr = ['Inflation', 'Lending_Interest_Rate', 'Unemployment', 'GDP']\n",
    "i = 0\n",
    "# for r in range(1,5):\n",
    "for sub in (arr):\n",
    "\ti = i+1\n",
    "\tprint(\"Model : \", i, np.asarray(sub))\n",
    "\tX = df_combine[np.asarray(sub)]\n",
    "\tprint(X)\n",
    "\tY = df_combine['NPL']\n",
    "\tprint(Y)\n",
    "\tX = X.values.reshape(-1,1)\n",
    "\t# with sklearn\n",
    "\tregr = LinearRegression()\n",
    "\tregr.fit(X, Y)\n",
    "\n",
    "\tprint('Intercept: \\n', regr.intercept_)\n",
    "\tprint('Coefficients: \\n', regr.coef_)\n",
    "\n",
    "\t# with statsmodels\n",
    "\tX = sm.add_constant(X)  # adding a constant\n",
    "\tmodel = sm.OLS(Y, X).fit()\n",
    "\tprint_model = model.summary()\n",
    "\tprint(print_model)\n",
    "\n",
    "# sys.exit()"
   ]
  },
  {
   "cell_type": "code",
   "execution_count": null,
   "id": "8cd2abdc",
   "metadata": {},
   "outputs": [],
   "source": []
  }
 ],
 "metadata": {
  "kernelspec": {
   "display_name": "Python 3",
   "language": "python",
   "name": "python3"
  },
  "language_info": {
   "codemirror_mode": {
    "name": "ipython",
    "version": 3
   },
   "file_extension": ".py",
   "mimetype": "text/x-python",
   "name": "python",
   "nbconvert_exporter": "python",
   "pygments_lexer": "ipython3",
   "version": "3.8.8"
  }
 },
 "nbformat": 4,
 "nbformat_minor": 5
}
