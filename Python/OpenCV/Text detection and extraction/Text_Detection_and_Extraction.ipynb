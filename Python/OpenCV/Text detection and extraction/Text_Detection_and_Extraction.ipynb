{
 "cells": [
  {
   "cell_type": "code",
   "execution_count": 1,
   "id": "cb0f427f",
   "metadata": {},
   "outputs": [],
   "source": [
    "import cv2\n",
    "import pytesseract"
   ]
  },
  {
   "cell_type": "code",
   "execution_count": 2,
   "id": "f1a05fdd",
   "metadata": {},
   "outputs": [],
   "source": [
    "# Mention the installed location of Tesseract-OCR in your system\n",
    "pytesseract.pytesseract.tesseract_cmd = 'C:/Program Files/Tesseract-OCR/tesseract.exe'"
   ]
  },
  {
   "cell_type": "code",
   "execution_count": 10,
   "id": "6aebddf5",
   "metadata": {},
   "outputs": [],
   "source": [
    "# Read image from which text needs to be extracted\n",
    "img = cv2.imread(\"sample.jpg\")"
   ]
  },
  {
   "cell_type": "code",
   "execution_count": null,
   "id": "421bde65",
   "metadata": {},
   "outputs": [],
   "source": [
    "cv2.imshow('Sample',img)\n",
    "cv2.waitKey(0)\n",
    "cv2.destroyAllWindows()"
   ]
  },
  {
   "cell_type": "markdown",
   "id": "b34ec382",
   "metadata": {},
   "source": [
    "Preprocessing image"
   ]
  },
  {
   "cell_type": "code",
   "execution_count": 11,
   "id": "7402d196",
   "metadata": {},
   "outputs": [],
   "source": [
    "# Convert the image to gray scale\n",
    "gray = cv2.cvtColor(img, cv2.COLOR_BGR2GRAY)"
   ]
  },
  {
   "cell_type": "code",
   "execution_count": 12,
   "id": "6f967bce",
   "metadata": {},
   "outputs": [],
   "source": [
    "# Performing OTSU threshold\n",
    "ret, thresh1 = cv2.threshold(gray, 0, 255, cv2.THRESH_OTSU | cv2.THRESH_BINARY_INV)"
   ]
  },
  {
   "cell_type": "code",
   "execution_count": 13,
   "id": "79fa9b99",
   "metadata": {},
   "outputs": [],
   "source": [
    "# Specify structure shape and kernel size. \n",
    "# Kernel size increases or decreases the area of the rectangle to be detected.\n",
    "# A smaller value like (10, 10) will detect each word instead of a sentence.\n",
    "rect_kernel = cv2.getStructuringElement(cv2.MORPH_RECT, (18, 18))"
   ]
  },
  {
   "cell_type": "code",
   "execution_count": 14,
   "id": "b2512f55",
   "metadata": {},
   "outputs": [],
   "source": [
    "# Applying dilation on the threshold image\n",
    "dilation = cv2.dilate(thresh1, rect_kernel, iterations = 1)\n",
    " \n",
    "# Finding contours\n",
    "contours, hierarchy = cv2.findContours(dilation, cv2.RETR_EXTERNAL, \n",
    "                                                 cv2.CHAIN_APPROX_NONE)"
   ]
  },
  {
   "cell_type": "code",
   "execution_count": 15,
   "id": "2ec50f13",
   "metadata": {},
   "outputs": [],
   "source": [
    "# Creating a copy of image\n",
    "im2 = img.copy()\n",
    " \n",
    "# A text file is created and flushed\n",
    "file = open(\"recognized.txt\", \"w+\")\n",
    "file.write(\"\")\n",
    "file.close()"
   ]
  },
  {
   "cell_type": "code",
   "execution_count": 16,
   "id": "36a2aaeb",
   "metadata": {},
   "outputs": [],
   "source": [
    "# Looping through the identified contours then rectangular part is cropped and passed on to pytesseract for extracting text from it extracted text is then written into the text file\n",
    "for cnt in contours:\n",
    "    x, y, w, h = cv2.boundingRect(cnt)\n",
    "     \n",
    "    # Drawing a rectangle on copied image\n",
    "    rect = cv2.rectangle(im2, (x, y), (x + w, y + h), (0, 255, 0), 2)\n",
    "     \n",
    "    # Cropping the text block for giving input to OCR\n",
    "    cropped = im2[y:y + h, x:x + w]\n",
    "     \n",
    "    # Open the file in append mode\n",
    "    file = open(\"recognized.txt\", \"a\")\n",
    "     \n",
    "    # Apply OCR on the cropped image\n",
    "    text = pytesseract.image_to_string(cropped)\n",
    "     \n",
    "    # Appending the text into file\n",
    "    file.write(text)\n",
    "    file.write(\"\\n\")\n",
    "     \n",
    "    # Close the file\n",
    "    file.close"
   ]
  },
  {
   "cell_type": "code",
   "execution_count": null,
   "id": "bf4558a7",
   "metadata": {},
   "outputs": [],
   "source": []
  }
 ],
 "metadata": {
  "kernelspec": {
   "display_name": "Python 3",
   "language": "python",
   "name": "python3"
  },
  "language_info": {
   "codemirror_mode": {
    "name": "ipython",
    "version": 3
   },
   "file_extension": ".py",
   "mimetype": "text/x-python",
   "name": "python",
   "nbconvert_exporter": "python",
   "pygments_lexer": "ipython3",
   "version": "3.8.8"
  }
 },
 "nbformat": 4,
 "nbformat_minor": 5
}
