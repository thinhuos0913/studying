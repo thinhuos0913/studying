{
 "cells": [
  {
   "cell_type": "code",
   "execution_count": 264,
   "id": "571296ad",
   "metadata": {},
   "outputs": [],
   "source": [
    "import numpy as np \n",
    "import pandas as pd\n",
    "import matplotlib.pyplot as plt\n",
    "\n",
    "# np.random.seed(1)"
   ]
  },
  {
   "cell_type": "markdown",
   "id": "7a894285",
   "metadata": {},
   "source": [
    "### Define some functions"
   ]
  },
  {
   "cell_type": "code",
   "execution_count": 319,
   "id": "ebcd01a9",
   "metadata": {},
   "outputs": [],
   "source": [
    "# Linear regression y = X*w\n",
    "# def predict(X,w):\n",
    "#     return np.dot(X,w)"
   ]
  },
  {
   "cell_type": "code",
   "execution_count": 320,
   "id": "034f4cd6",
   "metadata": {},
   "outputs": [],
   "source": [
    "# Mean square error\n",
    "def cost_func(X,y,w):\n",
    "    n=len(X)\n",
    "    prediction=np.dot(X,w)\n",
    "    sum_err = (y - prediction)**2 # e = (1/n) * (y-prediction)^2 = (1/2n)*(y - X.T @ w)^2\n",
    "    return np.sum(sum_err)/(2*n)"
   ]
  },
  {
   "cell_type": "code",
   "execution_count": 344,
   "id": "2ee0c807",
   "metadata": {},
   "outputs": [],
   "source": [
    "# Gradient descent\n",
    "def update_w(X,y,w,lr):\n",
    "    n=len(X)\n",
    "    prediction=np.dot(X,w)\n",
    "    grad = -X.T @ (y-prediction) # grad's shape is the same of w\n",
    "    #b += -2*(y[i]-(X[i]*w+b))\n",
    "    grad = grad/n*lr\n",
    "    w = w - grad # w = w - *dJ/dw\n",
    "    return w"
   ]
  },
  {
   "cell_type": "code",
   "execution_count": 333,
   "id": "4418f93f",
   "metadata": {},
   "outputs": [],
   "source": [
    "# Training \n",
    "def training(X,y,w,lr,num_iter):\n",
    "    cost_history=[]\n",
    "    for i in range(num_iter):\n",
    "        w=update_w(X,y,w,lr)\n",
    "        cost=cost_func(X,y,w)\n",
    "        cost_history.append(cost)\n",
    "        \n",
    "    return w, cost_history "
   ]
  },
  {
   "cell_type": "code",
   "execution_count": 334,
   "id": "ef3276de",
   "metadata": {},
   "outputs": [],
   "source": [
    "# Feature normalize: \n",
    "def Normalize(X):\n",
    "    n = np.copy(X)\n",
    "    n[0,0] = 100\n",
    "    # std deviation for every feature x\n",
    "    s = np.std(n,0,dtype = np.float64)\n",
    "    # mean for every feature x\n",
    "    muy = np.mean(n,0)\n",
    "    n = (n-muy)/s\n",
    "    # redefine x0 = 1\n",
    "    n[:,0] = 1\n",
    "    yield n\n",
    "    yield muy\n",
    "    yield s"
   ]
  },
  {
   "cell_type": "markdown",
   "id": "752dfef6",
   "metadata": {},
   "source": [
    "### Load data"
   ]
  },
  {
   "cell_type": "code",
   "execution_count": 335,
   "id": "431365f5",
   "metadata": {},
   "outputs": [],
   "source": [
    "# Load data\n",
    "data=np.loadtxt('./Data/univariate.txt',delimiter=',')"
   ]
  },
  {
   "cell_type": "code",
   "execution_count": 336,
   "id": "41c231d6",
   "metadata": {},
   "outputs": [
    {
     "data": {
      "text/plain": [
       "(97, 2)"
      ]
     },
     "execution_count": 336,
     "metadata": {},
     "output_type": "execute_result"
    }
   ],
   "source": [
    "data.shape"
   ]
  },
  {
   "cell_type": "code",
   "execution_count": 337,
   "id": "92392c37",
   "metadata": {},
   "outputs": [],
   "source": [
    "X = data[:,0].reshape(-1,1)\n",
    "y = data[:,1].reshape(-1,1)"
   ]
  },
  {
   "cell_type": "code",
   "execution_count": 326,
   "id": "dc58acb4",
   "metadata": {},
   "outputs": [
    {
     "data": {
      "text/plain": [
       "(97, 1)"
      ]
     },
     "execution_count": 326,
     "metadata": {},
     "output_type": "execute_result"
    }
   ],
   "source": [
    "X.shape"
   ]
  },
  {
   "cell_type": "markdown",
   "id": "d70422eb",
   "metadata": {},
   "source": [
    "### Normal Equation"
   ]
  },
  {
   "cell_type": "code",
   "execution_count": 338,
   "id": "6a6e7d88",
   "metadata": {},
   "outputs": [
    {
     "name": "stdout",
     "output_type": "stream",
     "text": [
      "[[0.80252685]]\n"
     ]
    }
   ],
   "source": [
    "# w = (X.T @ X)^-1 @ (X.T @ y)\n",
    "w = np.linalg.pinv(X.T @ X) @ (X.T @ y)\n",
    "print(w)"
   ]
  },
  {
   "cell_type": "markdown",
   "id": "774dbd42",
   "metadata": {},
   "source": [
    "### Gradient descent"
   ]
  },
  {
   "cell_type": "code",
   "execution_count": 341,
   "id": "a0905c7e",
   "metadata": {},
   "outputs": [
    {
     "name": "stdout",
     "output_type": "stream",
     "text": [
      "[[-0.39675353]]\n"
     ]
    }
   ],
   "source": [
    "# Initialize w\n",
    "w = np.random.randn(X.shape[1])\n",
    "w = w.reshape(-1,1)\n",
    "print(w)"
   ]
  },
  {
   "cell_type": "code",
   "execution_count": 340,
   "id": "973c46e0",
   "metadata": {},
   "outputs": [],
   "source": [
    "\n",
    "# w=np.array([[9.3]])\n",
    "# print(w.shape)"
   ]
  },
  {
   "cell_type": "code",
   "execution_count": 342,
   "id": "8d30dc59",
   "metadata": {},
   "outputs": [],
   "source": [
    "w, loss = training(X,y,w,0.001,100)"
   ]
  },
  {
   "cell_type": "code",
   "execution_count": 343,
   "id": "e4c23b29",
   "metadata": {},
   "outputs": [
    {
     "data": {
      "text/plain": [
       "array([[0.8022806]])"
      ]
     },
     "execution_count": 343,
     "metadata": {},
     "output_type": "execute_result"
    }
   ],
   "source": [
    "w"
   ]
  },
  {
   "cell_type": "code",
   "execution_count": 345,
   "id": "5d0d9ea4",
   "metadata": {},
   "outputs": [
    {
     "data": {
      "text/plain": [
       "5.858658371484687"
      ]
     },
     "execution_count": 345,
     "metadata": {},
     "output_type": "execute_result"
    }
   ],
   "source": [
    "loss[-1]"
   ]
  },
  {
   "cell_type": "code",
   "execution_count": 346,
   "id": "6f50dd59",
   "metadata": {},
   "outputs": [
    {
     "data": {
      "image/png": "[encoded data removed]",
      "text/plain": [
       "<Figure size 432x288 with 1 Axes>"
      ]
     },
     "metadata": {
      "needs_background": "light"
     },
     "output_type": "display_data"
    }
   ],
   "source": [
    "# plot loss\n",
    "no_loop=[i for i in range(100)]\n",
    "plt.plot(no_loop,loss)\n",
    "plt.xlabel('iteration')\n",
    "plt.ylabel('loss')\n",
    "plt.show()"
   ]
  },
  {
   "cell_type": "code",
   "execution_count": 347,
   "id": "120d1155",
   "metadata": {},
   "outputs": [],
   "source": [
    "predict = np.dot(X,w)"
   ]
  },
  {
   "cell_type": "code",
   "execution_count": 349,
   "id": "6b85e53c",
   "metadata": {},
   "outputs": [
    {
     "data": {
      "text/plain": [
       "[<matplotlib.lines.Line2D at 0x1285e3a0>]"
      ]
     },
     "execution_count": 349,
     "metadata": {},
     "output_type": "execute_result"
    },
    {
     "data": {
      "image/png": "[encoded data removed]",
      "text/plain": [
       "<Figure size 432x288 with 1 Axes>"
      ]
     },
     "metadata": {
      "needs_background": "light"
     },
     "output_type": "display_data"
    }
   ],
   "source": [
    "plt.grid()\n",
    "plt.plot(X,predict)\n",
    "plt.plot(X,y,'rx')"
   ]
  },
  {
   "cell_type": "markdown",
   "id": "a5508717",
   "metadata": {},
   "source": [
    "### Bias trick\n",
    "\n",
    "y = X*w + b"
   ]
  },
  {
   "cell_type": "code",
   "execution_count": 351,
   "id": "2d159915",
   "metadata": {},
   "outputs": [
    {
     "name": "stdout",
     "output_type": "stream",
     "text": [
      "97\n"
     ]
    }
   ],
   "source": [
    "N = data.shape[0]\n",
    "print(N)"
   ]
  },
  {
   "cell_type": "code",
   "execution_count": 352,
   "id": "a215195a",
   "metadata": {},
   "outputs": [],
   "source": [
    "# Add column X0 = 1\n",
    "X = np.hstack((np.ones((N, 1)), X))"
   ]
  },
  {
   "cell_type": "code",
   "execution_count": 353,
   "id": "3a868a73",
   "metadata": {},
   "outputs": [
    {
     "data": {
      "text/plain": [
       "(97, 2)"
      ]
     },
     "execution_count": 353,
     "metadata": {},
     "output_type": "execute_result"
    }
   ],
   "source": [
    "X.shape"
   ]
  },
  {
   "cell_type": "code",
   "execution_count": 354,
   "id": "fb721cce",
   "metadata": {},
   "outputs": [
    {
     "name": "stdout",
     "output_type": "stream",
     "text": [
      "[[-0.6871727 ]\n",
      " [-0.84520564]]\n"
     ]
    }
   ],
   "source": [
    "w = np.random.randn(X.shape[1],1)\n",
    "print(w)\n",
    "# w = np.array([0.2,9.3]).reshape(-1,1)\n",
    "# print(w.shape)"
   ]
  },
  {
   "cell_type": "code",
   "execution_count": 355,
   "id": "93deb217",
   "metadata": {},
   "outputs": [],
   "source": [
    "w, loss = training(X,y,w,0.001,100)"
   ]
  },
  {
   "cell_type": "code",
   "execution_count": 356,
   "id": "42998634",
   "metadata": {},
   "outputs": [
    {
     "name": "stdout",
     "output_type": "stream",
     "text": [
      "[[-0.57692053]\n",
      " [ 0.85929588]]\n"
     ]
    }
   ],
   "source": [
    "print(w)"
   ]
  },
  {
   "cell_type": "code",
   "execution_count": 357,
   "id": "b624117d",
   "metadata": {},
   "outputs": [
    {
     "name": "stdout",
     "output_type": "stream",
     "text": [
      "5.479779019870795\n"
     ]
    },
    {
     "data": {
      "text/plain": [
       "[<matplotlib.lines.Line2D at 0x128972f8>]"
      ]
     },
     "execution_count": 357,
     "metadata": {},
     "output_type": "execute_result"
    },
    {
     "data": {
      "image/png": "[encoded data removed]",
      "text/plain": [
       "<Figure size 432x288 with 1 Axes>"
      ]
     },
     "metadata": {
      "needs_background": "light"
     },
     "output_type": "display_data"
    }
   ],
   "source": [
    "print(loss[-1])\n",
    "plt.plot(loss)"
   ]
  },
  {
   "cell_type": "code",
   "execution_count": 358,
   "id": "73618319",
   "metadata": {},
   "outputs": [],
   "source": [
    "predict = np.dot(X,w)"
   ]
  },
  {
   "cell_type": "code",
   "execution_count": 359,
   "id": "4b6f6858",
   "metadata": {},
   "outputs": [
    {
     "name": "stdout",
     "output_type": "stream",
     "text": [
      "(97, 1)\n",
      "(97, 1)\n"
     ]
    }
   ],
   "source": [
    "print(predict.shape)\n",
    "print(y.shape)"
   ]
  },
  {
   "cell_type": "code",
   "execution_count": 360,
   "id": "ac09b276",
   "metadata": {},
   "outputs": [
    {
     "data": {
      "text/plain": [
       "[<matplotlib.lines.Line2D at 0x128c4af0>]"
      ]
     },
     "execution_count": 360,
     "metadata": {},
     "output_type": "execute_result"
    },
    {
     "data": {
      "image/png": "[encoded data removed]",
      "text/plain": [
       "<Figure size 432x288 with 1 Axes>"
      ]
     },
     "metadata": {
      "needs_background": "light"
     },
     "output_type": "display_data"
    }
   ],
   "source": [
    "plt.grid()\n",
    "plt.plot(X[:,1],predict)\n",
    "plt.plot(X[:,1],y,'rx')"
   ]
  },
  {
   "cell_type": "markdown",
   "id": "a6135c11",
   "metadata": {},
   "source": [
    "### Normalize data"
   ]
  },
  {
   "cell_type": "code",
   "execution_count": 361,
   "id": "d3337238",
   "metadata": {},
   "outputs": [],
   "source": [
    "[X_norm,muy,s]=Normalize(X)"
   ]
  },
  {
   "cell_type": "code",
   "execution_count": 362,
   "id": "7baf696d",
   "metadata": {},
   "outputs": [
    {
     "data": {
      "text/plain": [
       "(97, 2)"
      ]
     },
     "execution_count": 362,
     "metadata": {},
     "output_type": "execute_result"
    }
   ],
   "source": [
    "X_norm.shape"
   ]
  },
  {
   "cell_type": "code",
   "execution_count": 373,
   "id": "96550fbf",
   "metadata": {},
   "outputs": [
    {
     "name": "stdout",
     "output_type": "stream",
     "text": [
      "[[1.65980218]\n",
      " [0.74204416]]\n"
     ]
    }
   ],
   "source": [
    "w = np.random.randn(X_norm.shape[1],1)\n",
    "print(w)\n",
    "# w = np.array([0.2,9.3]).reshape(-1,1)\n",
    "# print(w.shape)"
   ]
  },
  {
   "cell_type": "code",
   "execution_count": 374,
   "id": "8c174cce",
   "metadata": {},
   "outputs": [],
   "source": [
    "w, loss = training(X_norm,y,w,0.001,1500)"
   ]
  },
  {
   "cell_type": "code",
   "execution_count": 375,
   "id": "97455cab",
   "metadata": {},
   "outputs": [
    {
     "data": {
      "text/plain": [
       "array([[4.90729944],\n",
       "       [3.73441221]])"
      ]
     },
     "execution_count": 375,
     "metadata": {},
     "output_type": "execute_result"
    }
   ],
   "source": [
    "w"
   ]
  },
  {
   "cell_type": "code",
   "execution_count": 376,
   "id": "8e5672cb",
   "metadata": {},
   "outputs": [
    {
     "name": "stdout",
     "output_type": "stream",
     "text": [
      "5.279751994308172\n"
     ]
    },
    {
     "data": {
      "text/plain": [
       "[<matplotlib.lines.Line2D at 0x11546a60>]"
      ]
     },
     "execution_count": 376,
     "metadata": {},
     "output_type": "execute_result"
    },
    {
     "data": {
      "image/png": "[encoded data removed]",
      "text/plain": [
       "<Figure size 432x288 with 1 Axes>"
      ]
     },
     "metadata": {
      "needs_background": "light"
     },
     "output_type": "display_data"
    }
   ],
   "source": [
    "print(loss[-1])\n",
    "plt.plot(loss)"
   ]
  },
  {
   "cell_type": "code",
   "execution_count": 377,
   "id": "51e797ba",
   "metadata": {},
   "outputs": [],
   "source": [
    "predict = np.dot(X_norm,w)\n",
    "# print(predict)"
   ]
  },
  {
   "cell_type": "code",
   "execution_count": 378,
   "id": "096b7afb",
   "metadata": {},
   "outputs": [
    {
     "data": {
      "text/plain": [
       "[<matplotlib.lines.Line2D at 0x127a5fe8>]"
      ]
     },
     "execution_count": 378,
     "metadata": {},
     "output_type": "execute_result"
    },
    {
     "data": {
      "image/png": "[encoded data removed]",
      "text/plain": [
       "<Figure size 432x288 with 1 Axes>"
      ]
     },
     "metadata": {
      "needs_background": "light"
     },
     "output_type": "display_data"
    }
   ],
   "source": [
    "plt.grid()\n",
    "plt.plot(X[:,1],predict)\n",
    "# plt.plot(X[:,1],predict*s[1] + muy[1]) # inverse transform prediction values\n",
    "plt.plot(X[:,1],y,'rx')"
   ]
  },
  {
   "cell_type": "markdown",
   "id": "f0efa3a6",
   "metadata": {},
   "source": [
    "### Multivariate problem"
   ]
  },
  {
   "cell_type": "code",
   "execution_count": 415,
   "id": "aad2a856",
   "metadata": {},
   "outputs": [],
   "source": [
    "# Load data\n",
    "data=np.loadtxt('./Data/multivariate.txt',delimiter=',')"
   ]
  },
  {
   "cell_type": "code",
   "execution_count": 416,
   "id": "b872c3c9",
   "metadata": {},
   "outputs": [
    {
     "data": {
      "text/plain": [
       "(47, 3)"
      ]
     },
     "execution_count": 416,
     "metadata": {},
     "output_type": "execute_result"
    }
   ],
   "source": [
    "data.shape"
   ]
  },
  {
   "cell_type": "code",
   "execution_count": 417,
   "id": "08bbaac1",
   "metadata": {},
   "outputs": [],
   "source": [
    "X = data[:,0:2]\n",
    "y = data[:,2].reshape(-1,1)"
   ]
  },
  {
   "cell_type": "code",
   "execution_count": 418,
   "id": "c5e1a873",
   "metadata": {},
   "outputs": [
    {
     "name": "stdout",
     "output_type": "stream",
     "text": [
      "(47, 2)\n",
      "(47, 1)\n"
     ]
    }
   ],
   "source": [
    "print(X.shape)\n",
    "print(y.shape)"
   ]
  },
  {
   "cell_type": "markdown",
   "id": "80c7a332",
   "metadata": {},
   "source": [
    "### Normal Equation"
   ]
  },
  {
   "cell_type": "code",
   "execution_count": 422,
   "id": "7f828fc4",
   "metadata": {},
   "outputs": [
    {
     "name": "stdout",
     "output_type": "stream",
     "text": [
      "[[  140.86108621]\n",
      " [16978.19105904]]\n"
     ]
    },
    {
     "data": {
      "text/plain": [
       "[<matplotlib.lines.Line2D at 0x12a424c0>]"
      ]
     },
     "execution_count": 422,
     "metadata": {},
     "output_type": "execute_result"
    },
    {
     "data": {
      "image/png": "[encoded data removed]",
      "text/plain": [
       "<Figure size 432x288 with 1 Axes>"
      ]
     },
     "metadata": {
      "needs_background": "light"
     },
     "output_type": "display_data"
    }
   ],
   "source": [
    "# w = (X.T @ X)^-1 @ (X.T @ y)\n",
    "w = np.linalg.pinv(X.T @ X) @ (X.T @ y)\n",
    "print(w)\n",
    "predict = np.dot(X,w)\n",
    "plt.grid()\n",
    "plt.plot(X[:,0],predict,'bx')\n",
    "plt.plot(X[:,0],y,'rx')"
   ]
  },
  {
   "cell_type": "code",
   "execution_count": 457,
   "id": "5ed1d315",
   "metadata": {},
   "outputs": [
    {
     "name": "stdout",
     "output_type": "stream",
     "text": [
      "[[1.13162939]\n",
      " [1.51981682]]\n"
     ]
    }
   ],
   "source": [
    "w = np.random.randn(X.shape[1],1)\n",
    "print(w)"
   ]
  },
  {
   "cell_type": "code",
   "execution_count": 458,
   "id": "1ee53ba4",
   "metadata": {},
   "outputs": [],
   "source": [
    "w, loss = training(X,y,w,0.00000001,100)"
   ]
  },
  {
   "cell_type": "code",
   "execution_count": 459,
   "id": "f41214b2",
   "metadata": {},
   "outputs": [
    {
     "data": {
      "text/plain": [
       "array([[163.93239467],\n",
       "       [  1.77154996]])"
      ]
     },
     "execution_count": 459,
     "metadata": {},
     "output_type": "execute_result"
    }
   ],
   "source": [
    "w"
   ]
  },
  {
   "cell_type": "code",
   "execution_count": 460,
   "id": "6ddc5203",
   "metadata": {},
   "outputs": [
    {
     "name": "stdout",
     "output_type": "stream",
     "text": [
      "2402682358.6890798\n"
     ]
    },
    {
     "data": {
      "text/plain": [
       "[<matplotlib.lines.Line2D at 0x13bb3d18>]"
      ]
     },
     "execution_count": 460,
     "metadata": {},
     "output_type": "execute_result"
    },
    {
     "data": {
      "image/png": "[encoded data removed]",
      "text/plain": [
       "<Figure size 432x288 with 1 Axes>"
      ]
     },
     "metadata": {
      "needs_background": "light"
     },
     "output_type": "display_data"
    }
   ],
   "source": [
    "print(loss[-1])\n",
    "plt.plot(loss)"
   ]
  },
  {
   "cell_type": "code",
   "execution_count": 461,
   "id": "4e456f3b",
   "metadata": {},
   "outputs": [],
   "source": [
    "predict = np.dot(X,w)\n",
    "# print(predict)"
   ]
  },
  {
   "cell_type": "code",
   "execution_count": 462,
   "id": "0181f8ad",
   "metadata": {},
   "outputs": [
    {
     "data": {
      "text/plain": [
       "array([[344919.07304326],\n",
       "       [262297.14612774],\n",
       "       [393443.06186667],\n",
       "       [232131.81395782],\n",
       "       [491804.27022082],\n",
       "       [325412.88962706],\n",
       "       [251477.60807928],\n",
       "       [233936.84184919],\n",
       "       [226232.01929953],\n",
       "       [244920.31229233],\n",
       "       [318035.93186674],\n",
       "       [327870.1039972 ],\n",
       "       [309837.5405831 ],\n",
       "       [734098.12109846],\n",
       "       [207871.59109608],\n",
       "       [377051.59394926],\n",
       "       [216394.30406915],\n",
       "       [202625.75446652],\n",
       "       [427706.70390342],\n",
       "       [496886.17445571],\n",
       "       [289673.85603824],\n",
       "       [309507.90424379],\n",
       "       [262952.87570643],\n",
       "       [321642.44454956],\n",
       "       [637702.32993043],\n",
       "       [180330.94879091],\n",
       "       [239018.74608408],\n",
       "       [414098.54359555],\n",
       "       [360656.58293194],\n",
       "       [432295.03940433],\n",
       "       [301475.21690478],\n",
       "       [163934.16622362],\n",
       "       [334429.17133411],\n",
       "       [514261.23674116],\n",
       "       [296888.65295384],\n",
       "       [235576.16579593],\n",
       "       [203117.55165054],\n",
       "       [349510.95164408],\n",
       "       [690982.12974933],\n",
       "       [354428.92348429],\n",
       "       [272787.04783689],\n",
       "       [366886.01392953],\n",
       "       [420821.54332713],\n",
       "       [196724.18825827],\n",
       "       [139673.94336188],\n",
       "       [303609.88113546],\n",
       "       [197215.98544229]])"
      ]
     },
     "execution_count": 462,
     "metadata": {},
     "output_type": "execute_result"
    }
   ],
   "source": [
    "predict"
   ]
  },
  {
   "cell_type": "code",
   "execution_count": 463,
   "id": "23f9dafe",
   "metadata": {},
   "outputs": [
    {
     "data": {
      "text/plain": [
       "[<matplotlib.lines.Line2D at 0x13bef988>]"
      ]
     },
     "execution_count": 463,
     "metadata": {},
     "output_type": "execute_result"
    },
    {
     "data": {
      "image/png": "[encoded data removed]",
      "text/plain": [
       "<Figure size 432x288 with 1 Axes>"
      ]
     },
     "metadata": {
      "needs_background": "light"
     },
     "output_type": "display_data"
    }
   ],
   "source": [
    "plt.plot(X[:,0],predict,'b')\n",
    "plt.plot(X[:,0],y,'rx')"
   ]
  },
  {
   "cell_type": "code",
   "execution_count": 405,
   "id": "45067716",
   "metadata": {},
   "outputs": [
    {
     "name": "stdout",
     "output_type": "stream",
     "text": [
      "47\n"
     ]
    }
   ],
   "source": [
    "N = data.shape[0]\n",
    "print(N)\n",
    "# Add column X0 = 1\n",
    "X = np.hstack((np.ones((N, 1)), X))"
   ]
  },
  {
   "cell_type": "code",
   "execution_count": 406,
   "id": "fd7a0c76",
   "metadata": {},
   "outputs": [
    {
     "data": {
      "text/plain": [
       "(47, 3)"
      ]
     },
     "execution_count": 406,
     "metadata": {},
     "output_type": "execute_result"
    }
   ],
   "source": [
    "X.shape"
   ]
  },
  {
   "cell_type": "code",
   "execution_count": 407,
   "id": "3bcecb92",
   "metadata": {},
   "outputs": [
    {
     "name": "stdout",
     "output_type": "stream",
     "text": [
      "[[2.10025514]\n",
      " [0.12015895]\n",
      " [0.61720311]]\n"
     ]
    }
   ],
   "source": [
    "w = np.random.randn(X.shape[1],1)\n",
    "print(w)"
   ]
  },
  {
   "cell_type": "code",
   "execution_count": 408,
   "id": "9c210d66",
   "metadata": {},
   "outputs": [],
   "source": [
    "w, loss = training(X,y,w,0.0000001,200)"
   ]
  },
  {
   "cell_type": "code",
   "execution_count": 409,
   "id": "6d13c9e8",
   "metadata": {},
   "outputs": [
    {
     "data": {
      "text/plain": [
       "array([[  2.36246844],\n",
       "       [165.38048553],\n",
       "       [  1.18779288]])"
      ]
     },
     "execution_count": 409,
     "metadata": {},
     "output_type": "execute_result"
    }
   ],
   "source": [
    "w"
   ]
  },
  {
   "cell_type": "code",
   "execution_count": 410,
   "id": "aa444fb4",
   "metadata": {},
   "outputs": [
    {
     "name": "stdout",
     "output_type": "stream",
     "text": [
      "2397823489.253363\n"
     ]
    },
    {
     "data": {
      "text/plain": [
       "[<matplotlib.lines.Line2D at 0x11606c70>]"
      ]
     },
     "execution_count": 410,
     "metadata": {},
     "output_type": "execute_result"
    },
    {
     "data": {
      "image/png": "[encoded data removed]",
      "text/plain": [
       "<Figure size 432x288 with 1 Axes>"
      ]
     },
     "metadata": {
      "needs_background": "light"
     },
     "output_type": "display_data"
    }
   ],
   "source": [
    "print(loss[-1])\n",
    "plt.plot(loss)"
   ]
  },
  {
   "cell_type": "code",
   "execution_count": 411,
   "id": "6c152dd0",
   "metadata": {},
   "outputs": [],
   "source": [
    "predict = np.dot(X,w)"
   ]
  },
  {
   "cell_type": "code",
   "execution_count": 412,
   "id": "03de8957",
   "metadata": {},
   "outputs": [
    {
     "data": {
      "text/plain": [
       "[<matplotlib.lines.Line2D at 0x115d4190>]"
      ]
     },
     "execution_count": 412,
     "metadata": {},
     "output_type": "execute_result"
    },
    {
     "data": {
      "image/png": "[encoded data removed]",
      "text/plain": [
       "<Figure size 432x288 with 1 Axes>"
      ]
     },
     "metadata": {
      "needs_background": "light"
     },
     "output_type": "display_data"
    }
   ],
   "source": [
    "plt.plot(X[:,1],predict,'b')\n",
    "# plt.plot(X[:,1],predict*s[1] + muy[1]) # inverse transform prediction values\n",
    "plt.plot(X[:,1],y,'rx')"
   ]
  },
  {
   "cell_type": "code",
   "execution_count": 248,
   "id": "d6e61dba",
   "metadata": {},
   "outputs": [],
   "source": [
    "[X_norm,muy,s]=Normalize(X)"
   ]
  },
  {
   "cell_type": "code",
   "execution_count": 289,
   "id": "df1cd70d",
   "metadata": {},
   "outputs": [
    {
     "name": "stdout",
     "output_type": "stream",
     "text": [
      "[1.42861844e+01 7.86202619e+02 7.52842809e-01]\n",
      "[   3.10638298 2000.68085106    3.17021277]\n"
     ]
    }
   ],
   "source": [
    "X_norm.shape\n",
    "print(s)\n",
    "print(muy)"
   ]
  },
  {
   "cell_type": "code",
   "execution_count": 311,
   "id": "90cda4be",
   "metadata": {},
   "outputs": [
    {
     "name": "stdout",
     "output_type": "stream",
     "text": [
      "[[-0.12289023]\n",
      " [-0.93576943]\n",
      " [-0.26788808]]\n"
     ]
    }
   ],
   "source": [
    "w = np.random.randn(X_norm.shape[1],1)\n",
    "# w = w.reshape(-1,1)\n",
    "print(w)"
   ]
  },
  {
   "cell_type": "code",
   "execution_count": 312,
   "id": "6370be91",
   "metadata": {},
   "outputs": [],
   "source": [
    "w, loss = training(X_norm,y,w,0.001,2500)"
   ]
  },
  {
   "cell_type": "code",
   "execution_count": 313,
   "id": "1256da9f",
   "metadata": {},
   "outputs": [
    {
     "data": {
      "text/plain": [
       "array([[ 3.38130431e+05],\n",
       "       [ 1.03006181e+05],\n",
       "       [-1.78385599e+02]])"
      ]
     },
     "execution_count": 313,
     "metadata": {},
     "output_type": "execute_result"
    }
   ],
   "source": [
    "w"
   ]
  },
  {
   "cell_type": "code",
   "execution_count": 314,
   "id": "dea6a335",
   "metadata": {},
   "outputs": [
    {
     "name": "stdout",
     "output_type": "stream",
     "text": [
      "4128052106.741681\n"
     ]
    },
    {
     "data": {
      "text/plain": [
       "[<matplotlib.lines.Line2D at 0x12709340>]"
      ]
     },
     "execution_count": 314,
     "metadata": {},
     "output_type": "execute_result"
    },
    {
     "data": {
      "image/png": "[encoded data removed]",
      "text/plain": [
       "<Figure size 432x288 with 1 Axes>"
      ]
     },
     "metadata": {
      "needs_background": "light"
     },
     "output_type": "display_data"
    }
   ],
   "source": [
    "print(loss[-1])\n",
    "plt.plot(loss)"
   ]
  },
  {
   "cell_type": "code",
   "execution_count": 315,
   "id": "ef8f5e24",
   "metadata": {},
   "outputs": [
    {
     "name": "stdout",
     "output_type": "stream",
     "text": [
      "[[351707.36393144]\n",
      " [285674.62092966]\n",
      " [390488.49871026]\n",
      " [261804.37837048]\n",
      " [468861.95771535]\n",
      " [335879.35028123]\n",
      " [277027.47601277]\n",
      " [263008.61985961]\n",
      " [256850.80454   ]\n",
      " [271786.78212374]\n",
      " [329983.56965607]\n",
      " [338081.55981996]\n",
      " [323669.65162513]\n",
      " [662268.64758465]\n",
      " [242176.86165072]\n",
      " [377149.81465733]\n",
      " [249226.71303681]\n",
      " [237984.30653949]\n",
      " [417634.17495009]\n",
      " [472923.49547935]\n",
      " [307554.51791636]\n",
      " [323644.56626103]\n",
      " [286198.69031857]\n",
      " [332865.95129503]\n",
      " [585704.34607661]\n",
      " [220165.94731679]\n",
      " [267070.15762361]\n",
      " [406996.6844607 ]\n",
      " [364285.02926511]\n",
      " [421539.61000276]\n",
      " [317224.71624696]\n",
      " [207538.11125492]\n",
      " [343085.30437864]\n",
      " [487048.28361563]\n",
      " [313082.33186395]\n",
      " [264318.79333187]\n",
      " [238377.35858117]\n",
      " [355138.90032341]\n",
      " [628048.03459463]\n",
      " [359069.42074018]\n",
      " [294296.68048246]\n",
      " [369263.68845969]\n",
      " [412131.44636661]\n",
      " [233267.68203937]\n",
      " [187910.59453516]\n",
      " [318454.0431002 ]\n",
      " [233660.73408104]]\n"
     ]
    }
   ],
   "source": [
    "predict = np.dot(X_norm,w)\n",
    "print(predict)"
   ]
  },
  {
   "cell_type": "code",
   "execution_count": 318,
   "id": "7479baff",
   "metadata": {},
   "outputs": [
    {
     "data": {
      "image/png": "[encoded data removed]",
      "text/plain": [
       "<Figure size 432x288 with 1 Axes>"
      ]
     },
     "metadata": {
      "needs_background": "light"
     },
     "output_type": "display_data"
    }
   ],
   "source": [
    "plt.grid()\n",
    "plt.plot(X[:,1],predict)\n",
    "plt.plot(X[:,1],y,'rx')\n",
    "plt.show()\n",
    "# plt.plot(X,predict)\n",
    "# plt.plot(X,y)\n",
    "# plt.plot(X[:,1],predict*s[1] + muy[1]) # inverse transform prediction values\n"
   ]
  },
  {
   "cell_type": "code",
   "execution_count": null,
   "id": "dcda558f",
   "metadata": {},
   "outputs": [],
   "source": []
  }
 ],
 "metadata": {
  "kernelspec": {
   "display_name": "Python 3",
   "language": "python",
   "name": "python3"
  },
  "language_info": {
   "codemirror_mode": {
    "name": "ipython",
    "version": 3
   },
   "file_extension": ".py",
   "mimetype": "text/x-python",
   "name": "python",
   "nbconvert_exporter": "python",
   "pygments_lexer": "ipython3",
   "version": "3.8.8"
  }
 },
 "nbformat": 4,
 "nbformat_minor": 5
}
