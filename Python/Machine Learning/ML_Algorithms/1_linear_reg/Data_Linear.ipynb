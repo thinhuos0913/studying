{
 "cells": [
  {
   "cell_type": "code",
   "execution_count": 2,
   "id": "d5a7d207",
   "metadata": {},
   "outputs": [],
   "source": [
    "import numpy as np\n",
    "import pandas as pd\n",
    "import matplotlib.pyplot as plt"
   ]
  },
  {
   "cell_type": "code",
   "execution_count": 3,
   "id": "c4ab811c",
   "metadata": {},
   "outputs": [],
   "source": [
    "# Generate data\n",
    "numOfPoint = 30\n",
    "noise = np.random.normal(0,1,numOfPoint).reshape(-1,1)\n",
    "x = np.linspace(30, 100, numOfPoint).reshape(-1,1)\n",
    "N = x.shape[0]\n",
    "y = 15*x + 8 + 20*noise"
   ]
  },
  {
   "cell_type": "code",
   "execution_count": 5,
   "id": "7d124c91",
   "metadata": {},
   "outputs": [
    {
     "name": "stdout",
     "output_type": "stream",
     "text": [
      "(30, 1)\n",
      "(30, 1)\n"
     ]
    }
   ],
   "source": [
    "print(x.shape)\n",
    "print(y.shape)"
   ]
  },
  {
   "cell_type": "code",
   "execution_count": 7,
   "id": "5ecd096a",
   "metadata": {},
   "outputs": [
    {
     "data": {
      "text/plain": [
       "Text(0, 0.5, 'price')"
      ]
     },
     "execution_count": 7,
     "metadata": {},
     "output_type": "execute_result"
    },
    {
     "data": {
      "image/png": "[encoded data removed]",
      "text/plain": [
       "<Figure size 432x288 with 1 Axes>"
      ]
     },
     "metadata": {
      "needs_background": "light"
     },
     "output_type": "display_data"
    }
   ],
   "source": [
    "plt.scatter(x,y)\n",
    "plt.xlabel('m2')\n",
    "plt.ylabel('price')"
   ]
  },
  {
   "cell_type": "code",
   "execution_count": 8,
   "id": "f19efd9b",
   "metadata": {},
   "outputs": [],
   "source": [
    "x = np.hstack((np.ones((N, 1)), x)) # bias trick"
   ]
  },
  {
   "cell_type": "code",
   "execution_count": 34,
   "id": "93891732",
   "metadata": {},
   "outputs": [],
   "source": [
    "w = np.array([0.2,9.3]).reshape(-1,1) # initialize w"
   ]
  },
  {
   "cell_type": "code",
   "execution_count": 35,
   "id": "03a1c2be",
   "metadata": {},
   "outputs": [
    {
     "name": "stdout",
     "output_type": "stream",
     "text": [
      "(30, 2)\n",
      "(2, 1)\n"
     ]
    }
   ],
   "source": [
    "print(x.shape)\n",
    "print(w.shape)"
   ]
  },
  {
   "cell_type": "code",
   "execution_count": 13,
   "id": "215ee132",
   "metadata": {},
   "outputs": [],
   "source": [
    "numOfIteration = 100\n",
    "cost = np.zeros((numOfIteration,1))\n",
    "lr = 0.000001"
   ]
  },
  {
   "cell_type": "code",
   "execution_count": 12,
   "id": "b859dfbd",
   "metadata": {},
   "outputs": [
    {
     "data": {
      "text/plain": [
       "(100, 1)"
      ]
     },
     "execution_count": 12,
     "metadata": {},
     "output_type": "execute_result"
    }
   ],
   "source": [
    "cost.shape"
   ]
  },
  {
   "cell_type": "code",
   "execution_count": 36,
   "id": "286e3cec",
   "metadata": {},
   "outputs": [
    {
     "name": "stdout",
     "output_type": "stream",
     "text": [
      "[5146.23265993]\n"
     ]
    }
   ],
   "source": [
    "# Model\n",
    "for i in range(1, numOfIteration):\n",
    "    e = np.dot(x,w) - y # error\n",
    "    cost[i] = 1/2*np.sum(e*e) # mean square error\n",
    "    w[0] = w[0] - lr*np.sum(e) # w0 = w0 - lr*(dJ/dw0)\n",
    "    w[1] = w[1] - lr*np.sum(np.multiply(e,x[:,1].reshape(-1,1))) # w1 = w1 - lr*(dJ/dw1)\n",
    "print(cost[i])\n",
    "\n",
    "# plt.plot(cost)"
   ]
  },
  {
   "cell_type": "code",
   "execution_count": 41,
   "id": "71b2f841",
   "metadata": {},
   "outputs": [],
   "source": [
    "# predict[N-1]"
   ]
  },
  {
   "cell_type": "code",
   "execution_count": 42,
   "id": "d415cd6d",
   "metadata": {},
   "outputs": [
    {
     "data": {
      "image/png": "[encoded data removed]",
      "text/plain": [
       "<Figure size 432x288 with 1 Axes>"
      ]
     },
     "metadata": {
      "needs_background": "light"
     },
     "output_type": "display_data"
    }
   ],
   "source": [
    "predict = np.dot(x,w)\n",
    "\n",
    "plt.grid()\n",
    "plt.scatter(x[:,1],y)\n",
    "plt.xlabel('m2')\n",
    "plt.ylabel('price')\n",
    "plt.plot((x[0][1], x[N-1][1]),(predict[0], predict[N-1]), 'r')\n",
    "plt.show()"
   ]
  },
  {
   "cell_type": "code",
   "execution_count": 39,
   "id": "8e74f106",
   "metadata": {},
   "outputs": [
    {
     "data": {
      "text/plain": [
       "array([[ 0.28626333],\n",
       "       [15.06292257]])"
      ]
     },
     "execution_count": 39,
     "metadata": {},
     "output_type": "execute_result"
    }
   ],
   "source": [
    "w"
   ]
  },
  {
   "cell_type": "code",
   "execution_count": 40,
   "id": "ffe4d85d",
   "metadata": {},
   "outputs": [
    {
     "name": "stdout",
     "output_type": "stream",
     "text": [
      "House price with square = 70 m^2:  1054.6908431374661\n"
     ]
    }
   ],
   "source": [
    "x1 = 70\n",
    "y1 = w[0] + w[1] * x1\n",
    "print('House price with square = 70 m^2: ', y1[0])"
   ]
  },
  {
   "cell_type": "code",
   "execution_count": null,
   "id": "24dec338",
   "metadata": {},
   "outputs": [],
   "source": []
  }
 ],
 "metadata": {
  "kernelspec": {
   "display_name": "Python 3",
   "language": "python",
   "name": "python3"
  },
  "language_info": {
   "codemirror_mode": {
    "name": "ipython",
    "version": 3
   },
   "file_extension": ".py",
   "mimetype": "text/x-python",
   "name": "python",
   "nbconvert_exporter": "python",
   "pygments_lexer": "ipython3",
   "version": "3.8.8"
  }
 },
 "nbformat": 4,
 "nbformat_minor": 5
}
